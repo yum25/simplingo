{
 "cells": [
  {
   "cell_type": "markdown",
   "metadata": {},
   "source": [
    "# HF"
   ]
  },
  {
   "cell_type": "code",
   "execution_count": 3,
   "metadata": {},
   "outputs": [],
   "source": [
    "from transformers import GPT2Tokenizer, GPT2LMHeadModel"
   ]
  },
  {
   "cell_type": "code",
   "execution_count": 4,
   "metadata": {},
   "outputs": [
    {
     "data": {
      "text/plain": [
       "GPT2LMHeadModel(\n",
       "  (transformer): GPT2Model(\n",
       "    (wte): Embedding(50257, 1280)\n",
       "    (wpe): Embedding(1024, 1280)\n",
       "    (drop): Dropout(p=0.1, inplace=False)\n",
       "    (h): ModuleList(\n",
       "      (0-35): 36 x GPT2Block(\n",
       "        (ln_1): LayerNorm((1280,), eps=1e-05, elementwise_affine=True)\n",
       "        (attn): GPT2Attention(\n",
       "          (c_attn): Conv1D()\n",
       "          (c_proj): Conv1D()\n",
       "          (attn_dropout): Dropout(p=0.1, inplace=False)\n",
       "          (resid_dropout): Dropout(p=0.1, inplace=False)\n",
       "        )\n",
       "        (ln_2): LayerNorm((1280,), eps=1e-05, elementwise_affine=True)\n",
       "        (mlp): GPT2MLP(\n",
       "          (c_fc): Conv1D()\n",
       "          (c_proj): Conv1D()\n",
       "          (act): NewGELUActivation()\n",
       "          (dropout): Dropout(p=0.1, inplace=False)\n",
       "        )\n",
       "      )\n",
       "    )\n",
       "    (ln_f): LayerNorm((1280,), eps=1e-05, elementwise_affine=True)\n",
       "  )\n",
       "  (lm_head): Linear(in_features=1280, out_features=50257, bias=False)\n",
       ")"
      ]
     },
     "execution_count": 4,
     "metadata": {},
     "output_type": "execute_result"
    }
   ],
   "source": [
    "# Note: may take up to a few minutes, loads weights into memory\n",
    "# One of the potential downsides is that initial startup is slow\n",
    "tokenizer = GPT2Tokenizer.from_pretrained(\"gpt2-large\")\n",
    "model = GPT2LMHeadModel.from_pretrained(\"gpt2-large\")\n",
    "model.eval()"
   ]
  },
  {
   "cell_type": "code",
   "execution_count": 68,
   "metadata": {},
   "outputs": [
    {
     "name": "stdout",
     "output_type": "stream",
     "text": [
      "334\n",
      "Mary had a little lamb, Its fleece was white as snow, yeah. Everywhere the child went, The little lamb was sure to go, yeah. He followed her to school one day, And broke the teacher's rule. What a time did they have, That day at school. Tisket, tasket, A green and yellow basket. Sent a letter to my baby, On my way I passed it. TL;DR\n"
     ]
    }
   ],
   "source": [
    "# Use this cell for input\n",
    "input_text = \"Mary had a little lamb, Its fleece was white as snow, yeah. Everywhere the child went, The little lamb was sure to go, yeah. He followed her to school one day, And broke the teacher's rule. What a time did they have, That day at school. Tisket, tasket, A green and yellow basket. Sent a letter to my baby, On my way I passed it. TL;DR\"\n",
    "len_input = len(input_text)\n",
    "print(len_input)\n",
    "print(input_text)"
   ]
  },
  {
   "cell_type": "code",
   "execution_count": 69,
   "metadata": {},
   "outputs": [
    {
     "name": "stderr",
     "output_type": "stream",
     "text": [
      "/Users/megha/tf/env/lib/python3.10/site-packages/transformers/generation/configuration_utils.py:367: UserWarning: `do_sample` is set to `False`. However, `top_p` is set to `0.95` -- this flag is only used in sample-based generation modes. You should set `do_sample=True` or unset `top_p`.\n",
      "  warnings.warn(\n",
      "The attention mask and the pad token id were not set. As a consequence, you may observe unexpected behavior. Please pass your input's `attention_mask` to obtain reliable results.\n",
      "Setting `pad_token_id` to `eos_token_id`:50256 for open-end generation.\n"
     ]
    },
    {
     "name": "stdout",
     "output_type": "stream",
     "text": [
      "I'm not sure if this is an actual quote or not, but it's one of my favorite quotes from the book.\n"
     ]
    }
   ],
   "source": [
    "encoded = tokenizer.encode(input_text, return_tensors='pt')\n",
    "length_encoded = len(encoded[0])\n",
    "# features_output = model(tokenizer(input_text, return_tensors='pt))\n",
    "\n",
    "# Note: mess around with generate parameters; I haven't really done that with this particular model before\n",
    "output = model.generate(encoded, max_new_tokens = length_encoded, num_beams=5, no_repeat_ngram_size=2, top_k=50, top_p=0.95)\n",
    "text_output = tokenizer.decode(output[0], skip_special_tokens=True)\n",
    "print(text_output[len_input+2:])"
   ]
  },
  {
   "cell_type": "markdown",
   "metadata": {},
   "source": [
    "# Google"
   ]
  },
  {
   "cell_type": "markdown",
   "metadata": {},
   "source": [
    "## Model init"
   ]
  },
  {
   "cell_type": "code",
   "execution_count": 1,
   "metadata": {},
   "outputs": [],
   "source": [
    "import google.generativeai as genai\n",
    "import os\n",
    "cwd = os.getcwd()\n",
    "if os.path.basename(os.path.normpath(cwd)) == \"models\":\n",
    "    os.chdir(\"..\")\n",
    "from credentials import GEN_AI_KEY"
   ]
  },
  {
   "cell_type": "code",
   "execution_count": 2,
   "metadata": {},
   "outputs": [],
   "source": [
    "genai.configure(api_key=\"GEN_AI_KEY\")"
   ]
  },
  {
   "cell_type": "code",
   "execution_count": 3,
   "metadata": {},
   "outputs": [],
   "source": [
    "safety_settings = [\n",
    "    {\n",
    "        \"category\": \"HARM_CATEGORY_HARASSMENT\",\n",
    "        \"threshold\": \"BLOCK_NONE\"\n",
    "    },\n",
    "    {\n",
    "        \"category\": \"HARM_CATEGORY_HATE_SPEECH\",\n",
    "        \"threshold\": \"BLOCK_NONE\"\n",
    "    },\n",
    "    {\n",
    "        \"category\": \"HARM_CATEGORY_SEXUALLY_EXPLICIT\",\n",
    "        \"threshold\": \"BLOCK_NONE\"\n",
    "    },\n",
    "    {\n",
    "        \"category\": \"HARM_CATEGORY_DANGEROUS_CONTENT\",\n",
    "        \"threshold\": \"BLOCK_NONE\"\n",
    "    }\n",
    "]"
   ]
  },
  {
   "cell_type": "code",
   "execution_count": 4,
   "metadata": {},
   "outputs": [],
   "source": [
    "model = genai.GenerativeModel(model_name='gemini-pro',\n",
    "                              safety_settings=safety_settings)"
   ]
  },
  {
   "cell_type": "code",
   "execution_count": 5,
   "metadata": {},
   "outputs": [],
   "source": [
    "def gen_out(input):\n",
    "    return model.generate_content(input).text"
   ]
  },
  {
   "cell_type": "markdown",
   "metadata": {},
   "source": [
    "## Prelim testing"
   ]
  },
  {
   "cell_type": "code",
   "execution_count": 7,
   "metadata": {},
   "outputs": [],
   "source": [
    "cn_message = '骗术不断翻新，防不胜防。\\n以下事件发生在美国，也可能会在台湾。 \\n这是黄美敬先生（圣德兰校董会主席）的一位银行朋友关于送货员上门诈骗的文章，可花点时间阅读：\\n这个骗局其实设计得很巧妙，你不会怀疑有什么不对：\\n以下是事件的叙述。\\n《一周前的星期三，我接到一个人的电话，他说他来自一家名为〈Express Couriers〉的公司，他问我是否要回家，因为我有一个需要签名的包裹。\\n打电话的人说快递会在大约一个小时内送到我家。果然，大约一个小时后，一个穿制服的送货员出现了，带着一个包裹和一瓶酒。 \\n我很惊讶，因为没有特殊的场合，我当然没想到会有这样的事情发生。我很好奇，询问发件人是谁。\\n快递员说：\\n“不知道，我只是送包裹。\\n貌似他说寄件人要给你一个惊喜，会单独寄一张卡片……，”正好我生日也在路上，所以我们认为可能是远方朋友寄来的，礼物上还有一张托运单。\\n然后他继续解释说，由于礼物中含有酒精，因此需要支付 7.50 美元的 “送货/验证费”，以证明他确实将包裹交给了一名成年人（达到法定饮酒年龄），而不仅仅是把它留在了 可能被任何人（尤其是未成年人）偷走或带走的门阶。'"
   ]
  },
  {
   "cell_type": "code",
   "execution_count": 6,
   "metadata": {},
   "outputs": [
    {
     "ename": "NameError",
     "evalue": "name 'cn_message' is not defined",
     "output_type": "error",
     "traceback": [
      "\u001b[0;31m---------------------------------------------------------------------------\u001b[0m",
      "\u001b[0;31mNameError\u001b[0m                                 Traceback (most recent call last)",
      "Cell \u001b[0;32mIn[6], line 1\u001b[0m\n\u001b[0;32m----> 1\u001b[0m response \u001b[38;5;241m=\u001b[39m model\u001b[38;5;241m.\u001b[39mgenerate_content(\u001b[38;5;124m'\u001b[39m\u001b[38;5;124mTranslate the following text into simple en: \u001b[39m\u001b[38;5;124m'\u001b[39m \u001b[38;5;241m+\u001b[39m \u001b[43mcn_message\u001b[49m)\n",
      "\u001b[0;31mNameError\u001b[0m: name 'cn_message' is not defined"
     ]
    }
   ],
   "source": [
    "response = model.generate_content('Translate the following text into simple en: ' + cn_message)"
   ]
  },
  {
   "cell_type": "code",
   "execution_count": 34,
   "metadata": {},
   "outputs": [
    {
     "data": {
      "text/plain": [
       "'Scams keep reinventing themselves and are hard to prevent. \\nThe following incident happened in the US and could also happen in Taiwan. \\nThis is an article about a delivery scam from Mr. Huang Meijing (chairman of the St. Teresa School Board of Directors) and a friend of his in banking. Please take some time to read it:\\nActually, the scam was very cleverly designed and you would not suspect anything wrong:\\nHere is the story of the incident.\\n“Last Wednesday, I received a phone call from a person who claimed to be from a company called “Express Couriers” and asked if I was going to be home because I had a package that needed to be signed for.\\nThe caller said the delivery would arrive at my home in about an hour. Sure enough, about an hour later, a uniformed delivery man showed up with a package and a bottle of wine. \\nI was surprised because I was not expecting anything like this, as there was no special occasion. I was curious and asked who the sender was.\\nThe delivery man said: \\n“I don’t know, I just deliver the packages. \\nHe said it seems like the sender wanted to give you a surprise and would send a separate card……”\\nMy birthday happened to be just around the corner, so we figured it must have been from a friend out of town and a shipping slip was attached to the gift.\\nHe then went on to explain that because the gift contained alcohol, there was a “delivery/verification fee” of US$7.50 that needed to be paid to prove that he had actually handed the package to an adult (of legal drinking age) and not just left it on the doorstep where it could have been stolen or taken by anyone (especially a minor).'"
      ]
     },
     "execution_count": 34,
     "metadata": {},
     "output_type": "execute_result"
    }
   ],
   "source": [
    "response.text"
   ]
  },
  {
   "cell_type": "code",
   "execution_count": 35,
   "metadata": {},
   "outputs": [],
   "source": [
    "response = model.generate_content('Translate the following text into en: ' + cn_message)"
   ]
  },
  {
   "cell_type": "code",
   "execution_count": 36,
   "metadata": {},
   "outputs": [
    {
     "data": {
      "text/plain": [
       "'The trick keeps on changing and is hard to prevent. The following event happened in the USA and it might also happen in Taiwan. Here is an article about a delivery scam by banker friend of Mr. Huang Meijing (Chairperson of the St. Teresa School Board of Directors), please spend some time reading: This scam is actually very well designed; you won’t suspect anything is wrong: Below is the description of the event. “Last Wednesday, I received a phone call from a person who claimed to be from a company called Express Couriers asking me if I would be home because I had a package that required a signature. The caller said the delivery would arrive at my home in about an hour. Sure enough, about an hour later, a uniformed delivery man showed up with a package and a bottle of wine. I was quite surprised since there was no special occasion and certainly, would not have expected anything like this to happen. I was curious and asked who the sender was. The deliveryman said: “I don’t know, I just deliver the packages. It looks like the sender wanted to surprise you and sent a card separately…” As it happened to be close to my birthday, we figured it was from one of our friends out-of-town and a packing slip was attached to the gift. He then went on to explain that since the package contained alcohol, there was a “delivery/verification fee” of $7.50 that I needed to pay to prove that he had, in fact, delivered the package to an adult (of legal drinking age) and not just left it on the doorstep where it could have been stolen or taken by anyone (especially a minor).'"
      ]
     },
     "execution_count": 36,
     "metadata": {},
     "output_type": "execute_result"
    }
   ],
   "source": [
    "response.text"
   ]
  },
  {
   "cell_type": "code",
   "execution_count": 8,
   "metadata": {},
   "outputs": [],
   "source": [
    "lit_text = (\n",
    "    '“红色联合”对“四·二八兵团”总部大楼的攻击已持续了两天，他们的旗帜在大楼周围躁动地飘扬着，仿佛渴望干柴的火种。\\n'\n",
    "\t'“红色联合”的指挥官心急如焚，他并不惧怕大楼的守卫者，那二百多名“四·二八”战士，与诞生于l966年初、'\n",
    "    '经历过大检阅和大串联的“红色联合”相比要稚嫩许多。他怕的是大楼中那十几个大铁炉子，里面塞满了烈性炸药，'\n",
    "    '用电雷管串联起来，他看不到它们，但能感觉到它们磁石般的存在，开关一合，玉石俱焚，而“四·二八”的那些小红卫兵们是有这个精神力量的。'\n",
    "    '比起已经在风雨中成熟了许多的第一代红卫兵，新生的造反派们像火炭上的狼群，除了疯狂还是疯狂。\\n'\n",
    "\t'大楼顶上出现了一个娇小的身影，那个美丽的女孩子挥动着一面“四·二八”的大旗，她的出现立刻招来了一阵杂乱的枪声，'\n",
    "    '射击的武器五花八门，有陈旧的美式卡宾枪、捷克式机枪和三八大盖，'\n",
    "    '也有崭新的制式步枪和冲锋枪——后者是在“八月社论”发表之后从军队中偷抢来的——连同那些梭标和大刀等冷兵器，'\n",
    "    '构成了一部浓缩的近现代史……“四·二八”的人在前面多次玩过这个游戏，在楼顶上站出来的人，除了挥舞旗帜外，'\n",
    "    '有时还用喇叭筒喊口号或向下撒传单，每次他们都能在弹雨中全身而退，为自己挣到了崇高的荣誉。'\n",
    "    '这次出来的女孩儿显然也相信自己还有那样的幸运。她挥舞着战旗，挥动着自己燃烧的青春，敌人将在这火焰中化为灰烬，'\n",
    "    '理想世界明天就会在她那沸腾的热血中诞生……她陶醉在这鲜红灿烂的梦幻中，直到被一颗步枪子弹洞穿了胸膛，十五岁少女的胸膛是那么柔嫩，'\n",
    "    '那颗子弹穿过后基本上没有减速，在她身后的空中发出一声啾鸣。年轻的红卫兵同她的旗帜一起从楼顶落下，她那轻盈的身体落得甚至比旗帜还慢，'\n",
    "    '仿佛小鸟眷恋着天空。'\n",
    "    )"
   ]
  },
  {
   "cell_type": "code",
   "execution_count": 6,
   "metadata": {},
   "outputs": [],
   "source": [
    "trans = model.generate_content(\"Translate this text to en: \" + lit_text)"
   ]
  },
  {
   "cell_type": "code",
   "execution_count": 14,
   "metadata": {},
   "outputs": [],
   "source": [
    "transimp = model.generate_content(\"Translate this text into a simple paraphrase in en: \" + lit_text)"
   ]
  },
  {
   "cell_type": "code",
   "execution_count": 7,
   "metadata": {},
   "outputs": [
    {
     "name": "stdout",
     "output_type": "stream",
     "text": [
      "The \"Red Alliance\"'s attack on the headquarters of the \"April 28th Corps\" has lasted for two days. Their flags fluttered around the building as if they were tinder-dry kindling longing for a spark. The commander of the \"Red Alliance\" was anxious. He was not afraid of the building's guards, the 200 or so \"April 28th\" soldiers who, compared to the \"Red Alliance\" which was born in early 1966 and had experienced the grand review and the great exchange of revolutionary experiences, were much more immature. What he feared were the dozen or so cast iron stoves in the building, which were stuffed full of powerful explosives and connected by electric detonators. He couldn't see them, but he could feel their magnetic presence. If the switch was closed, everyone would perish together, and those little Red Guards of the \"April 28th\" had the moral strength to do it. Compared to the first generation of Red Guards who had already matured in the storm, these newly emerged rebels were like wolves on the coals, frenzied. A petite figure appeared on the top of the building. The beautiful girl waved a large flag of the \"April 28th\". Her appearance immediately drew a mixed barrage of gunshots. The weapons ranged from old American carbines, Czech machine guns, and Type 38 bolt-action rifles to brand-new standard rifles and submachine guns; the latter had been stolen from the army after the publication of the \"August Editorial\", along with cold weapons like harpoons and broadswords, which was a condensed history of modern and contemporary times … The \"April 28th\" people had repeatedly played this game before. Aside from waving the flag, people who stood out on the building's roof would sometimes use a loudspeaker to shout slogans or scatter leaflets below. Every time, they were able to escape unscathed through the hail of bullets and earned great honor for themselves. The girl who came out this time evidently also believed that she still had such good luck. She waved the battle flag and her own burning youth. The enemy would be reduced to ashes in this flame, and the ideal world would be born tomorrow in her surging blood … She was intoxicated in this bright, crimson dream, until she was pierced in the chest by a rifle bullet. The chest of a fifteen-year-old girl was so soft, and the bullet passed through almost without slowing down, whistling in the air behind her. The young Red Guard fell from the roof along with her flag. Her lithe body fell even more slowly than the flag, as if a small bird was longing for the sky.\n"
     ]
    }
   ],
   "source": [
    "try:\n",
    "    print(trans.text)\n",
    "except:\n",
    "    print(trans.prompt_feedback)\n",
    "    print(trans.candidates)\n"
   ]
  },
  {
   "cell_type": "code",
   "execution_count": 48,
   "metadata": {},
   "outputs": [
    {
     "data": {
      "text/plain": [
       "block_reason: SAFETY\n",
       "safety_ratings {\n",
       "  category: HARM_CATEGORY_SEXUALLY_EXPLICIT\n",
       "  probability: NEGLIGIBLE\n",
       "}\n",
       "safety_ratings {\n",
       "  category: HARM_CATEGORY_HATE_SPEECH\n",
       "  probability: LOW\n",
       "}\n",
       "safety_ratings {\n",
       "  category: HARM_CATEGORY_HARASSMENT\n",
       "  probability: MEDIUM\n",
       "}\n",
       "safety_ratings {\n",
       "  category: HARM_CATEGORY_DANGEROUS_CONTENT\n",
       "  probability: NEGLIGIBLE\n",
       "}"
      ]
     },
     "execution_count": 48,
     "metadata": {},
     "output_type": "execute_result"
    }
   ],
   "source": [
    "trans.prompt_feedback"
   ]
  },
  {
   "cell_type": "code",
   "execution_count": 42,
   "metadata": {},
   "outputs": [
    {
     "data": {
      "text/plain": [
       "\"The Red Alliance has been attacking the headquarters of the April 28th Group for two days now. Their flags wave anxiously around the building, like sparks itching to ignite a fire.\\n\\nThe Red Alliance commander is impatient. He's not afraid of the building's defenders—two hundred April 28th soldiers, who pale in experience compared to the Red Alliance, which was formed in early 1966 and has already weathered grand parades and mass rallies. His fear lies in the building's dozen large iron furnaces, packed with powerful explosives and wired together. He can't see them, but he feels their magnetic presence. If the switch is flipped, everyone will perish, and the young Red Guards of the April 28th Group have the courage to do it. Unlike the first generation of Red Guards, who have matured amidst the storms, these new rebels are like wolves on hot coals, burning with untamed fervor.\\n\\nA petite figure appears on the roof of the building. A beautiful young girl waves a large April 28th flag. Her appearance is met with a barrage of gunfire from a chaotic array of weapons: antique American carbines, Czech machine guns, Type 38 rifles, modern assault rifles and submachine guns—the latter stolen from the military after the publication of the August communique—as well as spears and swords. It's a condensed history of modern warfare... The April 28th Group has played this game many times before. A person standing on the roof, waving a flag, sometimes shouting slogans or dropping leaflets. Each time they have escaped the hail of bullets unscathed, earning great honor. The girl who steps out this time clearly believes she will be just as fortunate. She waves the banner, her own youthful passion alight, believing that the enemy will be consumed by its flames and that an ideal world will be born from her boiling blood... She is lost in this vivid, crimson fantasy until a rifle bullet pierces her chest. The chest of the fifteen-year-old girl is so soft that the bullet barely slows down as it passes through her, emitting a whistling sound as it exits. The young Red Guard falls from the roof with her flag, her light body descending even more slowly than the cloth, as if a small bird clinging to the sky.\""
      ]
     },
     "execution_count": 42,
     "metadata": {},
     "output_type": "execute_result"
    }
   ],
   "source": [
    "transimp.text"
   ]
  },
  {
   "cell_type": "code",
   "execution_count": 49,
   "metadata": {},
   "outputs": [
    {
     "data": {
      "text/plain": [
       "safety_ratings {\n",
       "  category: HARM_CATEGORY_SEXUALLY_EXPLICIT\n",
       "  probability: NEGLIGIBLE\n",
       "}\n",
       "safety_ratings {\n",
       "  category: HARM_CATEGORY_HATE_SPEECH\n",
       "  probability: LOW\n",
       "}\n",
       "safety_ratings {\n",
       "  category: HARM_CATEGORY_HARASSMENT\n",
       "  probability: LOW\n",
       "}\n",
       "safety_ratings {\n",
       "  category: HARM_CATEGORY_DANGEROUS_CONTENT\n",
       "  probability: NEGLIGIBLE\n",
       "}"
      ]
     },
     "execution_count": 49,
     "metadata": {},
     "output_type": "execute_result"
    }
   ],
   "source": [
    "transimp.prompt_feedback"
   ]
  },
  {
   "cell_type": "code",
   "execution_count": 51,
   "metadata": {},
   "outputs": [],
   "source": [
    "trunc_text = (\n",
    "    '“红色联合”对“四·二八兵团”总部大楼的攻击已持续了两天，他们的旗帜在大楼周围躁动地飘扬着，仿佛渴望干柴的火种。\\n'\n",
    "\t'“红色联合”的指挥官心急如焚，他并不惧怕大楼的守卫者，那二百多名“四·二八”战士，与诞生于l966年初、'\n",
    "    '经历过大检阅和大串联的“红色联合”相比要稚嫩许多。他怕的是大楼中那十几个大铁炉子，里面塞满了烈性炸药，'\n",
    "    '用电雷管串联起来，他看不到它们，但能感觉到它们磁石般的存在，开关一合，玉石俱焚，而“四·二八”的那些小红卫兵们是有这个精神力量的。'\n",
    "    '比起已经在风雨中成熟了许多的第一代红卫兵，新生的造反派们像火炭上的狼群，除了疯狂还是疯狂。\\n')"
   ]
  },
  {
   "cell_type": "code",
   "execution_count": 52,
   "metadata": {},
   "outputs": [],
   "source": [
    "transtrunc = model.generate_content('Translate this text into en: ' + trunc_text)"
   ]
  },
  {
   "cell_type": "code",
   "execution_count": 54,
   "metadata": {},
   "outputs": [
    {
     "name": "stdout",
     "output_type": "stream",
     "text": [
      "“Red United” had been attacking the headquarters of the “April 28th Corps” for two days; its flags fluttered restlessly around the building like a fire awaiting dry tinder. The commander of “Red United” was anxious. He was not afraid of the defenders of the building, the two hundred soldiers of the “April 28th”, who were much younger than the “Red United” which had been born in early 1966 and had experienced parades and mass rallies. He was afraid of the dozen big iron stoves in the building, which were filled with high explosives and were connected by electric fuses. He could not see them, but he could sense their magnetic presence. If the switch was turned on, all would be burned to ashes, and the “April 28th” Red Guards had the strength of spirit to do it. Compared with the first generation of Red Guards, which had already matured in the storms, the new rebels were like wolves on a bed of coals, nothing but madness and fury.\n"
     ]
    }
   ],
   "source": [
    "print(transtrunc.text)"
   ]
  },
  {
   "cell_type": "code",
   "execution_count": 9,
   "metadata": {},
   "outputs": [],
   "source": [
    "model.generate_content(\"Paraphrase this text simply: Risks and discomforts: There are no known risks associated with your participation in this research beyond those of everyday life. To minimize the risk of a breach of confidentiality, we collect only personal identifying information that is needed to provide participation incentives, as needed. Study staff will protect your personal information closely so no one will be able to connect your responses to any other information that identifies you. Federal or state laws may require us to show information to university or government officials, or sponsors, who are responsible for monitoring the safety and ethical practices of this study. Directly identifying information (e.g. names, addresses) will be safeguarded and maintained under controlled conditions. You will not be identified in any publication or openly shared data generated from this study.\").text"
   ]
  },
  {
   "cell_type": "code",
   "execution_count": 9,
   "metadata": {},
   "outputs": [],
   "source": [
    "text = \"Richardson's action impressed Duncan, who in January 1798 took him to serve on his flagship, the 74-gun ship of the line HMS Venerable. Richardson then transferred with Duncan to the 74-gun ship of the line HMS Kent on 6 March, becoming his flag lieutenant there.[9][29] In 1799 Kent was sent to support the Anglo-Russian invasion of Holland and Richardson was sent ashore with a contingent of seamen, with which he controlled a gun battery attached to the army of Lieutenant-General Sir Ralph Abercromby. He fought with his men at the landings of the army and the Battle of Callantsoog on 27 August.[9][30][31] The Dutch admiral Samuel Story surrendered his fleet in the Vlieter Incident on 30 August, in which Richardson saw some action. He was given command of a captured Dutch 68-gun ship of the line, and sailed her to England, afterwards rejoining Kent.[9][30][32]\""
   ]
  },
  {
   "cell_type": "code",
   "execution_count": 6,
   "metadata": {},
   "outputs": [
    {
     "ename": "NameError",
     "evalue": "name 'text' is not defined",
     "output_type": "error",
     "traceback": [
      "\u001b[0;31m---------------------------------------------------------------------------\u001b[0m",
      "\u001b[0;31mNameError\u001b[0m                                 Traceback (most recent call last)",
      "Cell \u001b[0;32mIn[6], line 1\u001b[0m\n\u001b[0;32m----> 1\u001b[0m model\u001b[38;5;241m.\u001b[39mgenerate_content(\u001b[38;5;124m\"\u001b[39m\u001b[38;5;124mTranslate this text into it: \u001b[39m\u001b[38;5;124m\"\u001b[39m \u001b[38;5;241m+\u001b[39m \u001b[43mtext\u001b[49m)\u001b[38;5;241m.\u001b[39mtext\n",
      "\u001b[0;31mNameError\u001b[0m: name 'text' is not defined"
     ]
    }
   ],
   "source": [
    "model.generate_content(\"Translate this text into it: \" + text).text"
   ]
  },
  {
   "cell_type": "markdown",
   "metadata": {},
   "source": [
    "# Outputs testing"
   ]
  },
  {
   "cell_type": "code",
   "execution_count": 7,
   "metadata": {},
   "outputs": [],
   "source": [
    "prompt = \"Paraphrase this text simply: \""
   ]
  },
  {
   "cell_type": "code",
   "execution_count": 8,
   "metadata": {},
   "outputs": [],
   "source": [
    "lit_text = (\"A girl stood before him in midstream, alone and still, gazing out to sea. She seemed like one whom magic had changed \"\n",
    "            \"into the likeness of a strange and beautiful seabird. Her long slender bare legs were delicate as a crane’s and pure \"\n",
    "            \"save where an emerald trail of seaweed had fashioned itself as a sign upon the flesh. Her thighs, fuller and softhued \"\n",
    "            \"as ivory, were bared almost to the hips where the white fringes of her drawers were like featherings of soft white down. \"\n",
    "            \"Her slateblue skirts were kilted boldly about her waist and dovetailed behind her. Her bosom was as a bird’s soft and \"\n",
    "            \"slight, slight and soft as the breast of some darkplumaged dove. But her long fair hair was girlish: and girlish, and \"\n",
    "            \"touched with the wonder of mortal beauty, her face.\\n\"\n",
    "            \"She was alone and still, gazing out to sea: and when she felt his presence and the worship of his eyes her eyes turned \"\n",
    "            \"to him in quiet sufferance of his gaze, without shame or wantonness. Long, long she suffered his gaze and then quietly \"\n",
    "            \"withdrew her eyes from his and bent them towards the stream, gently stirring the water with her foot hither and thither. \"\n",
    "            \"The first faint noise of gently moving water broke the silence, low and faint and whispering, faint as the bells of sleep; \"\n",
    "            \"hither and thither, hither and thither: and a faint flame trembled on her cheek.\\n\"\n",
    "            \"––Heavenly God! cried Stephen’s soul, in an outburst of profane joy.\\n\"\n",
    "            \"He turned away from her suddenly and set off across the strand. His cheeks were aflame; his body was aglow; his limbs were \"\n",
    "            \"trembling. On and on and on and on he strode, far out over the sands, singing wildly to the sea, crying to greet the advent \"\n",
    "            \"of the life that had cried to him.\\n\"\n",
    "            \"Her image had passed into his soul for ever and no word had broken the holy silence of his ecstasy. Her eyes had called him \"\n",
    "            \"and his soul had leaped at the call. To live, to err, to fall, to triumph, to recreate life out of life! A wild angel had \"\n",
    "            \"appeared to him, the angel of mortal youth and beauty, an envoy from the fair courts of life, to throw open before him in an \"\n",
    "            \"instant of ecstasy the gates of all the ways of error and glory. On and on and on and on!\")"
   ]
  },
  {
   "cell_type": "code",
   "execution_count": 14,
   "metadata": {},
   "outputs": [
    {
     "ename": "KeyboardInterrupt",
     "evalue": "",
     "output_type": "error",
     "traceback": [
      "\u001b[0;31m---------------------------------------------------------------------------\u001b[0m",
      "\u001b[0;31m_InactiveRpcError\u001b[0m                         Traceback (most recent call last)",
      "File \u001b[0;32m~/EECS/EECS495/simplingo/env/lib/python3.11/site-packages/google/api_core/grpc_helpers.py:76\u001b[0m, in \u001b[0;36m_wrap_unary_errors.<locals>.error_remapped_callable\u001b[0;34m(*args, **kwargs)\u001b[0m\n\u001b[1;32m     75\u001b[0m \u001b[38;5;28;01mtry\u001b[39;00m:\n\u001b[0;32m---> 76\u001b[0m     \u001b[38;5;28;01mreturn\u001b[39;00m \u001b[43mcallable_\u001b[49m\u001b[43m(\u001b[49m\u001b[38;5;241;43m*\u001b[39;49m\u001b[43margs\u001b[49m\u001b[43m,\u001b[49m\u001b[43m \u001b[49m\u001b[38;5;241;43m*\u001b[39;49m\u001b[38;5;241;43m*\u001b[39;49m\u001b[43mkwargs\u001b[49m\u001b[43m)\u001b[49m\n\u001b[1;32m     77\u001b[0m \u001b[38;5;28;01mexcept\u001b[39;00m grpc\u001b[38;5;241m.\u001b[39mRpcError \u001b[38;5;28;01mas\u001b[39;00m exc:\n",
      "File \u001b[0;32m~/EECS/EECS495/simplingo/env/lib/python3.11/site-packages/grpc/_channel.py:1160\u001b[0m, in \u001b[0;36m_UnaryUnaryMultiCallable.__call__\u001b[0;34m(self, request, timeout, metadata, credentials, wait_for_ready, compression)\u001b[0m\n\u001b[1;32m   1154\u001b[0m (\n\u001b[1;32m   1155\u001b[0m     state,\n\u001b[1;32m   1156\u001b[0m     call,\n\u001b[1;32m   1157\u001b[0m ) \u001b[38;5;241m=\u001b[39m \u001b[38;5;28mself\u001b[39m\u001b[38;5;241m.\u001b[39m_blocking(\n\u001b[1;32m   1158\u001b[0m     request, timeout, metadata, credentials, wait_for_ready, compression\n\u001b[1;32m   1159\u001b[0m )\n\u001b[0;32m-> 1160\u001b[0m \u001b[38;5;28;01mreturn\u001b[39;00m \u001b[43m_end_unary_response_blocking\u001b[49m\u001b[43m(\u001b[49m\u001b[43mstate\u001b[49m\u001b[43m,\u001b[49m\u001b[43m \u001b[49m\u001b[43mcall\u001b[49m\u001b[43m,\u001b[49m\u001b[43m \u001b[49m\u001b[38;5;28;43;01mFalse\u001b[39;49;00m\u001b[43m,\u001b[49m\u001b[43m \u001b[49m\u001b[38;5;28;43;01mNone\u001b[39;49;00m\u001b[43m)\u001b[49m\n",
      "File \u001b[0;32m~/EECS/EECS495/simplingo/env/lib/python3.11/site-packages/grpc/_channel.py:1003\u001b[0m, in \u001b[0;36m_end_unary_response_blocking\u001b[0;34m(state, call, with_call, deadline)\u001b[0m\n\u001b[1;32m   1002\u001b[0m \u001b[38;5;28;01melse\u001b[39;00m:\n\u001b[0;32m-> 1003\u001b[0m     \u001b[38;5;28;01mraise\u001b[39;00m _InactiveRpcError(state)\n",
      "\u001b[0;31m_InactiveRpcError\u001b[0m: <_InactiveRpcError of RPC that terminated with:\n\tstatus = StatusCode.UNAVAILABLE\n\tdetails = \"failed to connect to all addresses; last error: UNKNOWN: ipv6:%5B2607:f8b0:4009:803::200a%5D:443: Network is unreachable\"\n\tdebug_error_string = \"UNKNOWN:Error received from peer  {created_time:\"2024-03-29T10:45:08.031100399-04:00\", grpc_status:14, grpc_message:\"failed to connect to all addresses; last error: UNKNOWN: ipv6:%5B2607:f8b0:4009:803::200a%5D:443: Network is unreachable\"}\"\n>",
      "\nThe above exception was the direct cause of the following exception:\n",
      "\u001b[0;31mServiceUnavailable\u001b[0m                        Traceback (most recent call last)",
      "File \u001b[0;32m~/EECS/EECS495/simplingo/env/lib/python3.11/site-packages/google/api_core/retry/retry_unary.py:144\u001b[0m, in \u001b[0;36mretry_target\u001b[0;34m(target, predicate, sleep_generator, timeout, on_error, exception_factory, **kwargs)\u001b[0m\n\u001b[1;32m    143\u001b[0m \u001b[38;5;28;01mtry\u001b[39;00m:\n\u001b[0;32m--> 144\u001b[0m     result \u001b[38;5;241m=\u001b[39m \u001b[43mtarget\u001b[49m\u001b[43m(\u001b[49m\u001b[43m)\u001b[49m\n\u001b[1;32m    145\u001b[0m     \u001b[38;5;28;01mif\u001b[39;00m inspect\u001b[38;5;241m.\u001b[39misawaitable(result):\n",
      "File \u001b[0;32m~/EECS/EECS495/simplingo/env/lib/python3.11/site-packages/google/api_core/timeout.py:120\u001b[0m, in \u001b[0;36mTimeToDeadlineTimeout.__call__.<locals>.func_with_timeout\u001b[0;34m(*args, **kwargs)\u001b[0m\n\u001b[1;32m    118\u001b[0m     kwargs[\u001b[38;5;124m\"\u001b[39m\u001b[38;5;124mtimeout\u001b[39m\u001b[38;5;124m\"\u001b[39m] \u001b[38;5;241m=\u001b[39m \u001b[38;5;28mmax\u001b[39m(\u001b[38;5;241m0\u001b[39m, \u001b[38;5;28mself\u001b[39m\u001b[38;5;241m.\u001b[39m_timeout \u001b[38;5;241m-\u001b[39m time_since_first_attempt)\n\u001b[0;32m--> 120\u001b[0m \u001b[38;5;28;01mreturn\u001b[39;00m \u001b[43mfunc\u001b[49m\u001b[43m(\u001b[49m\u001b[38;5;241;43m*\u001b[39;49m\u001b[43margs\u001b[49m\u001b[43m,\u001b[49m\u001b[43m \u001b[49m\u001b[38;5;241;43m*\u001b[39;49m\u001b[38;5;241;43m*\u001b[39;49m\u001b[43mkwargs\u001b[49m\u001b[43m)\u001b[49m\n",
      "File \u001b[0;32m~/EECS/EECS495/simplingo/env/lib/python3.11/site-packages/google/api_core/grpc_helpers.py:78\u001b[0m, in \u001b[0;36m_wrap_unary_errors.<locals>.error_remapped_callable\u001b[0;34m(*args, **kwargs)\u001b[0m\n\u001b[1;32m     77\u001b[0m \u001b[38;5;28;01mexcept\u001b[39;00m grpc\u001b[38;5;241m.\u001b[39mRpcError \u001b[38;5;28;01mas\u001b[39;00m exc:\n\u001b[0;32m---> 78\u001b[0m     \u001b[38;5;28;01mraise\u001b[39;00m exceptions\u001b[38;5;241m.\u001b[39mfrom_grpc_error(exc) \u001b[38;5;28;01mfrom\u001b[39;00m \u001b[38;5;21;01mexc\u001b[39;00m\n",
      "\u001b[0;31mServiceUnavailable\u001b[0m: 503 failed to connect to all addresses; last error: UNKNOWN: ipv6:%5B2607:f8b0:4009:803::200a%5D:443: Network is unreachable",
      "\nDuring handling of the above exception, another exception occurred:\n",
      "\u001b[0;31mKeyboardInterrupt\u001b[0m                         Traceback (most recent call last)",
      "Cell \u001b[0;32mIn[14], line 1\u001b[0m\n\u001b[0;32m----> 1\u001b[0m \u001b[38;5;28mprint\u001b[39m(\u001b[43mgen_out\u001b[49m\u001b[43m(\u001b[49m\u001b[43mprompt\u001b[49m\u001b[43m \u001b[49m\u001b[38;5;241;43m+\u001b[39;49m\u001b[43m \u001b[49m\u001b[43mlit_text\u001b[49m\u001b[43m)\u001b[49m)\n",
      "Cell \u001b[0;32mIn[6], line 2\u001b[0m, in \u001b[0;36mgen_out\u001b[0;34m(input)\u001b[0m\n\u001b[1;32m      1\u001b[0m \u001b[38;5;28;01mdef\u001b[39;00m \u001b[38;5;21mgen_out\u001b[39m(\u001b[38;5;28minput\u001b[39m):\n\u001b[0;32m----> 2\u001b[0m     \u001b[38;5;28;01mreturn\u001b[39;00m \u001b[43mmodel\u001b[49m\u001b[38;5;241;43m.\u001b[39;49m\u001b[43mgenerate_content\u001b[49m\u001b[43m(\u001b[49m\u001b[38;5;28;43minput\u001b[39;49m\u001b[43m)\u001b[49m\u001b[38;5;241m.\u001b[39mtext\n",
      "File \u001b[0;32m~/EECS/EECS495/simplingo/env/lib/python3.11/site-packages/google/generativeai/generative_models.py:248\u001b[0m, in \u001b[0;36mGenerativeModel.generate_content\u001b[0;34m(self, contents, generation_config, safety_settings, stream, **kwargs)\u001b[0m\n\u001b[1;32m    246\u001b[0m     \u001b[38;5;28;01mreturn\u001b[39;00m generation_types\u001b[38;5;241m.\u001b[39mGenerateContentResponse\u001b[38;5;241m.\u001b[39mfrom_iterator(iterator)\n\u001b[1;32m    247\u001b[0m \u001b[38;5;28;01melse\u001b[39;00m:\n\u001b[0;32m--> 248\u001b[0m     response \u001b[38;5;241m=\u001b[39m \u001b[38;5;28;43mself\u001b[39;49m\u001b[38;5;241;43m.\u001b[39;49m\u001b[43m_client\u001b[49m\u001b[38;5;241;43m.\u001b[39;49m\u001b[43mgenerate_content\u001b[49m\u001b[43m(\u001b[49m\u001b[43mrequest\u001b[49m\u001b[43m)\u001b[49m\n\u001b[1;32m    249\u001b[0m     \u001b[38;5;28;01mreturn\u001b[39;00m generation_types\u001b[38;5;241m.\u001b[39mGenerateContentResponse\u001b[38;5;241m.\u001b[39mfrom_response(response)\n",
      "File \u001b[0;32m~/EECS/EECS495/simplingo/env/lib/python3.11/site-packages/google/ai/generativelanguage_v1beta/services/generative_service/client.py:566\u001b[0m, in \u001b[0;36mGenerativeServiceClient.generate_content\u001b[0;34m(self, request, model, contents, retry, timeout, metadata)\u001b[0m\n\u001b[1;32m    561\u001b[0m metadata \u001b[38;5;241m=\u001b[39m \u001b[38;5;28mtuple\u001b[39m(metadata) \u001b[38;5;241m+\u001b[39m (\n\u001b[1;32m    562\u001b[0m     gapic_v1\u001b[38;5;241m.\u001b[39mrouting_header\u001b[38;5;241m.\u001b[39mto_grpc_metadata(((\u001b[38;5;124m\"\u001b[39m\u001b[38;5;124mmodel\u001b[39m\u001b[38;5;124m\"\u001b[39m, request\u001b[38;5;241m.\u001b[39mmodel),)),\n\u001b[1;32m    563\u001b[0m )\n\u001b[1;32m    565\u001b[0m \u001b[38;5;66;03m# Send the request.\u001b[39;00m\n\u001b[0;32m--> 566\u001b[0m response \u001b[38;5;241m=\u001b[39m \u001b[43mrpc\u001b[49m\u001b[43m(\u001b[49m\n\u001b[1;32m    567\u001b[0m \u001b[43m    \u001b[49m\u001b[43mrequest\u001b[49m\u001b[43m,\u001b[49m\n\u001b[1;32m    568\u001b[0m \u001b[43m    \u001b[49m\u001b[43mretry\u001b[49m\u001b[38;5;241;43m=\u001b[39;49m\u001b[43mretry\u001b[49m\u001b[43m,\u001b[49m\n\u001b[1;32m    569\u001b[0m \u001b[43m    \u001b[49m\u001b[43mtimeout\u001b[49m\u001b[38;5;241;43m=\u001b[39;49m\u001b[43mtimeout\u001b[49m\u001b[43m,\u001b[49m\n\u001b[1;32m    570\u001b[0m \u001b[43m    \u001b[49m\u001b[43mmetadata\u001b[49m\u001b[38;5;241;43m=\u001b[39;49m\u001b[43mmetadata\u001b[49m\u001b[43m,\u001b[49m\n\u001b[1;32m    571\u001b[0m \u001b[43m\u001b[49m\u001b[43m)\u001b[49m\n\u001b[1;32m    573\u001b[0m \u001b[38;5;66;03m# Done; return the response.\u001b[39;00m\n\u001b[1;32m    574\u001b[0m \u001b[38;5;28;01mreturn\u001b[39;00m response\n",
      "File \u001b[0;32m~/EECS/EECS495/simplingo/env/lib/python3.11/site-packages/google/api_core/gapic_v1/method.py:131\u001b[0m, in \u001b[0;36m_GapicCallable.__call__\u001b[0;34m(self, timeout, retry, compression, *args, **kwargs)\u001b[0m\n\u001b[1;32m    128\u001b[0m \u001b[38;5;28;01mif\u001b[39;00m \u001b[38;5;28mself\u001b[39m\u001b[38;5;241m.\u001b[39m_compression \u001b[38;5;129;01mis\u001b[39;00m \u001b[38;5;129;01mnot\u001b[39;00m \u001b[38;5;28;01mNone\u001b[39;00m:\n\u001b[1;32m    129\u001b[0m     kwargs[\u001b[38;5;124m\"\u001b[39m\u001b[38;5;124mcompression\u001b[39m\u001b[38;5;124m\"\u001b[39m] \u001b[38;5;241m=\u001b[39m compression\n\u001b[0;32m--> 131\u001b[0m \u001b[38;5;28;01mreturn\u001b[39;00m \u001b[43mwrapped_func\u001b[49m\u001b[43m(\u001b[49m\u001b[38;5;241;43m*\u001b[39;49m\u001b[43margs\u001b[49m\u001b[43m,\u001b[49m\u001b[43m \u001b[49m\u001b[38;5;241;43m*\u001b[39;49m\u001b[38;5;241;43m*\u001b[39;49m\u001b[43mkwargs\u001b[49m\u001b[43m)\u001b[49m\n",
      "File \u001b[0;32m~/EECS/EECS495/simplingo/env/lib/python3.11/site-packages/google/api_core/retry/retry_unary.py:293\u001b[0m, in \u001b[0;36mRetry.__call__.<locals>.retry_wrapped_func\u001b[0;34m(*args, **kwargs)\u001b[0m\n\u001b[1;32m    289\u001b[0m target \u001b[38;5;241m=\u001b[39m functools\u001b[38;5;241m.\u001b[39mpartial(func, \u001b[38;5;241m*\u001b[39margs, \u001b[38;5;241m*\u001b[39m\u001b[38;5;241m*\u001b[39mkwargs)\n\u001b[1;32m    290\u001b[0m sleep_generator \u001b[38;5;241m=\u001b[39m exponential_sleep_generator(\n\u001b[1;32m    291\u001b[0m     \u001b[38;5;28mself\u001b[39m\u001b[38;5;241m.\u001b[39m_initial, \u001b[38;5;28mself\u001b[39m\u001b[38;5;241m.\u001b[39m_maximum, multiplier\u001b[38;5;241m=\u001b[39m\u001b[38;5;28mself\u001b[39m\u001b[38;5;241m.\u001b[39m_multiplier\n\u001b[1;32m    292\u001b[0m )\n\u001b[0;32m--> 293\u001b[0m \u001b[38;5;28;01mreturn\u001b[39;00m \u001b[43mretry_target\u001b[49m\u001b[43m(\u001b[49m\n\u001b[1;32m    294\u001b[0m \u001b[43m    \u001b[49m\u001b[43mtarget\u001b[49m\u001b[43m,\u001b[49m\n\u001b[1;32m    295\u001b[0m \u001b[43m    \u001b[49m\u001b[38;5;28;43mself\u001b[39;49m\u001b[38;5;241;43m.\u001b[39;49m\u001b[43m_predicate\u001b[49m\u001b[43m,\u001b[49m\n\u001b[1;32m    296\u001b[0m \u001b[43m    \u001b[49m\u001b[43msleep_generator\u001b[49m\u001b[43m,\u001b[49m\n\u001b[1;32m    297\u001b[0m \u001b[43m    \u001b[49m\u001b[43mtimeout\u001b[49m\u001b[38;5;241;43m=\u001b[39;49m\u001b[38;5;28;43mself\u001b[39;49m\u001b[38;5;241;43m.\u001b[39;49m\u001b[43m_timeout\u001b[49m\u001b[43m,\u001b[49m\n\u001b[1;32m    298\u001b[0m \u001b[43m    \u001b[49m\u001b[43mon_error\u001b[49m\u001b[38;5;241;43m=\u001b[39;49m\u001b[43mon_error\u001b[49m\u001b[43m,\u001b[49m\n\u001b[1;32m    299\u001b[0m \u001b[43m\u001b[49m\u001b[43m)\u001b[49m\n",
      "File \u001b[0;32m~/EECS/EECS495/simplingo/env/lib/python3.11/site-packages/google/api_core/retry/retry_unary.py:164\u001b[0m, in \u001b[0;36mretry_target\u001b[0;34m(target, predicate, sleep_generator, timeout, on_error, exception_factory, **kwargs)\u001b[0m\n\u001b[1;32m    153\u001b[0m         _retry_error_helper(\n\u001b[1;32m    154\u001b[0m             exc,\n\u001b[1;32m    155\u001b[0m             deadline,\n\u001b[0;32m   (...)\u001b[0m\n\u001b[1;32m    161\u001b[0m             timeout,\n\u001b[1;32m    162\u001b[0m         )\n\u001b[1;32m    163\u001b[0m         \u001b[38;5;66;03m# if exception not raised, sleep before next attempt\u001b[39;00m\n\u001b[0;32m--> 164\u001b[0m         time\u001b[38;5;241m.\u001b[39msleep(sleep)\n\u001b[1;32m    166\u001b[0m \u001b[38;5;28;01mraise\u001b[39;00m \u001b[38;5;167;01mValueError\u001b[39;00m(\u001b[38;5;124m\"\u001b[39m\u001b[38;5;124mSleep generator stopped yielding sleep values.\u001b[39m\u001b[38;5;124m\"\u001b[39m)\n",
      "\u001b[0;31mKeyboardInterrupt\u001b[0m: "
     ]
    }
   ],
   "source": [
    "print(gen_out(prompt + lit_text))"
   ]
  },
  {
   "cell_type": "markdown",
   "metadata": {},
   "source": [
    "# OPENAI"
   ]
  },
  {
   "cell_type": "markdown",
   "metadata": {},
   "source": [
    "## Model init"
   ]
  },
  {
   "cell_type": "code",
   "execution_count": 1,
   "metadata": {},
   "outputs": [],
   "source": [
    "from openai import AzureOpenAI\n",
    "import os\n",
    "cwd = os.getcwd()\n",
    "if os.path.basename(os.path.normpath(cwd)) == \"models\":\n",
    "    os.chdir(\"..\")\n",
    "from credentials import OPEN_AI_KEY, OPEN_AI_ENDPOINT"
   ]
  },
  {
   "cell_type": "code",
   "execution_count": 3,
   "metadata": {},
   "outputs": [],
   "source": [
    "# api_key = os.getenv(\"OPEN_AI_KEY\")\n",
    "# endpoint = os.getenv(\"OPEN_AI_ENDPOINT\")\n",
    "# print(os.environ)\n",
    "api_key = OPEN_AI_KEY\n",
    "endpoint = OPEN_AI_ENDPOINT\n",
    "deploy = 'gpt-35-instruct-495'"
   ]
  },
  {
   "cell_type": "code",
   "execution_count": 33,
   "metadata": {},
   "outputs": [],
   "source": [
    "gpt_model = AzureOpenAI(\n",
    "    api_key=api_key,\n",
    "    api_version=\"2024-02-01\",\n",
    "    azure_endpoint=endpoint,\n",
    "    timeout=4.0, max_retries=1\n",
    ")"
   ]
  },
  {
   "cell_type": "code",
   "execution_count": 5,
   "metadata": {},
   "outputs": [],
   "source": [
    "def gptgen_out(prompt):\n",
    "    response = gpt_model.completions.create(model=deploy, prompt=prompt, max_tokens=4096)\n",
    "    return response.choices[0].text"
   ]
  },
  {
   "cell_type": "markdown",
   "metadata": {},
   "source": [
    "## Testing"
   ]
  },
  {
   "cell_type": "code",
   "execution_count": null,
   "metadata": {},
   "outputs": [],
   "source": []
  },
  {
   "cell_type": "markdown",
   "metadata": {},
   "source": [
    "# Prelim testing"
   ]
  },
  {
   "cell_type": "code",
   "execution_count": 29,
   "metadata": {},
   "outputs": [],
   "source": [
    "lit_text = (\n",
    "    '“红色联合”对“四·二八兵团”总部大楼的攻击已持续了两天，他们的旗帜在大楼周围躁动地飘扬着，仿佛渴望干柴的火种。\\n'\n",
    "\t'“红色联合”的指挥官心急如焚，他并不惧怕大楼的守卫者，那二百多名“四·二八”战士，与诞生于l966年初、'\n",
    "    '经历过大检阅和大串联的“红色联合”相比要稚嫩许多。他怕的是大楼中那十几个大铁炉子，里面塞满了烈性炸药，'\n",
    "    '用电雷管串联起来，他看不到它们，但能感觉到它们磁石般的存在，开关一合，玉石俱焚，而“四·二八”的那些小红卫兵们是有这个精神力量的。'\n",
    "    '比起已经在风雨中成熟了许多的第一代红卫兵，新生的造反派们像火炭上的狼群，除了疯狂还是疯狂。\\n'\n",
    "\t'大楼顶上出现了一个娇小的身影，那个美丽的女孩子挥动着一面“四·二八”的大旗，她的出现立刻招来了一阵杂乱的枪声，'\n",
    "    '射击的武器五花八门，有陈旧的美式卡宾枪、捷克式机枪和三八大盖，'\n",
    "    '也有崭新的制式步枪和冲锋枪——后者是在“八月社论”发表之后从军队中偷抢来的——连同那些梭标和大刀等冷兵器，'\n",
    "    '构成了一部浓缩的近现代史……“四·二八”的人在前面多次玩过这个游戏，在楼顶上站出来的人，除了挥舞旗帜外，'\n",
    "    '有时还用喇叭筒喊口号或向下撒传单，每次他们都能在弹雨中全身而退，为自己挣到了崇高的荣誉。'\n",
    "    '这次出来的女孩儿显然也相信自己还有那样的幸运。她挥舞着战旗，挥动着自己燃烧的青春，敌人将在这火焰中化为灰烬，'\n",
    "    '理想世界明天就会在她那沸腾的热血中诞生……她陶醉在这鲜红灿烂的梦幻中，直到被一颗步枪子弹洞穿了胸膛，十五岁少女的胸膛是那么柔嫩，'\n",
    "    '那颗子弹穿过后基本上没有减速，在她身后的空中发出一声啾鸣。年轻的红卫兵同她的旗帜一起从楼顶落下，她那轻盈的身体落得甚至比旗帜还慢，'\n",
    "    '仿佛小鸟眷恋着天空。'\n",
    "    )"
   ]
  },
  {
   "cell_type": "code",
   "execution_count": 34,
   "metadata": {},
   "outputs": [],
   "source": [
    "prompt = \"Translate this text into English: \"\n",
    "out = gptgen_out(prompt + lit_text)"
   ]
  },
  {
   "cell_type": "code",
   "execution_count": 26,
   "metadata": {},
   "outputs": [],
   "source": [
    "response = gpt_model.completions.create(model=deploy, prompt=prompt + lit_text, max_tokens=4096)\n"
   ]
  },
  {
   "cell_type": "code",
   "execution_count": 27,
   "metadata": {},
   "outputs": [
    {
     "data": {
      "text/plain": [
       "Completion(id='cmpl-9GAh42N2zOFQBocXuM3x01CPCbNrc', choices=[CompletionChoice(finish_reason='content_filter', index=0, logprobs=None, text='', content_filter_results={'hate': {'filtered': False, 'severity': 'safe'}, 'self_harm': {'filtered': False, 'severity': 'safe'}, 'sexual': {'filtered': False, 'severity': 'safe'}, 'violence': {'filtered': True, 'severity': 'medium'}})], created=1713641382, model='gpt-35-turbo-instruct', object='text_completion', system_fingerprint=None, usage=CompletionUsage(completion_tokens=503, prompt_tokens=961, total_tokens=1464), prompt_filter_results=[{'prompt_index': 0, 'content_filter_results': {'hate': {'filtered': False, 'severity': 'safe'}, 'self_harm': {'filtered': False, 'severity': 'safe'}, 'sexual': {'filtered': False, 'severity': 'safe'}, 'violence': {'filtered': False, 'severity': 'low'}}}])"
      ]
     },
     "execution_count": 27,
     "metadata": {},
     "output_type": "execute_result"
    }
   ],
   "source": [
    "response"
   ]
  },
  {
   "cell_type": "code",
   "execution_count": 35,
   "metadata": {},
   "outputs": [
    {
     "data": {
      "text/plain": [
       "'\\n\\nThe \"Red Alliance\" has been attacking the headquarters building of the \"April 28th Corps\" for two days, their flags fluttering restlessly around the building as if craving for kindling to start a fire.\\n\\nThe commander of the \"Red Alliance\" is anxious, not afraid of the defenders of the building, the more than two hundred \"April 28th\" soldiers, compared to the \"Red Alliance\" formed in early 1966 and having experienced large-scale parades and demonstrations, are much more inexperienced. What he fears are the dozen or so large iron furnaces inside the building, filled with powerful explosives and connected by electric detonators. Although he cannot see them, he can feel their magnetic presence. Once the switch is flipped, everything will be destroyed. The young red guards of \"April 28th\" have this spiritual power, even though they are not as mature as the first generation of red guards who have weathered many storms. The new rebels are like a pack of wolves on hot coals, wild and reckless.\\n\\nA petite figure appears on the top of the building, a beautiful girl waving the flag of \"April 28th\". Her appearance immediately invites a chaotic burst of gunshots. The weapons being fired vary, ranging from old American carbines, Czech machine guns, and Mauser rifles, to brand new standard rifles and submachine guns - the latter having been stolen from the army after the publication of the \"August Declaration\". Along with spears and large knives, these cold weapons form a condensed modern history... The people of \"April 28th\" have played this game many times before, those who stand on the roof, apart from waving flags, sometimes shout slogans through megaphones or throw leaflets down. Every time, they are able to escape unscathed from the barrage of bullets, earning themselves great honor. This time, the girl who is here clearly believes she will have the same luck. Waving the flag, she also waves her burning youth, believing that in this flame, the enemy will be reduced to ashes and tomorrow, the ideal world will be born in her boiling hot blood... She is lost in this bright and red dream, until a bullet pierces her chest. The chest of the fifteen-year-old girl is so tender, the bullet hardly slows down after passing through, making a hissing sound in the empty space behind her. The young red guard falls from the rooftop along with her flag, her body landing even slower than the flag, as if a bird is lingering in the sky.'"
      ]
     },
     "execution_count": 35,
     "metadata": {},
     "output_type": "execute_result"
    }
   ],
   "source": [
    "out"
   ]
  },
  {
   "cell_type": "code",
   "execution_count": 33,
   "metadata": {},
   "outputs": [
    {
     "data": {
      "text/plain": [
       "'\\n\\n\"Red United\" has been attacking the headquarters of the \"April 28 Brigade\" for two days. Their flags are waving restlessly around the building, as if they are yearning for a spark to ignite.\\n\\nThe commander of \"Red United\" is extremely anxious. He is not afraid of the defenders of the building, the more than 200 \"April 28\" soldiers. Compared to \"Red United,\" which was founded in early 1966 and has gone through large-scale parades and rallies, they are much more inexperienced. He is afraid of the dozen or so large iron drums in the building, filled with high-powered explosives and connected with electric detonators. He cannot see them, but he can feel their magnetic presence. When the switch is flipped, everything will be destroyed. And these young Red Guards of \"April 28\" have the strength to do it. Compared to the first generation of Red Guards who have already matured through storm and rain, the newly formed rebels are like a pack of wolves on fire, nothing but craziness.\\n\\nA petite figure appears on the roof of the building. It is a beautiful girl waving a \"April 28\" flag. Her appearance immediately draws a chaotic barrage of gunfire from various weapons, such as the outdated American carbines, Czech machine guns, and Mauser rifles. There are also new standard-issue rifles and submachine guns - the latter stolen from the military after the \"August editorial\" was published - as well as other weapons such as spears and daggers, creating a condensed version of modern history... The people of \"April 28\" have played this game many times before. Whoever stands on the roof and waves the flag, sometimes even shouts slogans or throws leaflets down, always manages to escape unscathed, earning themselves a glorious honor. The girl who comes out this time clearly believes that she will also have such luck. She waves the flag and ignites her burning youth. In this flame, her enemies will turn to ashes and the ideal world will be born in her boiling blood tomorrow... She is lost in this bright red and dazzling dream until she is shot through the chest by a rifle bullet. The chest of the fifteen-year-old girl is so tender, and the bullet goes through with almost no deceleration, creating a sharp whistling sound in the empty air behind her. The young Red Guard falls from the roof, her body even lighter than the flag, as if a bird reluctant to leave the sky.'"
      ]
     },
     "execution_count": 33,
     "metadata": {},
     "output_type": "execute_result"
    }
   ],
   "source": [
    "prompt = \"Translate this text into English: \"\n",
    "out = gen_out(prompt + lit_text)"
   ]
  },
  {
   "cell_type": "code",
   "execution_count": 34,
   "metadata": {},
   "outputs": [
    {
     "name": "stdout",
     "output_type": "stream",
     "text": [
      "\n",
      "\n",
      "\"Red United\" has been attacking the headquarters of the \"April 28 Brigade\" for two days. Their flags are waving restlessly around the building, as if they are yearning for a spark to ignite.\n",
      "\n",
      "The commander of \"Red United\" is extremely anxious. He is not afraid of the defenders of the building, the more than 200 \"April 28\" soldiers. Compared to \"Red United,\" which was founded in early 1966 and has gone through large-scale parades and rallies, they are much more inexperienced. He is afraid of the dozen or so large iron drums in the building, filled with high-powered explosives and connected with electric detonators. He cannot see them, but he can feel their magnetic presence. When the switch is flipped, everything will be destroyed. And these young Red Guards of \"April 28\" have the strength to do it. Compared to the first generation of Red Guards who have already matured through storm and rain, the newly formed rebels are like a pack of wolves on fire, nothing but craziness.\n",
      "\n",
      "A petite figure appears on the roof of the building. It is a beautiful girl waving a \"April 28\" flag. Her appearance immediately draws a chaotic barrage of gunfire from various weapons, such as the outdated American carbines, Czech machine guns, and Mauser rifles. There are also new standard-issue rifles and submachine guns - the latter stolen from the military after the \"August editorial\" was published - as well as other weapons such as spears and daggers, creating a condensed version of modern history... The people of \"April 28\" have played this game many times before. Whoever stands on the roof and waves the flag, sometimes even shouts slogans or throws leaflets down, always manages to escape unscathed, earning themselves a glorious honor. The girl who comes out this time clearly believes that she will also have such luck. She waves the flag and ignites her burning youth. In this flame, her enemies will turn to ashes and the ideal world will be born in her boiling blood tomorrow... She is lost in this bright red and dazzling dream until she is shot through the chest by a rifle bullet. The chest of the fifteen-year-old girl is so tender, and the bullet goes through with almost no deceleration, creating a sharp whistling sound in the empty air behind her. The young Red Guard falls from the roof, her body even lighter than the flag, as if a bird reluctant to leave the sky.\n"
     ]
    }
   ],
   "source": [
    "print(out)"
   ]
  },
  {
   "cell_type": "code",
   "execution_count": 31,
   "metadata": {},
   "outputs": [
    {
     "data": {
      "text/plain": [
       "''"
      ]
     },
     "execution_count": 31,
     "metadata": {},
     "output_type": "execute_result"
    }
   ],
   "source": [
    "response = model.completions.create(model=deploy, prompt=prompt)"
   ]
  },
  {
   "cell_type": "markdown",
   "metadata": {},
   "source": [
    "# Notes on Testing:\n",
    "- Run all cells in model init\n",
    "- Use gen_out() function for simplicity:\n",
    "```python\n",
    "# Specify variables\n",
    "prompt = 'Specify prompt such as translate the following: '\n",
    "text = 'Some input text blah blah 等等何でもあり것은\"\n",
    "# Then run the following repeatedly to generate different output:\n",
    "gen_out(prompt + text)\n",
    "# Repeat, changing the prompt as needed, and record results in some format\n",
    "# Evaluate which prompts work best\n",
    "```"
   ]
  },
  {
   "cell_type": "markdown",
   "metadata": {},
   "source": [
    "# Spanish"
   ]
  },
  {
   "cell_type": "markdown",
   "metadata": {},
   "source": [
    "Participants G + J"
   ]
  },
  {
   "cell_type": "markdown",
   "metadata": {},
   "source": [
    "El problema de la parada o problema de la detención para máquinas de Turing consiste en lo siguiente: dada una Máquina de Turing y una palabra, determinar si terminará en un número finito de pasos cuando es ejecutada usando como dato de entrada. Alan Turing, en su famoso artículo On Computable Numbers, with an Application to the Entscheidungsproblem (1936), demostró que el problema de la parada de la Máquina de Turing es indecidible (no computable o no recursivo), en el sentido de que ninguna máquina de Turing lo puede resolver.\n",
    "\n",
    "Source: es.wikipedia.org/wiki/Problema_de_la_parada"
   ]
  },
  {
   "cell_type": "code",
   "execution_count": 10,
   "metadata": {},
   "outputs": [],
   "source": [
    "# Spanish testing: simplify\n",
    "\n",
    "text = (\"El problema de la parada o problema de la detención para máquinas de Turing consiste en lo siguiente: \"\n",
    "        \"dada una Máquina de Turing y una palabra, determinar si terminará en un número finito de pasos cuando \"\n",
    "        \"es ejecutada usando como dato de entrada. Alan Turing, en su famoso artículo On Computable Numbers, \"\n",
    "        \"with an Application to the Entscheidungsproblem (1936), demostró que el problema de la parada de la Máquina \"\n",
    "        \"de Turing es indecidible (no computable o no recursivo), en el sentido de que ninguna máquina de Turing lo puede resolver.\")"
   ]
  },
  {
   "cell_type": "markdown",
   "metadata": {},
   "source": [
    "### Simplification"
   ]
  },
  {
   "cell_type": "markdown",
   "metadata": {},
   "source": [
    "##### Prompt 1: original"
   ]
  },
  {
   "cell_type": "code",
   "execution_count": 8,
   "metadata": {},
   "outputs": [],
   "source": [
    "prompt = \"Paraphase this text simply: \""
   ]
  },
  {
   "cell_type": "code",
   "execution_count": 10,
   "metadata": {},
   "outputs": [
    {
     "name": "stdout",
     "output_type": "stream",
     "text": [
      "Determinar si una máquina de Turing se detendrá o no después de ejecutar una entrada es un problema que no puede ser resuelto por ninguna máquina de Turing. Fue demostrado por Alan Turing en 1936.\n"
     ]
    }
   ],
   "source": [
    "print(gen_out(prompt + text))"
   ]
  },
  {
   "cell_type": "markdown",
   "metadata": {},
   "source": [
    "Determinar si una máquina de Turing se detendrá o no después de ejecutar una entrada es un problema que no puede ser resuelto por ninguna máquina de Turing. Fue demostrado por Alan Turing en 1936.\n",
    "- Okay (perhaps incomplete in conveying information?) - cut off sentence\n",
    "\n",
    "Para una máquina que sigue un conjunto de reglas (Máquina de Turing), y una secuencia específica de instrucciones (palabra), no es posible determinar con seguridad si esa máquina se detendrá alguna vez o seguirá ejecutándose para siempre cuando la secuencia se ejecute en la máquina.\"\n",
    "- Conveys original well\n",
    "\n",
    "¿Puede una máquina predecir si se detendrá después de ejecutar un programa específico? Turing demostró que esta pregunta es imposible de responder para todas las máquinas y programas, lo que significa que no existe ninguna máquina que pueda decir siempre si otra máquina se detendrá o no.\n",
    "- More general, misses details?\n",
    "\n",
    "¿Puede una máquina (Máquina de Turing) predecir si se detendrá después de recibir una entrada específica? Turing demostró que es imposible crear una máquina que pueda resolver este \\\"problema de detención\\\" para todas las entradas.\n",
    "- Same as previous, less detailed\n",
    "\n",
    "2 > 3 > 4 > 1"
   ]
  },
  {
   "cell_type": "code",
   "execution_count": 14,
   "metadata": {},
   "outputs": [
    {
     "data": {
      "text/plain": [
       "[index: 0\n",
       "content {\n",
       "  parts {\n",
       "    text: \"¿Puede una máquina (Máquina de Turing) predecir si se detendrá después de recibir una entrada específica? Turing demostró que es imposible crear una máquina que pueda resolver este \\\"problema de detención\\\" para todas las entradas.\"\n",
       "  }\n",
       "  role: \"model\"\n",
       "}\n",
       "finish_reason: STOP\n",
       "safety_ratings {\n",
       "  category: HARM_CATEGORY_SEXUALLY_EXPLICIT\n",
       "  probability: NEGLIGIBLE\n",
       "}\n",
       "safety_ratings {\n",
       "  category: HARM_CATEGORY_HATE_SPEECH\n",
       "  probability: NEGLIGIBLE\n",
       "}\n",
       "safety_ratings {\n",
       "  category: HARM_CATEGORY_HARASSMENT\n",
       "  probability: NEGLIGIBLE\n",
       "}\n",
       "safety_ratings {\n",
       "  category: HARM_CATEGORY_DANGEROUS_CONTENT\n",
       "  probability: NEGLIGIBLE\n",
       "}\n",
       "]"
      ]
     },
     "execution_count": 14,
     "metadata": {},
     "output_type": "execute_result"
    }
   ],
   "source": [
    "response = model.generate_content(prompt + text)\n",
    "response.candidates"
   ]
  },
  {
   "cell_type": "markdown",
   "metadata": {},
   "source": [
    "##### Prompt 2: prompt of oof"
   ]
  },
  {
   "cell_type": "code",
   "execution_count": null,
   "metadata": {},
   "outputs": [],
   "source": [
    "# Probably a bad prompt\n",
    "prompt = \"Summarize this text: \""
   ]
  },
  {
   "cell_type": "code",
   "execution_count": 19,
   "metadata": {},
   "outputs": [
    {
     "name": "stdout",
     "output_type": "stream",
     "text": [
      "Es imposible construir una máquina que pueda decir, para cualquier otra máquina y cualquier entrada, si la máquina terminará o se ejecutará para siempre.\n"
     ]
    }
   ],
   "source": [
    "print(gen_out(prompt + text))"
   ]
  },
  {
   "cell_type": "markdown",
   "metadata": {},
   "source": [
    "El problema de la detención pregunta: dada una máquina de computación y un comando específico, ¿puede la máquina finalizar alguna vez si inicia con ese comando? Se ha demostrado que no hay ninguna máquina que pueda responder esta pregunta para todas las demás máquinas de computación posibles.\n",
    "- Better, but dropped Turing, haha\n",
    "\n",
    "Es imposible crear una máquina que determine si otra máquina se detendrá después de un número finito de pasos al ejecutar una palabra específica.\n",
    "- Oof.\n",
    "\n",
    "El problema de la parada pregunta: dada una máquina y unas instrucciones específicas, ¿se detendrá alguna vez la máquina después de ejecutar esas instrucciones? Esto es imposible de determinar para todas las máquinas y todas las instrucciones.\n",
    "- Slightly better than oof.\n",
    "\n",
    "Es imposible construir una máquina que pueda decir, para cualquier otra máquina y cualquier entrada, si la máquina terminará o se ejecutará para siempre.\n",
    "- Oof x2."
   ]
  },
  {
   "cell_type": "markdown",
   "metadata": {},
   "source": [
    "##### Prompt 3: less oof maybe, see last variation for promising prompt"
   ]
  },
  {
   "cell_type": "code",
   "execution_count": 14,
   "metadata": {},
   "outputs": [],
   "source": [
    "# Generates long outputs\n",
    "prompt = \"Summarize the important points of this text in brief paragraph form: \""
   ]
  },
  {
   "cell_type": "code",
   "execution_count": 16,
   "metadata": {},
   "outputs": [
    {
     "name": "stdout",
     "output_type": "stream",
     "text": [
      "El problema de la parada para las máquinas de Turing es indecidible, lo que significa que no existe una máquina de Turing que pueda determinar si una máquina dada se detendrá en un número finito de pasos para una palabra de entrada determinada. Esto fue demostrado por Alan Turing en su artículo \"On Computable Numbers, with an Application to the Entscheidungsproblem\" (1936), lo que implica que la decisión de si un cálculo se detendrá o se ejecutará indefinidamente es esencialmente no computable.\n"
     ]
    }
   ],
   "source": [
    "print(gen_out(prompt + text))"
   ]
  },
  {
   "cell_type": "markdown",
   "metadata": {},
   "source": [
    "**\"in prose\"**\n",
    "\n",
    "El problema de la parada, planteado para máquinas de Turing, cuestiona si se puede determinar si una máquina de Turing dada, con una entrada específica, se detendrá en un número finito de pasos. Turing demostró que este problema es indecidible, lo que significa que ninguna máquina de Turing puede resolverlo de forma generalizada ya que no existe un algoritmo que pueda predecir el comportamiento de todas las máquinas de Turing posibles para todas las posibles entradas.\n",
    "- meh\n",
    "\n",
    "**\"main points in paragraph form\"**\n",
    "\n",
    "El problema de la parada plantea que, para una máquina de Turing y una palabra de entrada, es imposible determinar si la máquina se detendrá en un número finito de pasos. Alan Turing demostró en 1936 que este problema es indecidible, es decir, no existe una máquina de Turing que pueda resolverlo. Esto implica que no hay ningún algoritmo efectivo que pueda predecir si una máquina de Turing terminará o no su ejecución para una entrada dada.\n",
    "- best one so far\n",
    "\n",
    "El problema de la parada para máquinas de Turing establece que, dada una máquina de Turing y una entrada, es imposible determinar si la máquina se detendrá en un número finito de pasos. Alan Turing demostró en 1936 que este problema es indecidible, es decir, que no existe una máquina de Turing que pueda resolverlo para todos los casos posibles. Esta indecidibilidad implica que no hay ningún algoritmo que pueda determinar universalmente si una máquina de Turing se detendrá o se ejecutará indefinidamente para una determinada entrada.\n",
    "- repeating itself\n",
    "\n",
    "El problema de la parada en las máquinas de Turing determina si una máquina de Turing terminará su ejecución en un número finito de pasos con una palabra de entrada determinada. El teorema de Turing establece que el problema de la parada es indecidible, lo que significa que no existe una máquina de Turing que pueda resolverlo para todas las entradas posibles. Esta indecidibilidad implica que no hay un algoritmo que pueda determinar universalmente si una máquina de Turing se detendrá o no con una entrada específica.\n",
    "- repetitive language lacking nuance\n",
    "\n",
    "El problema de la parada para máquinas de Turing establece la dificultad de determinar si una máquina de Turing, dada una entrada específica, se detendrá o continuará funcionando indefinidamente. En 1936, Alan Turing demostró que este problema es indecidible, lo que significa que ninguna máquina de Turing puede resolverlo de manera generalizada. Esta imposibilidad se debe a la naturaleza intrínsecamente no determinista de las máquinas de Turing, lo que impide la existencia de un algoritmo que pueda predecir con certeza su comportamiento de detención para todas las entradas posibles.\n",
    "- meh\n",
    "\n",
    "**\"important points in paragraph form\"**\n",
    "\n",
    "El problema de la parada para máquinas de Turing busca determinar si una máquina de Turing específica, con una entrada determinada, terminará sus cálculos en un número finito de pasos. En 1936, Alan Turing demostró que este problema es indecidible, lo que significa que no existe ninguna máquina de Turing que pueda resolverlo para todos los casos posibles. Esta indecidibilidad implica que no hay un algoritmo que pueda determinar de manera confiable si una máquina de Turing en particular se detendrá o se ejecutará indefinidamente para una entrada dada.\n",
    "- like this one, but long\n",
    "\n",
    "El Problema de Parada para Máquinas de Turing plantea el problema de determinar si una máquina de Turing, dada una palabra de entrada, terminará su ejecución en un número finito de pasos. Alan Turing demostró que este problema es indecidible, es decir, no existe una máquina de Turing que pueda resolverlo. En otras palabras, no hay ningún algoritmo que pueda determinar si una máquina de Turing determinada se detendrá o continuará ejecutándose indefinidamente para una entrada dada. Esto tiene implicaciones significativas para la teoría de la computación, ya que demuestra los límites de lo que las máquinas de Turing pueden calcular.\n",
    "- \"a problem plants a problem\" :)\n",
    "\n",
    "**\"in brief paragraph form\"**\n",
    "\n",
    "El problema de la detención establece que es imposible determinar si una máquina de Turing con una entrada dada se detendrá o se ejecutará indefinidamente. Alan Turing demostró que es un problema indecidible, lo que significa que no existe una máquina de Turing que pueda resolverlo en todos los casos. Esto tiene implicaciones significativas para la teoría de la computación y la inteligencia artificial, ya que demuestra que existen ciertos problemas inherentemente irresolubles para las computadoras.\n",
    "- like this one, correct tone/ feeling\n",
    "\n",
    "El problema de la parada para las máquinas de Turing es indecidible, lo que significa que no existe una máquina de Turing que pueda determinar si una máquina dada se detendrá en un número finito de pasos para una palabra de entrada determinada. Esto fue demostrado por Alan Turing en su artículo \"On Computable Numbers, with an Application to the Entscheidungsproblem\" (1936), lo que implica que la decisión de si un cálculo se detendrá o se ejecutará indefinidamente es esencialmente no computable.\n",
    "- like this one, too"
   ]
  },
  {
   "cell_type": "markdown",
   "metadata": {},
   "source": [
    "##### Prompt 4: Spanish"
   ]
  },
  {
   "cell_type": "code",
   "execution_count": 22,
   "metadata": {},
   "outputs": [],
   "source": [
    "prompt = \"Simplifica este párrafo usando un párrafo: \""
   ]
  },
  {
   "cell_type": "code",
   "execution_count": 24,
   "metadata": {},
   "outputs": [
    {
     "name": "stdout",
     "output_type": "stream",
     "text": [
      "El problema de la parada para máquinas de Turing busca determinar si una máquina de Turing particular se detendrá o no después de un número finito de pasos cuando se le da una entrada específica. Alan Turing demostró que este problema es indecidible, lo que significa que no esiste ningún algoritmo que pueda predecir el resultado para todos los casos posibles.\n"
     ]
    }
   ],
   "source": [
    "print(gen_out(prompt + text))"
   ]
  },
  {
   "cell_type": "markdown",
   "metadata": {},
   "source": [
    "**Simplifica este párrafo**\n",
    "Determinar si una Máquina de Turing se detendrá después de un número finito de pasos (problema de la detención) es imposible (indecidible) porque ninguna Máquina de Turing puede resolverlo.\n",
    "\n",
    "**... usando un párrafo**\n",
    "El problema de la parada establece que no existe una Máquina de Turing que pueda determinar si cualquier otra Máquina de Turing, con una palabra de entrada dada, se parará o continuará ejecutándose indefinidamente. Este problema es indecidible, lo que significa que no puede ser resuelto por ninguna máquina algorítmica.\n",
    "- good summary, lacks credit\n",
    "\n",
    "El problema de la parada para máquinas de Turing busca determinar si una máquina de Turing particular se detendrá o no después de un número finito de pasos cuando se le da una entrada específica. Alan Turing demostró que este problema es indecidible, lo que significa que no esiste ningún algoritmo que pueda predecir el resultado para todos los casos posibles.\n",
    "- decent"
   ]
  },
  {
   "cell_type": "markdown",
   "metadata": {},
   "source": [
    "#### Simplify conclusion:\n",
    "- Use Spanish prompt for default simplify\n",
    "- Use paraphrase prompt for simpler simplify\n",
    "#### Other:\n",
    "- Simplifying simplify\n",
    "- Translate + simplify\n",
    "- Possibly translate, not much of an issue"
   ]
  },
  {
   "cell_type": "markdown",
   "metadata": {},
   "source": [
    "# German"
   ]
  },
  {
   "cell_type": "markdown",
   "metadata": {},
   "source": [
    "Participant M"
   ]
  },
  {
   "cell_type": "markdown",
   "metadata": {},
   "source": [
    "Passive Voice\n",
    "\n",
    "A passive voice construction is a grammatical voice construction that is found in many languages.[1] In a clause with passive voice, the grammatical subject expresses the theme or patient of the main verb – that is, the person or thing that undergoes the action or has its state changed.[2] This contrasts with active voice, in which the subject has the agent role. For example, in the passive sentence \"The tree was pulled down\", the subject (the tree) denotes the patient rather than the agent of the action. In contrast, the sentences \"Someone pulled down the tree\" and \"The tree is down\" are active sentences.\n",
    "\n",
    "Typically, in passive clauses, what is usually expressed by the object (or sometimes another argument) of the verb is now expressed by the subject, while what is usually expressed by the subject is either omitted or is indicated by some adjunct of the clause. Thus, turning an active sense of a verb into a passive sense is a valence-decreasing process (\"detransitivizing process\"), because it syntactically turns a transitive sense into an intransitive sense.[3] This is not always the case; for example in Japanese a passive-voice construction does not necessarily decrease valence.[4]\n",
    "\n",
    "https://en.wikipedia.org/wiki/Passive_voice"
   ]
  },
  {
   "cell_type": "markdown",
   "metadata": {},
   "source": [
    "### Translation"
   ]
  },
  {
   "cell_type": "code",
   "execution_count": 17,
   "metadata": {},
   "outputs": [],
   "source": [
    "prompt = \"Translate this text into German: \""
   ]
  },
  {
   "cell_type": "code",
   "execution_count": 18,
   "metadata": {},
   "outputs": [],
   "source": [
    "header = \"Passive Voice\"\n",
    "p1 = 'A passive voice construction is a grammatical voice construction that is found in many languages.[1] In a clause with passive voice, the grammatical subject expresses the theme or patient of the main verb – that is, the person or thing that undergoes the action or has its state changed.[2] This contrasts with active voice, in which the subject has the agent role. For example, in the passive sentence \"The tree was pulled down\", the subject (the tree) denotes the patient rather than the agent of the action. In contrast, the sentences \"Someone pulled down the tree\" and \"The tree is down\" are active sentences.'\n",
    "p2 = 'Typically, in passive clauses, what is usually expressed by the object (or sometimes another argument) of the verb is now expressed by the subject, while what is usually expressed by the subject is either omitted or is indicated by some adjunct of the clause. Thus, turning an active sense of a verb into a passive sense is a valence-decreasing process (\"detransitivizing process\"), because it syntactically turns a transitive sense into an intransitive sense.[3] This is not always the case; for example in Japanese a passive-voice construction does not necessarily decrease valence.[4]'"
   ]
  },
  {
   "cell_type": "code",
   "execution_count": 21,
   "metadata": {},
   "outputs": [
    {
     "name": "stdout",
     "output_type": "stream",
     "text": [
      "Passiv\n",
      "\n",
      "Eine Passivkonstruktion ist eine grammatikalische Satzkonstruktion, die in vielen Sprachen zu finden ist.[1] In einem Passivsatz drückt das grammatische Subjekt das Thema oder den Empfänger des Hauptverbs aus – also die Person oder Sache, die die Handlung erfährt oder deren Zustand geändert wird.[2] Dies steht im Gegensatz zum Aktiv, in dem das Subjekt die Rolle des Handelnden hat. Beispielsweise bezeichnet das Subjekt (der Baum) im Passivsatz „Der Baum wurde gefällt“ eher den Empfänger als den Handelnden der Aktion. Dagegen sind die Sätze „Jemand hat den Baum gefällt“ und „Der Baum ist gefällt“ Aktivsätze.\n",
      "\n",
      "Typischerweise ist es so, dass in Passivkonstruktionen, was gewöhnlich mit dem Objekt (oder manchmal einem anderen Argument) des Verbs ausgedrückt wird, jetzt mit dem Subjekt ausgedrückt wird, während das, was gewöhnlich mit dem Subjekt ausgedrückt wurde, entweder weggelassen wird oder durch einen Zusatz der Konstruktion angegeben wird. Das bedeutet, dass die Umwandlung eines aktiven Verbsinns in einen passiven Verbsinn ein Wertigkeit-verringernder Prozess ist („Entransitivierender Prozess“), weil er syntaktisch einen transitiven in einen intransitiven Sinn wandelt. [3] Das ist nicht immer der Fall; beispielsweise verringert eine Passivkonstruktion im Japanischen nicht unbedingt die Wertigkeit. [4]\n",
      "\n"
     ]
    }
   ],
   "source": [
    "print(f\"{gen_out(prompt + header)}\\n\")\n",
    "print(f\"{gen_out(prompt + p1)}\\n\")\n",
    "print(f\"{gen_out(prompt + p2)}\\n\")"
   ]
  },
  {
   "cell_type": "markdown",
   "metadata": {},
   "source": [
    "Passiv\n",
    "\n",
    "Eine Passivkonstruktion ist eine grammatikalische Konstruktion, die in vielen Sprachen vorkommt.[1] In einem Satz mit Passiv spricht das grammatische Subjekt das Thema oder den Empfänger des Hauptverbs aus – das heißt die Person oder das Ding, das die Aktion durchmacht oder dessen Zustand sich verändert.[2] Dies steht im Gegensatz zum Aktiv, in dem das Subjekt die Rolle des Handelnden spielt. Beispielsweise repräsentiert, im Passivsatz „Der Baum wurde umgehauen“, das Subjekt (der Baum) den Empfänger und nicht den Handelnden der Aktion. Im Gegensatz dazu sind die Sätze „Jemand hat den Baum umgehauen“ und „Der Baum liegt auf dem Boden“ aktive Sätze.\n",
    "\n",
    "Normalerweise wird in Passivsätzen das, was für gewöhnlich durch das Objekt (oder manchmal ein anderes Argument) des Verbs ausgedrückt wird, nun durch das Subjekt ausgedrückt, während das, was für gewöhnlich durch das Subjekt ausgedrückt wird, entweder weggelassen oder durch ein Adjunkt des Satzes angedeutet wird. Insofern stellt die Umwandlung des aktiven in einen passiven Sinn eines Verbs einen Valenz reduzierenden Prozess dar („detransitivierender Prozess“), weil er syntaktisch aus einem transitiven Sinn einen intransitiven macht.[3] Das ist nicht immer der Fall; zum Beispiel verringert im Japanischen eine Passivkonstruktion nicht unbedingt die Valenz.[4]\n",
    "\n",
    "- Accurate (examples also accurate)\n",
    "\n",
    "Passiv\n",
    "\n",
    "Eine Passivkonstruktion ist eine grammatikalische Konstruktion, die in vielen Sprachen vorkommt. [1] In einem Satz mit Passiv drückt das grammatische Subjekt das Thema oder den Patienten des Hauptverbs aus – d. h. die Person oder Sache, die die Handlung erfährt oder deren Zustand verändert wird. [2] Dies steht im Gegensatz zum Aktiv, in dem das Subjekt die Rolle des Agens hat. Beispielsweise bezeichnet im Passivsatz „Der Baum wurde gefällt“ das Subjekt (der Baum) den Patienten anstelle des Agens der Handlung. Im Gegensatz dazu sind die Sätze „Jemand fällte den Baum“ und „Der Baum ist gefällt“ Aktivsätze.\n",
    "\n",
    "Typischerweise wird bei Passivsätzen das, was gewöhnlich durch das Objekt (oder gelegentlich ein anderes Argument) des Verbs ausgedrückt wird, nun durch das Subjekt ausgedrückt, während das, was gewöhnlich durch das Subjekt ausgedrückt wird, entweder weggelassen wird oder durch irgendein Adjunkt des Satzes angezeigt wird. Das Umwandeln einer aktiven in eine passive Bedeutung des Verbs ist folglich ein valenzmindernder Prozess („detransitivierender Prozess“), weil er syntaktisch eine transitive in eine intransitive Bedeutung umwandelt.[3] Dies ist nicht immer der Fall; beispielsweise mindert eine Passivkonstruktion im Japanischen nicht unbedingt die Valenz.[4]\n",
    "\n",
    "- Accurate (more accurate terminology-wise)\n",
    "\n",
    "Passiv\n",
    "\n",
    "Eine Passivkonstruktion ist eine grammatikalische Satzkonstruktion, die in vielen Sprachen zu finden ist.[1] In einem Passivsatz drückt das grammatische Subjekt das Thema oder den Empfänger des Hauptverbs aus – also die Person oder Sache, die die Handlung erfährt oder deren Zustand geändert wird.[2] Dies steht im Gegensatz zum Aktiv, in dem das Subjekt die Rolle des Handelnden hat. Beispielsweise bezeichnet das Subjekt (der Baum) im Passivsatz „Der Baum wurde gefällt“ eher den Empfänger als den Handelnden der Aktion. Dagegen sind die Sätze „Jemand hat den Baum gefällt“ und „Der Baum ist gefällt“ Aktivsätze.\n",
    "\n",
    "Typischerweise ist es so, dass in Passivkonstruktionen, was gewöhnlich mit dem Objekt (oder manchmal einem anderen Argument) des Verbs ausgedrückt wird, jetzt mit dem Subjekt ausgedrückt wird, während das, was gewöhnlich mit dem Subjekt ausgedrückt wurde, entweder weggelassen wird oder durch einen Zusatz der Konstruktion angegeben wird. Das bedeutet, dass die Umwandlung eines aktiven Verbsinns in einen passiven Verbsinn ein Wertigkeit-verringernder Prozess ist („Entransitivierender Prozess“), weil er syntaktisch einen transitiven in einen intransitiven Sinn wandelt. [3] Das ist nicht immer der Fall; beispielsweise verringert eine Passivkonstruktion im Japanischen nicht unbedingt die Wertigkeit. [4]\n",
    "\n",
    "- \"Empfänger\" should be \"Patienten:\" literal translation of recipient instead of terminology-appropriate translation"
   ]
  },
  {
   "cell_type": "code",
   "execution_count": 60,
   "metadata": {},
   "outputs": [
    {
     "name": "stdout",
     "output_type": "stream",
     "text": [
      "Passiv\n",
      "\n",
      "Ein Passiv ist eine grammatikalische Struktur, die in vielen Sprachen vorkommt.[1] In einem Passivsatz drückt das Subjekt die Person oder Sache aus, die eine Handlung erfährt oder deren Zustand sich verändert.[2] Dies steht im Gegensatz zum Aktiv, bei dem das Subjekt die Rolle des Handelnden hat. Beispielsweise bezeichnet das Subjekt im Passivsatz \"Der Baum wurde gefällt\" die Person oder Sache, die die Handlung erfährt (das Objekt), und nicht die handelnde Person. Die Sätze \"Jemand hat den Baum gefällt\" und \"Der Baum ist gefällt\" sind hingegen Aktivsätze.\n",
      "\n",
      "Normalerweise wird in Passivsätzen das, was üblicherweise vom (oder manchmal von einem anderen) Objekt des Verbs ausgedrückt wird, jetzt durch das Subjekt ausgedrückt, während das, was normalerweise vom Subjekt ausgedrückt wird, entweder weggelassen oder durch einen Zusatz zum Satzteil angedeutet wird. Daher ist die Umwandlung einer aktiven Bedeutung eines Verbs in eine passive Bedeutung ein Valenz-erniedrigender Prozess („detransitivierender Prozess“), weil er eine transitive Bedeutung syntaktisch in eine intransitive Bedeutung verwandelt.[3] Dies ist nicht immer der Fall; Beispielsweise verringert eine Passivkonstruktion im Japanischen nicht unbedingt die Valenz.[4]\n",
      "\n"
     ]
    }
   ],
   "source": [
    "prompt = \"Translate this text into a simple paraphrase in German: \"\n",
    "print(f\"{gen_out(prompt + header)}\\n\")\n",
    "print(f\"{gen_out(prompt + p1)}\\n\")\n",
    "print(f\"{gen_out(prompt + p2)}\\n\")"
   ]
  },
  {
   "cell_type": "markdown",
   "metadata": {},
   "source": [
    "Passiv wird verwendet, wenn das Subjekt der Handlung nicht bekannt ist oder nicht betont werden soll.\n",
    "\n",
    "Ein Passiv ist eine grammatische Konstruktion, die in vielen Sprachen verwendet wird. [1] In einem Satz im Passiv drückt das grammatische Subjekt das Thema oder den Patienten des Hauptverbs aus - also die Person oder das Ding, die die Handlung erfährt oder deren Zustand sich ändert. [2] Dies steht im Gegensatz zum Aktiv, in dem das Subjekt die Rolle des Handelnden einnimmt. Beispielsweise bezeichnet das Subjekt (der Baum) im Passivsatz „Der Baum wurde gefällt“ eher den Patienten als den Handelnden der Handlung. Im Gegensatz dazu sind die Sätze „Jemand hat den Baum gefällt“ und „Der Baum ist gefällt“ Aktivsätze.\n",
    "\n",
    "Normalerweise wird in Passivsätzen das, was im Aktivsatz durch das Objekt (oder manchmal ein anderes Argument) des Verbs ausgedrückt wird, nun durch das Subjekt ausgedrückt. Was im Aktivsatz durch das Subjekt ausgedrückt wird, wird entweder weggelassen oder durch ein Adjunkt des Satzes gekennzeichnet. Daher ist die Umwandlung eines aktiven Satzes in einen passiven Satz ein Valenz-mindernder Prozess („Detransitivieren“), weil ein transitiver Satz syntaktisch in einen intransitiven Satz umgewandelt wird. [3] Dies ist nicht immer der Fall; beispielsweise verringert eine Passivkonstruktion im Japanischen die Valenz nicht unbedingt. [4]\n",
    "\n",
    "- Decent translation, maybe not much simplified?\n",
    "\n",
    "Passiv\n",
    "\n",
    "Ein Passiv ist eine grammatikalische Struktur, die in vielen Sprachen vorkommt.[1] In einem Passivsatz drückt das Subjekt die Person oder Sache aus, die eine Handlung erfährt oder deren Zustand sich verändert.[2] Dies steht im Gegensatz zum Aktiv, bei dem das Subjekt die Rolle des Handelnden hat. Beispielsweise bezeichnet das Subjekt im Passivsatz \"Der Baum wurde gefällt\" die Person oder Sache, die die Handlung erfährt (das Objekt), und nicht die handelnde Person. Die Sätze \"Jemand hat den Baum gefällt\" und \"Der Baum ist gefällt\" sind hingegen Aktivsätze.\n",
    "\n",
    "Normalerweise wird in Passivsätzen das, was üblicherweise vom (oder manchmal von einem anderen) Objekt des Verbs ausgedrückt wird, jetzt durch das Subjekt ausgedrückt, während das, was normalerweise vom Subjekt ausgedrückt wird, entweder weggelassen oder durch einen Zusatz zum Satzteil angedeutet wird. Daher ist die Umwandlung einer aktiven Bedeutung eines Verbs in eine passive Bedeutung ein Valenz-erniedrigender Prozess („detransitivierender Prozess“), weil er eine transitive Bedeutung syntaktisch in eine intransitive Bedeutung verwandelt.[3] Dies ist nicht immer der Fall; Beispielsweise verringert eine Passivkonstruktion im Japanischen nicht unbedingt die Valenz.[4]\n",
    "\n",
    "- Not much different from above"
   ]
  },
  {
   "cell_type": "code",
   "execution_count": 62,
   "metadata": {},
   "outputs": [
    {
     "name": "stdout",
     "output_type": "stream",
     "text": [
      "Passiv\n",
      "\n",
      "Eine Passivkonstruktion ist eine grammatische Konstruktion, die in vielen Sprachen vorkommt. [1] In einem Satz im Passiv drückt das grammatische Subjekt das Thema oder den Patienten des Hauptverbs aus – also die Person oder Sache, die die Aktion ausführt oder deren Zustand sich ändert. [2] Dies steht im Gegensatz zum Aktiv, in dem das Subjekt die Rolle des Agens hat. Beispielsweise bezeichnet das Subjekt (der Baum) im Passivsatz „Der Baum wurde gefällt“ den Patienten und nicht den Agens der Aktion. Im Gegensatz dazu sind die Sätze „Jemand hat den Baum gefällt“ und „Der Baum ist umgefallen“ Aktivsätze.\n",
      "\n",
      "Typischerweise wird in Passivsätzen das, was in der Regel durch das Objekt (oder ein manchmal anderes Argument) ausgedrückt wird, nun durch das Subjekt ausgedrückt, während das, was üblicherweise durch das Subjekt ausgedrückt wird, entweder weggelassen oder durch ein Attribut des Satzes angedeutet wird. So ist die Umwandlung eines aktiven Verbsinns in einen passiven Sinn ein Valenz-mindernder Prozess (\"Detransitivierungsprozess\"), da er ein transitives in ein intransitives syntaktisch umwandelt.[3] Dies ist nicht immer der Fall; beispielsweise verringert eine Passiv-Konstruktion im Japanischen die Valenz nicht notwendigerweise.[4]\n",
      "\n"
     ]
    }
   ],
   "source": [
    "prompt = \"Translate this text into simple German: \"\n",
    "print(f\"{gen_out(prompt + header)}\\n\")\n",
    "print(f\"{gen_out(prompt + p1)}\\n\")\n",
    "print(f\"{gen_out(prompt + p2)}\\n\")"
   ]
  },
  {
   "cell_type": "markdown",
   "metadata": {},
   "source": [
    "Passiv\n",
    "\n",
    "Eine Passivkonstruktion ist eine grammatikalische Konstruktion, die in vielen Sprachen vorkommt.[1] In einem Satz mit Passiv drückt das grammatische Subjekt das Thema oder Objekt des Hauptverbs aus – das heißt, die Person oder das Ding, das die Handlung erfährt oder dessen Zustand sich ändert.[2] Dies steht im Gegensatz zum Aktiv, in dem das Subjekt die Rolle des Handelnden spielt. Im Passivsatz „Der Baum wurde gefällt“ bezeichnet das Subjekt (der Baum) das Objekt und nicht den Handelnden der Handlung. Im Gegensatz dazu sind die Sätze „Jemand fällte den Baum“ und „Der Baum ist gefällt“ Aktivsätze.\n",
    "\n",
    "Normalerweise wird in Passivsätzen das, was typischerweise vom Objekt (oder manchmal von einem anderen Argument) des Verbs ausgedrückt wird, jetzt vom Subjekt ausgedrückt, während das, was typischerweise vom Subjekt ausgedrückt wird, entweder ausgelassen oder durch eine bestimmte Ergänzung des Satzes angezeigt wird. Daher ist die Umwandlung eines aktiven Verbsinns in einen Passivsinn ein valenzsenkender Prozess („detransitivierender Prozess“), weil er einen transitiven Sinn syntaktisch in einen intransitiven Sinn verwandelt. [3] Dies ist nicht immer der Fall; beispielsweise verringert eine Passivkonstruktion im Japanischen nicht unbedingt die Valenz. [4]\n",
    "\n",
    "- Similar to previous, more like a rewording\n",
    "\n",
    "Passiv\n",
    "\n",
    "Eine Passivkonstruktion ist eine grammatische Konstruktion, die in vielen Sprachen vorkommt. [1] In einem Satz im Passiv drückt das grammatische Subjekt das Thema oder den Patienten des Hauptverbs aus – also die Person oder Sache, die die Aktion ausführt oder deren Zustand sich ändert. [2] Dies steht im Gegensatz zum Aktiv, in dem das Subjekt die Rolle des Agens hat. Beispielsweise bezeichnet das Subjekt (der Baum) im Passivsatz „Der Baum wurde gefällt“ den Patienten und nicht den Agens der Aktion. Im Gegensatz dazu sind die Sätze „Jemand hat den Baum gefällt“ und „Der Baum ist umgefallen“ Aktivsätze.\n",
    "\n",
    "Typischerweise wird in Passivsätzen das, was in der Regel durch das Objekt (oder ein manchmal anderes Argument) ausgedrückt wird, nun durch das Subjekt ausgedrückt, während das, was üblicherweise durch das Subjekt ausgedrückt wird, entweder weggelassen oder durch ein Attribut des Satzes angedeutet wird. So ist die Umwandlung eines aktiven Verbsinns in einen passiven Sinn ein Valenz-mindernder Prozess (\"Detransitivierungsprozess\"), da er ein transitives in ein intransitives syntaktisch umwandelt.[3] Dies ist nicht immer der Fall; beispielsweise verringert eine Passiv-Konstruktion im Japanischen die Valenz nicht notwendigerweise.[4]"
   ]
  },
  {
   "cell_type": "code",
   "execution_count": 63,
   "metadata": {},
   "outputs": [
    {
     "name": "stdout",
     "output_type": "stream",
     "text": [
      "Passive Voice heißt auf Deutsch Passiv.\n",
      "\n",
      "Im Passiv steht das Objekt des Satzes im Vordergrund. Das Subjekt ist nicht mehr wichtig oder wird gar nicht genannt.\n",
      "\n",
      "**Beispiel:**\n",
      "\n",
      "* Aktiv: Der Hund beißt den Mann.\n",
      "* Passiv: Der Mann wird vom Hund gebissen.\n",
      "\n",
      "Beim Passiv ist das Subjekt das, was passiert (Patient). Es ist nicht der Handelnde (Agens). Beispiel: „Der Baum wurde gefällt“. Hier ist „der Baum“ das Subjekt und der Patient. Beim Aktiv ist das Subjekt das, was handelt (Agens). Beispiel: „Jemand hat den Baum gefällt“. Hier ist „jemand“ das Subjekt und der Agens.\n",
      "\n",
      "Normalerweise wird in Passivsätzen das, was üblicherweise durch das Objekt (oder manchmal ein anderes Argument) des Verbs ausgedrückt wird, nun vom Subjekt ausgedrückt, während das, was normalerweise vom Subjekt ausgedrückt wird, entweder weggelassen oder durch ein Adjunkt des Satzes angezeigt wird. Daher ist das Ändern eines aktiven Verbsinns in einen passiven ein Wertigkeitsminderungsprozess („detransitivierender Prozess“), da er einen transitiven Sinn syntaktisch in einen intransitiven Sinn verwandelt. [3] Dies ist nicht immer der Fall, z. B. verringert eine Passivkonstruktion im Japanischen nicht unbedingt die Wertigkeit. [4]\n",
      "\n"
     ]
    }
   ],
   "source": [
    "prompt = \"Translate this text into German and simplify: \"\n",
    "print(f\"{gen_out(prompt + header)}\\n\")\n",
    "print(f\"{gen_out(prompt + p1)}\\n\")\n",
    "print(f\"{gen_out(prompt + p2)}\\n\")"
   ]
  },
  {
   "cell_type": "markdown",
   "metadata": {},
   "source": [
    "Passive Voice heißt auf Deutsch Passiv.\n",
    "\n",
    "Im Passiv steht das Objekt des Satzes im Vordergrund. Das Subjekt ist nicht mehr wichtig oder wird gar nicht genannt.\n",
    "\n",
    "**Beispiel:**\n",
    "\n",
    "* Aktiv: Der Hund beißt den Mann.\n",
    "* Passiv: Der Mann wird vom Hund gebissen.\n",
    "\n",
    "Beim Passiv ist das Subjekt das, was passiert (Patient). Es ist nicht der Handelnde (Agens). Beispiel: „Der Baum wurde gefällt“. Hier ist „der Baum“ das Subjekt und der Patient. Beim Aktiv ist das Subjekt das, was handelt (Agens). Beispiel: „Jemand hat den Baum gefällt“. Hier ist „jemand“ das Subjekt und der Agens.\n",
    "\n",
    "Normalerweise wird in Passivsätzen das, was üblicherweise durch das Objekt (oder manchmal ein anderes Argument) des Verbs ausgedrückt wird, nun vom Subjekt ausgedrückt, während das, was normalerweise vom Subjekt ausgedrückt wird, entweder weggelassen oder durch ein Adjunkt des Satzes angezeigt wird. Daher ist das Ändern eines aktiven Verbsinns in einen passiven ein Wertigkeitsminderungsprozess („detransitivierender Prozess“), da er einen transitiven Sinn syntaktisch in einen intransitiven Sinn verwandelt. [3] Dies ist nicht immer der Fall, z. B. verringert eine Passivkonstruktion im Japanischen nicht unbedingt die Wertigkeit. [4]"
   ]
  },
  {
   "cell_type": "code",
   "execution_count": 65,
   "metadata": {},
   "outputs": [
    {
     "name": "stdout",
     "output_type": "stream",
     "text": [
      "**German Translation:**\n",
      "\n",
      "Das Haus wird von einem Architekten gebaut.\n",
      "\n",
      "**Simple Paraphrase:**\n",
      "\n",
      "An architect is building the house.\n",
      "\n",
      "**German Translation:**\n",
      "\n",
      "Ein Passivsatz ist eine grammatische Satzkonstruktion, die in vielen Sprachen vorkommt. [1] In einem Satz im Passiv drückt das grammatische Subjekt das Thema oder den Empfänger des Hauptverbs aus – also die Person oder Sache, die die Handlung erfährt oder deren Zustand sich ändert. [2] Dies steht im Gegensatz zum Aktiv, in dem das Subjekt die Rolle des Handelnden hat. Beispielsweise bezeichnet in dem Passivsatz „Der Baum wurde gefällt“ das Subjekt (der Baum) den Empfänger und nicht den Handelnden der Handlung. Im Gegensatz dazu sind die Sätze „Jemand fällte den Baum“ und „Der Baum ist gefällt“ Aktivsätze.\n",
      "\n",
      "**Einfache Paraphrase:**\n",
      "\n",
      "Im Passiv ist das Subjekt das, was passiert, während im Aktiv das Subjekt das ist, was etwas tut.\n",
      "\n",
      "**German Translation:**\n",
      "\n",
      "In Passivsätzen wird das, was normalerweise durch das Objekt (oder manchmal ein anderes Argument) des Verbs ausgedrückt wird, jetzt durch das Subjekt ausgedrückt, während das, was normalerweise durch das Subjekt ausgedrückt wird, entweder weggelassen oder durch eine Ergänzung des Satzes gekennzeichnet wird. Daher ist die Umwandlung des aktiven Sinns eines Verbs in einen passiven Sinn ein Wertigkeitsreduktionsprozess (\"detransitivierender Prozess\"), weil er einen transitiven Sinn syntaktisch in einen intransitiven Sinn umwandelt. [3] Dies ist nicht immer der Fall; beispielsweise nimmt in der japanischen Sprache eine Passivkonstruktion nicht unbedingt die Wertigkeit ab. [4]\n",
      "\n",
      "**Simple Paraphrase:**\n",
      "\n",
      "In Passivsätzen wird das Objekt (oder ein anderes Argument) des Verbs zum Subjekt, und das Subjekt wird weggelassen oder durch eine Ergänzung beschrieben. Dadurch wird ein transitives Verb (mit Objekt) in ein intransitives Verb (ohne Objekt) umgewandelt, was zu einer Verringerung der Wertigkeit führt. Allerdings kann dies in Sprachen wie Japanisch nicht immer der Fall sein.\n",
      "\n"
     ]
    }
   ],
   "source": [
    "prompt = \"Translate this text into German and output the simple paraphrase: \"\n",
    "print(f\"{gen_out(prompt + header)}\\n\")\n",
    "print(f\"{gen_out(prompt + p1)}\\n\")\n",
    "print(f\"{gen_out(prompt + p2)}\\n\")"
   ]
  },
  {
   "cell_type": "markdown",
   "metadata": {},
   "source": [
    "### Simplification"
   ]
  },
  {
   "cell_type": "markdown",
   "metadata": {},
   "source": [
    "Aktiv (Tätigkeitsform) und Passiv (Leideform) sind die beiden „Handlungsrichtungen“ oder Diathesen in der Konjugation des Verbs in der deutschen Grammatik.\n",
    "\n",
    "Der Ausdruck des Passivs erfolgt im Deutschen nicht durch eine Wortform des Verbs im engeren Sinn, sondern in der Regel durch eine Kombination mit Hilfsverben, vor allem werden und bekommen zusammen mit der sogenannten Partizipform des Verbs (z. B. wird gefressen). Diese Konstruktionen werden im weiteren Sinn aber mit unter die Konjugation des Verbs gerechnet („periphrastische Konjugation“). Das Aktiv hat keine eigenständige Markierung, sondern versteht sich als Abwesenheit einer Passivmarkierung.\n",
    "\n",
    "Das Aktiv fungiert im Deutschen als „Normalform“ des Verbs. In Aktivsätzen, die Handlungen beschreiben, erhält der handelnde Teilnehmer, der das Ereignis verursacht (das sogenannte Agens), eine hervorgehobene Position als Subjekt: Die Katze fraß die Maus. Die Funktion des Passivs ist es dann, die grammatische Darstellung dieser Verbergänzung zu unterdrücken, die im Aktiv die Subjektstelle besetzen würde. Sie kann ganz wegfallen oder aber mit einer Präposition eingeführt werden: Die Maus wurde (von der Katze) gefressen. Das Beispiel zeigt außerdem, dass der Teilnehmer, der in dem Ereignis eine Veränderung erfährt (Patiens oder Thema genannt) und der in solchen transitiven Aktivsätzen Objekt wird, im Passiv dann in die Subjektposition aufgerückt ist (Die Maus wurde …). Dieses Aufrücken eines Akkusativobjekts ist für das Passiv etwas Typisches, tritt jedoch nicht in allen Arten von Passivkonstruktionen auf.\n",
    "\n",
    "Der folgende Artikel behandelt Erscheinungsformen des Passivs im Deutschen und die Ableitung der Passivformen aus dem Aktiv. Für eine allgemeine Einordnung des Passivs gegenüber verwandten Kategorien siehe den Artikel Diathese (Linguistik). Zur Wahl von Subjekt und Objekt im Aktivsatz siehe unter Semantische Rolle.\n",
    "\n",
    "https://de.wikipedia.org/wiki/Aktiv_und_Passiv_im_Deutschen"
   ]
  },
  {
   "cell_type": "markdown",
   "metadata": {},
   "source": [
    "##### Default prompt:\n",
    "\n",
    "Verben in Deutsch können entweder in der aktiven (Tätigkeitsform) oder passiven (Leideform) verwendet werden.\n",
    "\n",
    "Im Deutschen wird das Passiv nicht durch eine spezielle Verbform ausgedrückt, sondern durch Hilfsverben wie \"werden\" oder \"bekommen\", die mit der Partizipform des Verbs (z. B. \"wird gegessen\") kombiniert werden. Diese Konstruktionen werden dennoch zur Konjugation des Verbs gezählt (als \"periphrastische Konjugation\"). Das Aktiv wird nicht durch eine spezielle Markierung gekennzeichnet, es ist einfach die Abwesenheit einer Passivmarkierung.\n",
    "\n",
    "Im Deutschen wird das Aktiv normalerweise verwendet, wenn das Verb eine Handlung beschreibt. In solchen \"Aktiv\"-Sätzen ist derjenige, der die Handlung ausführt, das \"Subjekt\" (z. B. \"Die Katze fraß die Maus\"). Das Passiv hingegen verdeckt diesen handelnden Teilnehmer. Stattdessen wird derjenige, der von der Handlung betroffen ist (\"Objekt\" im Aktiv-Satz), zum \"Subjekt\" im Passiv (z. B. \"Die Maus wurde gefressen\"). In einigen Fällen kann der handelnde Teilnehmer erwähnt werden, aber mit \"von\" eingeleitet werden (z. B. \"Die Maus wurde von der Katze gefressen\").\n",
    "\n",
    "Dieser Artikel erklärt, wie man im Deutschen Passivsätze bildet, also Sätze, in denen das Subjekt die Handlung empfängt. Um mehr über ähnliche Satzarten zu erfahren, schau dir den Artikel \"Diathese\" an. Für Informationen darüber, welches Wort in einem Aktivsatz Subjekt und welches Objekt ist, lies den Artikel \"Semantische Rolle\".\n",
    "\n",
    "- Decent\n",
    "\n",
    "In der deutschen Grammatik gibt es zwei verschiedene Arten, wie Verben genutzt werden können: aktive und passive Form. Diese werden auch als Diathesen bezeichnet.\n",
    "\n",
    "Im Deutschen wird die Passivform nicht durch eine direkte Veränderung des Verbs, sondern durch die Verwendung von Hilfsverben (z. B. \"werden\" oder \"bekommen\") zusammen mit einer besonderen Form des Verbs (z. B. \"gefressen\") gebildet. Diese Konstruktion wird als \"periphrastische Konjugation\" bezeichnet. Im Gegensatz dazu hat die Aktivform keine besondere Kennzeichnung, sondern wird als Abwesenheit einer Passivmarkierung betrachtet.\n",
    "\n",
    "Im Deutschen steht in Sätzen, die Handlungen beschreiben, normalerweise die Person, die die Handlung ausführt (Täter), an erster Stelle. Das nennt man Aktivsatz (z. B. \"Die Katze fraß die Maus\"). Manchmal kann man die Person, die die Handlung ausführt, weglassen oder mit \"von\" hinzufügen. Dann wird der Satz zum Passivsatz (z. B. \"Die Maus wurde gefressen\"). Im Passivsatz steht das Objekt aus dem Aktivsatz (das betroffen ist) an erster Stelle. Dies gilt jedoch nicht für alle Arten von Passivkonstruktionen.\n",
    "\n",
    "Dieser Artikel erklärt, wie man im Deutschen Verben in die Passivform umwandelt. Weitere Informationen dazu, was Passiv ist, findest du unter \"Diathese\". Und wenn du mehr über die Subjekte und Objekte in einem Aktivsatz erfahren möchtest, schau unter \"Semantische Rolle\" nach.\n",
    "\n",
    "- Hits main points, \"bit more bullet-point-esque\" (note short length)"
   ]
  },
  {
   "cell_type": "markdown",
   "metadata": {},
   "source": [
    "**Note: some short text is outputting in English**"
   ]
  },
  {
   "cell_type": "markdown",
   "metadata": {},
   "source": [
    "# CN-simplified"
   ]
  },
  {
   "cell_type": "markdown",
   "metadata": {},
   "source": [
    "me, can evaluate trad. simultaneously"
   ]
  },
  {
   "cell_type": "markdown",
   "metadata": {},
   "source": [
    "# Japanese"
   ]
  },
  {
   "cell_type": "markdown",
   "metadata": {},
   "source": [
    "Participant B (I might add)"
   ]
  },
  {
   "cell_type": "markdown",
   "metadata": {},
   "source": [
    "# Hindi"
   ]
  },
  {
   "cell_type": "markdown",
   "metadata": {},
   "source": [
    "MB"
   ]
  },
  {
   "cell_type": "markdown",
   "metadata": {},
   "source": [
    "# French"
   ]
  },
  {
   "cell_type": "markdown",
   "metadata": {},
   "source": [
    "Participant BI"
   ]
  },
  {
   "cell_type": "markdown",
   "metadata": {},
   "source": [
    "# Arabic (MSA)"
   ]
  },
  {
   "cell_type": "markdown",
   "metadata": {},
   "source": [
    "Participant BI"
   ]
  },
  {
   "cell_type": "markdown",
   "metadata": {},
   "source": [
    "# Polish"
   ]
  },
  {
   "cell_type": "markdown",
   "metadata": {},
   "source": [
    "Passive Voice\n",
    "\n",
    "A passive voice construction is a grammatical voice construction that is found in many languages.[1] In a clause with passive voice, the grammatical subject expresses the theme or patient of the main verb – that is, the person or thing that undergoes the action or has its state changed.[2] This contrasts with active voice, in which the subject has the agent role. For example, in the passive sentence \"The tree was pulled down\", the subject (the tree) denotes the patient rather than the agent of the action. In contrast, the sentences \"Someone pulled down the tree\" and \"The tree is down\" are active sentences.\n",
    "\n",
    "Typically, in passive clauses, what is usually expressed by the object (or sometimes another argument) of the verb is now expressed by the subject, while what is usually expressed by the subject is either omitted or is indicated by some adjunct of the clause. Thus, turning an active sense of a verb into a passive sense is a valence-decreasing process (\"detransitivizing process\"), because it syntactically turns a transitive sense into an intransitive sense.[3] This is not always the case; for example in Japanese a passive-voice construction does not necessarily decrease valence.[4]\n",
    "\n",
    "https://en.wikipedia.org/wiki/Passive_voice"
   ]
  },
  {
   "cell_type": "markdown",
   "metadata": {},
   "source": [
    "Note: Poverty of stimulus failed to translate properly"
   ]
  },
  {
   "cell_type": "markdown",
   "metadata": {},
   "source": [
    "### Translation"
   ]
  },
  {
   "cell_type": "markdown",
   "metadata": {},
   "source": [
    "Konstrukcja bierna to konstrukcja gramatyczna głosu biernego znajdująca się w większości języków.[1] W zdaniu z głosem biernym, gramatyczny podmiot wyraża temat lub dopełnienie czasownika głównego - to znaczy, osobę lub rzecz, która podlega danemu działaniu lub której stan ulega zmianie.[2] Przeciwieństwem takiej konstrukcji jest głos czynny, w którym podmiot ma rolę sprawcy. Na przykład, w zdaniu biernym \"Drzewo zostało ścięte\", podmiot (drzewo) oznacza raczej dopełnienie, a nie sprawcę czynności. Wręcz przeciwnie, zdania \"Ktoś ściął drzewo\" i \"Drzewo zostało ścięte\" to zdania czynne.\n",
    "\n",
    "Zazwyczaj w zdaniach biernych to, co zwykle wyrażone jest przez przedmiot (lub czasami inny argument) czasownika, jest wyrażane przez podmiot, podczas gdy to, co zwykle wyrażane jest przez podmiot, jest albo pominięte, albo wskazane przez jakiś zaimek w zdaniu. Tak więc, zmiana strony czynnej czasownika na stronę bierną jest procesem zmniejszania walencji („procesem detranzytywizacji”), ponieważ składniowo zmienia stronę czynną na stronę bierną.[3] Nie zawsze tak jest; na przykład, w japońskim konstrukcja w stronie biernej niekoniecznie zmniejsza walencję.[4]\n",
    "\n",
    "- Pretty accurate(?) translation"
   ]
  },
  {
   "cell_type": "code",
   "execution_count": 11,
   "metadata": {},
   "outputs": [],
   "source": [
    "prompt = \"Translate the this text into Polish: \""
   ]
  },
  {
   "cell_type": "code",
   "execution_count": 10,
   "metadata": {},
   "outputs": [],
   "source": [
    "header = \"Passive Voice\"\n",
    "p1 = 'A passive voice construction is a grammatical voice construction that is found in many languages.[1] In a clause with passive voice, the grammatical subject expresses the theme or patient of the main verb – that is, the person or thing that undergoes the action or has its state changed.[2] This contrasts with active voice, in which the subject has the agent role. For example, in the passive sentence \"The tree was pulled down\", the subject (the tree) denotes the patient rather than the agent of the action. In contrast, the sentences \"Someone pulled down the tree\" and \"The tree is down\" are active sentences.'\n",
    "p2 = 'Typically, in passive clauses, what is usually expressed by the object (or sometimes another argument) of the verb is now expressed by the subject, while what is usually expressed by the subject is either omitted or is indicated by some adjunct of the clause. Thus, turning an active sense of a verb into a passive sense is a valence-decreasing process (\"detransitivizing process\"), because it syntactically turns a transitive sense into an intransitive sense.[3] This is not always the case; for example in Japanese a passive-voice construction does not necessarily decrease valence.[4]'"
   ]
  },
  {
   "cell_type": "code",
   "execution_count": 13,
   "metadata": {},
   "outputs": [
    {
     "name": "stdout",
     "output_type": "stream",
     "text": [
      "Strona bierna\n",
      "Konstrukcja gramatyczna nazywana „stroną bierną” jest używana w wielu językach.[1] W zdaniu o konstrukcji strony biernej podmiot wyraża temat, czyli osobę lub rzecz będącą przedmiotem czynności wyrażanej przez orzeczenie, czyli osobę lub rzecz, która się stała albo której stan się zmienił.[2] W opozycji do konstrukcji strony biernej w konstrukcji strony czynnej podmiot pełni rolę czynnika. Na przykład w zdaniu „Drzewo zostało ścięte”, podmiot (drzewo) oznacza przedmiot czynności wyrażanej przez orzeczenie, a nie jej wykonawcę. Natomiast zdania „Ktoś ściął drzewo” i „Drzewo jest ścięte” to zdania o konstrukcji strony czynnej.\n",
      "Typowo w stronie biernej to, co zwykle wyrażane jest przez dopełnienie (a czasami inny argument) czasownika, jest teraz wyrażone przez podmiot, podczas gdy to, co zwykle wyrażane jest przez podmiot, jest albo pominięte, albo zaznaczone jakąś konstrukcją pomocniczą zdania. W związku z tym zamiana strony czynnej czasownika na bierną stanowi proces zmniejszania walencji („proces detranzytywizacji”), ponieważ gramatycznie zmienia stronę przechodnią na nieprzechodnią.[3] Nie zawsze tak jest; na przykład w języku japońskim konstrukcja w stronie biernej niekoniecznie zmniejsza walencji.[4]\n"
     ]
    }
   ],
   "source": [
    "print(f\"{gen_out(prompt + header)}\\n\")\n",
    "print(f\"{gen_out(prompt + p1)}\\n\")\n",
    "print(f\"{gen_out(prompt + p2)}\\n\")"
   ]
  },
  {
   "cell_type": "markdown",
   "metadata": {},
   "source": [
    "Strona bierna\n",
    "\n",
    "Konstrukcja strony biernej to konstrukcja gramatyczna występująca w wielu językach.[1] W zdaniu z czasownikiem w stronie biernej podmiot gramatyczny wskazuje na motyw lub pacjenta głównego czasownika – czyli osobę lub rzecz, która ulega działaniu lub której stan ulega zmianie.[2] Kontrastuje to z formą czynną, w której podmiot pełni rolę sprawcy. Na przykład, w zdaniu biernym „Drzewo zostało ścięte”, podmiot (drzewo) oznacza raczej pacjenta niż sprawcę czynu. Natomiast zdania „Ktoś ściął drzewo” i „To drzewo zostało ścięte” to zdania czynne.\n",
    "\n",
    "Zazwyczaj w zdaniach biernych, to co na ogół wyrazone jest przez dopełnienie (lub czasami inny argument) czasownika jest teraz wyrażone przez podmiot, natomiast to co na ogół wyrażone jest przez podmiot jest albo pominięte albo wskazane przez pewien przydatek zdania. Zatem zmiana czynnej formy czasownika na bierną jest procesem zmniejszającym walencję (''detranzytywizującym''), ponieważ syntaktycznie zmienia sens przechodni na nieprzechodni. [3] Nie zawsze tak jest; na przykład w japońskim konstrukcja w stronie biernej niekoniecznie zmniejsza walencję. [4]\n",
    "\n",
    "- Pretty decent(?)\n",
    "\n",
    "\n",
    "Strona bierna\n",
    "\n",
    "Konstrukcja gramatyczna nazywana „stroną bierną” jest używana w wielu językach.[1] W zdaniu o konstrukcji strony biernej podmiot wyraża temat, czyli osobę lub rzecz będącą przedmiotem czynności wyrażanej przez orzeczenie, czyli osobę lub rzecz, która się stała albo której stan się zmienił.[2] W opozycji do konstrukcji strony biernej w konstrukcji strony czynnej podmiot pełni rolę czynnika. Na przykład w zdaniu „Drzewo zostało ścięte”, podmiot (drzewo) oznacza przedmiot czynności wyrażanej przez orzeczenie, a nie jej wykonawcę. Natomiast zdania „Ktoś ściął drzewo” i „Drzewo jest ścięte” to zdania o konstrukcji strony czynnej.\n",
    "\n",
    "Typowo w stronie biernej to, co zwykle wyrażane jest przez dopełnienie (a czasami inny argument) czasownika, jest teraz wyrażone przez podmiot, podczas gdy to, co zwykle wyrażane jest przez podmiot, jest albo pominięte, albo zaznaczone jakąś konstrukcją pomocniczą zdania. W związku z tym zamiana strony czynnej czasownika na bierną stanowi proces zmniejszania walencji („proces detranzytywizacji”), ponieważ gramatycznie zmienia stronę przechodnią na nieprzechodnią.[3] Nie zawsze tak jest; na przykład w języku japońskim konstrukcja w stronie biernej niekoniecznie zmniejsza walencji.[4]\n",
    "\n",
    "- Accurate"
   ]
  },
  {
   "cell_type": "code",
   "execution_count": 22,
   "metadata": {},
   "outputs": [],
   "source": [
    "prompt = \"Translate this text into a simple paraphrase in Polish: \""
   ]
  },
  {
   "cell_type": "code",
   "execution_count": 25,
   "metadata": {},
   "outputs": [
    {
     "name": "stdout",
     "output_type": "stream",
     "text": [
      "Strona bierna\n",
      "\n",
      "Konstrukcja strony biernej to forma gramatyczna występująca w wielu językach [1]. W zdaniu w stronie biernej podmiot gramatyczny wyraża motyw lub dopełnienie czasownika głównego, czyli osobę lub rzecz, która wykonuje czynność lub zmienia swój stan [2]. Kontrastuje to ze stroną czynną, w której podmiot pełni rolę sprawcy. Na przykład w zdaniu biernym „Drzewo zostało ścięte” podmiot (drzewo) oznacza pacjenta, a nie sprawcę czynności. W przeciwieństwie do tego zdania „Ktoś ściął drzewo” i „Drzewo jest ścięte” są zdaniami czynnymi.\n",
      "\n",
      "Zazwyczaj w zdaniach biernych to, co zwykle wyraża dopełnienie (lub czasem inny argument) czasownika, jest teraz wyrażone przez podmiot, natomiast to, co zwykle jest wyrażane przez podmiot, jest albo pominięte, albo wskazane przez jakiś dodatek do zdania. Zatem zmiana czynnego sensu czasownika na bierny jest procesem zmniejszającym walencję („proces detranzytywizacji”), ponieważ składniowo zmienia sens przechodni na nieprzechodni.[3] Nie zawsze tak jest; na przykład w języku japońskim konstrukcja na stronie biernej niekoniecznie zmniejsza walencję.[4]\n",
      "\n"
     ]
    }
   ],
   "source": [
    "print(f\"{gen_out(prompt + header)}\\n\")\n",
    "print(f\"{gen_out(prompt + p1)}\\n\")\n",
    "print(f\"{gen_out(prompt + p2)}\\n\")"
   ]
  },
  {
   "cell_type": "markdown",
   "metadata": {},
   "source": [
    "Strona bierna\n",
    "\n",
    "Budowa gramatyczna czasownika w stronie biernej występuje w wielu językach.[1] W zdaniu z bierną stroną gramatyczną podmiot wyraża temat lub biernik czasownika głównego – to znaczy, osobę lub rzecz, która podlega działaniu lub której stan uległ zmianie.[2] Kontrastuje to ze stroną czynną, w której podmiot działa. Na przykład w biernym zdaniu „Drzewo zostało ścięte”, podmiot (drzewo) wskazuje biernik, a nie sprawcę działania. Natomiast zdania „Ktoś ściął drzewo” i „Drzewo jest ścięte” są w stronie czynnej.\n",
    "\n",
    "Zazwyczaj w zdaniach biernych to, co zazwyczaj wyraża przedmiot (lub czasami inny argument) czasownika, teraz wyraża podmiot, podczas gdy to, co zwykle jest wyrażane przez podmiot, jest albo pomijane, albo wskazane przez jakiś dodatek zdania. Tak więc przejście z aktywnego na bierne znaczenie czasownika to proces zmniejszający wartościowość („proces detranzytywizujący”), ponieważ składniowo zmienia on znaczenie przechodnie w nieprzechodnie.[3] Nie zawsze tak jest; na przykład w japońskim konstrukcja w stronie biernej niekoniecznie zmniejsza wartościwość.[4]\n",
    "\n",
    " - Accurate, used simpler words but hard to say if it's simpler, conveys what it's supposed to\n",
    "\n",
    "Strona bierna\n",
    "\n",
    "Konstrukcja bierna to gramatyczna konstrukcja występująca w wielu językach. [1] W zdaniu w formie biernej podmiot gramatyczny wyraża temat lub pacjenta głównego czasownika - czyli osobę lub rzecz, która podlega działaniu lub której stan ulega zmianie. [2] Kontrastuje to z formą czynną, w której podmiot pełni rolę sprawcy. Na przykład w zdaniu biernym \"Drzewo zostało ścięte\" podmiot (drzewo) oznacza pacjenta, a nie sprawcę działania. Natomiast zdania \"Ktoś ściął drzewo\" i \"Drzewo jest ścięte\" są zdaniami w formie czynnej.\n",
    "\n",
    "Zazwyczaj w zdaniach biernych to, co zwykle jest wyrażane przez dopełnienie (lub czasami inny argument) czasownika, jest teraz wyrażane przez podmiot, podczas gdy to, co jest zwykle wyrażane przez podmiot, jest albo pominięte, albo wskazane przez jakiś dopełniacz zdania. Tak więc przekształcenie czynnej formy czasownika w formę bierną jest procesem zmniejszającym walencję („proces detranzytywizacji”), ponieważ składniowo przekształca sens przechodni w nieprzechodni.[3] Nie zawsze tak jest; na przykład w języku japońskim konstrukcja w stronie biernej niekoniecznie zmniejsza walencyjność.[4]\n",
    "\n",
    "- Simpler than previous\n",
    "\n",
    "Strona bierna\n",
    "\n",
    "Konstrukcja strony biernej to forma gramatyczna występująca w wielu językach [1]. W zdaniu w stronie biernej podmiot gramatyczny wyraża motyw lub dopełnienie czasownika głównego, czyli osobę lub rzecz, która wykonuje czynność lub zmienia swój stan [2]. Kontrastuje to ze stroną czynną, w której podmiot pełni rolę sprawcy. Na przykład w zdaniu biernym „Drzewo zostało ścięte” podmiot (drzewo) oznacza pacjenta, a nie sprawcę czynności. W przeciwieństwie do tego zdania „Ktoś ściął drzewo” i „Drzewo jest ścięte” są zdaniami czynnymi.\n",
    "\n",
    "Zazwyczaj w zdaniach biernych to, co zwykle wyraża dopełnienie (lub czasem inny argument) czasownika, jest teraz wyrażone przez podmiot, natomiast to, co zwykle jest wyrażane przez podmiot, jest albo pominięte, albo wskazane przez jakiś dodatek do zdania. Zatem zmiana czynnego sensu czasownika na bierny jest procesem zmniejszającym walencję („proces detranzytywizacji”), ponieważ składniowo zmienia sens przechodni na nieprzechodni.[3] Nie zawsze tak jest; na przykład w języku japońskim konstrukcja na stronie biernej niekoniecznie zmniejsza walencję.[4]\n",
    "\n",
    "- Accurate, less simplified (more formal)"
   ]
  },
  {
   "cell_type": "markdown",
   "metadata": {},
   "source": [
    "### Simplification"
   ]
  },
  {
   "cell_type": "markdown",
   "metadata": {},
   "source": [
    "Strona bierna w języku angielskim\n",
    "\n",
    "Strona bierna w języku angielskim – kategoria gramatyczna służąca do przedstawienia dopełnienia jako podmiotu w języku angielskim. Strona bierna tworzona jest przy pomocy czasownika to be i imiesłowu przeszłego biernego. W przeciwieństwie do większości języków indoeuropejskich możliwa jest również transformacja dopełnienia dalszego na podmiot, choć dotyczy tylko niektórych czasowników. Strona bierna występuje w większości czasów, choć nie ze wszystkimi czasownikami; istnieje pokaźna grupa czasowników nieprzechodnich, które nie konotują dopełnienia.\n",
    "\n",
    "Zasady tworzenia strony biernej[edytuj | edytuj kod]\n",
    "\n",
    "Strona bierna występuje w zdaniu, w którym podmiot nie wykonuje operacji, a dana operacja jest wykonywana na podmiocie. Stronę bierną tworzy się przy pomocy czasownika to be i imiesłowu biernego czasu przeszłego; nie istnieje oddzielna forma czasownika, jak np. w łacinie. Przy transformacji podmiot zdania staje się dopełnieniem[1]. Z reguły podmiotem w stronie biernej znajduje się dopełnienie bliższe zdania w stronie czynnej:\n",
    "\n",
    "Każde zdanie w stronie biernej ma swój odpowiednik w stronie czynnej. Jeśli zdanie w stronie biernej nie ma dopełnienia, np: The door was shut, wprowadza się podmiot nieokreślony, np: Somebody shut the door[4]."
   ]
  },
  {
   "cell_type": "code",
   "execution_count": 28,
   "metadata": {},
   "outputs": [],
   "source": [
    "h2 = 'Strona bierna w języku angielskim'\n",
    "p3 = 'Strona bierna w języku angielskim – kategoria gramatyczna służąca do przedstawienia dopełnienia jako podmiotu w języku angielskim. Strona bierna tworzona jest przy pomocy czasownika to be i imiesłowu przeszłego biernego. W przeciwieństwie do większości języków indoeuropejskich możliwa jest również transformacja dopełnienia dalszego na podmiot, choć dotyczy tylko niektórych czasowników. Strona bierna występuje w większości czasów, choć nie ze wszystkimi czasownikami; istnieje pokaźna grupa czasowników nieprzechodnich, które nie konotują dopełnienia.'\n",
    "h3 = 'Zasady tworzenia strony biernej'\n",
    "p4 = 'Strona bierna występuje w zdaniu, w którym podmiot nie wykonuje operacji, a dana operacja jest wykonywana na podmiocie. Stronę bierną tworzy się przy pomocy czasownika to be i imiesłowu biernego czasu przeszłego; nie istnieje oddzielna forma czasownika, jak np. w łacinie. Przy transformacji podmiot zdania staje się dopełnieniem[1]. Z reguły podmiotem w stronie biernej znajduje się dopełnienie bliższe zdania w stronie czynnej:'\n",
    "p5 = 'Każde zdanie w stronie biernej ma swój odpowiednik w stronie czynnej. Jeśli zdanie w stronie biernej nie ma dopełnienia, np: The door was shut, wprowadza się podmiot nieokreślony, np: Somebody shut the door[4].'"
   ]
  },
  {
   "cell_type": "markdown",
   "metadata": {},
   "source": [
    "##### prompt 1: paraphrase? complete fail"
   ]
  },
  {
   "cell_type": "code",
   "execution_count": 26,
   "metadata": {},
   "outputs": [],
   "source": [
    "prompt = \"Paraphrase this text simply: \""
   ]
  },
  {
   "cell_type": "code",
   "execution_count": 30,
   "metadata": {},
   "outputs": [
    {
     "name": "stdout",
     "output_type": "stream",
     "text": [
      "Passive Voice in English\n",
      "\n",
      "W języku angielskim pasyw mówi nam, kto (lub co) jest tym, na kogo dzieje się działanie. Tworzymy pasyw za pomocą czasownika \"być\" i imiesłowu biernego.\n",
      "\n",
      "W przeciwieństwie do innych języków, w angielskim czasami możemy nawet zmienić przedmiot pośredni w podmiot, ale tylko w przypadku niektórych czasowników.\n",
      "\n",
      "Pasyw może być używany w większości czasów, ale nie ze wszystkimi czasownikami. Jest wiele czasowników, które nie mogą mieć formy biernej, ponieważ nie mają one przedmiotu.\n",
      "\n",
      "Jak tworzyć zdania w stronie biernej\n",
      "\n",
      "W zdaniu biernym osoba lub rzecz, której dotyczy czynność, nie wykonuje jej, a jest jej celem. Strona bierna powstaje, gdy używamy czasownika \"być\" i imiesłowu biernego czasu przeszłego. Podmiot zdania biernego jest tym samym, co dopełnienie w zdaniu czynnym.\n",
      "\n",
      "In a passive sentence, you can change it to an active sentence. If there isn't an object in the passive sentence (for example: \"The door was shut\"), you can add an indefinite subject (for example: \"Somebody shut the door\").\n",
      "\n"
     ]
    }
   ],
   "source": [
    "print(f\"{gen_out(prompt + h2)}\\n\")\n",
    "print(f\"{gen_out(prompt + p3)}\\n\")\n",
    "print(f\"{gen_out(prompt + h3)}\\n\")\n",
    "print(f\"{gen_out(prompt + p4)}\\n\")\n",
    "print(f\"{gen_out(prompt + p5)}\\n\")"
   ]
  },
  {
   "cell_type": "markdown",
   "metadata": {},
   "source": [
    "Passive Voice in English\n",
    "\n",
    "W języku angielskim pasyw mówi nam, kto (lub co) jest tym, na kogo dzieje się działanie. Tworzymy pasyw za pomocą czasownika \"być\" i imiesłowu biernego.\n",
    "\n",
    "W przeciwieństwie do innych języków, w angielskim czasami możemy nawet zmienić przedmiot pośredni w podmiot, ale tylko w przypadku niektórych czasowników.\n",
    "\n",
    "Pasyw może być używany w większości czasów, ale nie ze wszystkimi czasownikami. Jest wiele czasowników, które nie mogą mieć formy biernej, ponieważ nie mają one przedmiotu.\n",
    "\n",
    "Jak tworzyć zdania w stronie biernej\n",
    "\n",
    "W zdaniu biernym osoba lub rzecz, której dotyczy czynność, nie wykonuje jej, a jest jej celem. Strona bierna powstaje, gdy używamy czasownika \"być\" i imiesłowu biernego czasu przeszłego. Podmiot zdania biernego jest tym samym, co dopełnienie w zdaniu czynnym.\n",
    "\n",
    "In a passive sentence, you can change it to an active sentence. If there isn't an object in the passive sentence (for example: \"The door was shut\"), you can add an indefinite subject (for example: \"Somebody shut the door\")."
   ]
  },
  {
   "cell_type": "markdown",
   "metadata": {},
   "source": [
    "##### prompt 2: more worse fails"
   ]
  },
  {
   "cell_type": "code",
   "execution_count": 31,
   "metadata": {},
   "outputs": [],
   "source": [
    "prompt = \"Simplify this text: \""
   ]
  },
  {
   "cell_type": "code",
   "execution_count": 32,
   "metadata": {},
   "outputs": [
    {
     "name": "stdout",
     "output_type": "stream",
     "text": [
      "Passive Voice in English\n",
      "\n",
      "W angielskim strona bierna pozwala pokazać zdanie z dopełnieniem jako podmiot. Tworzy się ją za pomocą czasownika \"to be\" i imiesłowu biernego. W przeciwieństwie do innych języków z rodziny indoeuropejskiej, w angielskim można czasem zamienić dopełnienie dopełniaczowe na podmiot, ale tylko przy niektórych czasownikach. Strony biernej można używać w większości czasów, ale nie ze wszystkimi czasownikami. Jest wiele czasowników nieprzechodnich, które nie przyjmują dopełnienia.\n",
      "\n",
      "Passive Voice Rules\n",
      "\n",
      "Passive voice is used when the subject isn't doing the action, but rather has the action done to it. Passive voice is formed using the verb \"to be\" and the past participle verb form; there's no separate verb tense like in Latin languages. When changing to passive voice, the subject of the sentence becomes the object. Typically, the subject in passive voice was the direct object in the active voice sentence.\n",
      "\n",
      "Every sentence in the passive voice has a corresponding sentence in the active voice. When a passive sentence does not have an object (e.g., \"The door was shut\"), an indefinite subject is introduced (e.g., \"Somebody shut the door\").\n",
      "\n"
     ]
    }
   ],
   "source": [
    "print(f\"{gen_out(prompt + h2)}\\n\")\n",
    "print(f\"{gen_out(prompt + p3)}\\n\")\n",
    "print(f\"{gen_out(prompt + h3)}\\n\")\n",
    "print(f\"{gen_out(prompt + p4)}\\n\")\n",
    "print(f\"{gen_out(prompt + p5)}\\n\")"
   ]
  },
  {
   "cell_type": "markdown",
   "metadata": {},
   "source": [
    "Passive Voice in English\n",
    "\n",
    "W angielskim strona bierna pozwala pokazać zdanie z dopełnieniem jako podmiot. Tworzy się ją za pomocą czasownika \"to be\" i imiesłowu biernego. W przeciwieństwie do innych języków z rodziny indoeuropejskiej, w angielskim można czasem zamienić dopełnienie dopełniaczowe na podmiot, ale tylko przy niektórych czasownikach. Strony biernej można używać w większości czasów, ale nie ze wszystkimi czasownikami. Jest wiele czasowników nieprzechodnich, które nie przyjmują dopełnienia.\n",
    "\n",
    "Passive Voice Rules\n",
    "\n",
    "Passive voice is used when the subject isn't doing the action, but rather has the action done to it. Passive voice is formed using the verb \"to be\" and the past participle verb form; there's no separate verb tense like in Latin languages. When changing to passive voice, the subject of the sentence becomes the object. Typically, the subject in passive voice was the direct object in the active voice sentence.\n",
    "\n",
    "Every sentence in the passive voice has a corresponding sentence in the active voice. When a passive sentence does not have an object (e.g., \"The door was shut\"), an indefinite subject is introduced (e.g., \"Somebody shut the door\").\n"
   ]
  },
  {
   "cell_type": "code",
   "execution_count": 33,
   "metadata": {},
   "outputs": [],
   "source": [
    "prompt = \"Rephrase this text in simpler language: \""
   ]
  },
  {
   "cell_type": "code",
   "execution_count": 34,
   "metadata": {},
   "outputs": [
    {
     "name": "stdout",
     "output_type": "stream",
     "text": [
      "Passive Voice in English\n",
      "\n",
      "**Co to jest strona bierna w języku angielskim?**\n",
      "\n",
      "To sposób mówienia, w którym zamiast kogoś, kto coś robi, mówimy o tym, co jest robione.\n",
      "\n",
      "**Jak tworzy się stronę bierną?**\n",
      "\n",
      "Używamy czasownika \"to be\" i słowa kończącego się na \"-ed\" lub \"-en\". Na przykład:\n",
      "\n",
      "* Active: My dog eats a bone. (Mój pies je kość.)\n",
      "* Passive: A bone is eaten by my dog. (Kość jest zjedzona przez mojego psa.)\n",
      "\n",
      "**Ciekawostka:**\n",
      "\n",
      "W języku angielskim możemy także mówić o tym, komu coś się przydarzyło. Na przykład:\n",
      "\n",
      "* Active: Thieves stole my car. (Złodzieje ukradli mój samochód.)\n",
      "* Passive: My car was stolen by thieves. (Mój samochód został skradziony przez złodziei.)\n",
      "\n",
      "**O czym pamiętać:**\n",
      "\n",
      "* Nie wszystkie czasowniki mogą być używane w stronie biernej.\n",
      "* Strona bierna nie jest używana w każdym czasie.\n",
      "\n",
      "Jak tworzyć zdania w stronie biernej\n",
      "\n",
      "Kiedy w zdaniu ktoś lub coś nie wykonuje czynności, ale jest jej ofiarą, mówimy o stronie biernej.\n",
      "\n",
      "Tworzymy ją, dodając czasownik \"być\" (np. \"jest\", \"była\") do słowa wyrażającego daną czynność (np. \"wykonany\", \"naprawiony\"). Nie ma osobnej formy czasownika, jak w niektórych językach.\n",
      "\n",
      "Gdy tworzymy zdanie w stronie biernej, podmiot (ktoś lub coś, kto wykonuje czynność) zamienia się w dopełnienie (ktoś lub coś, wobec kogo czynność jest wykonywana).\n",
      "\n",
      "W każdym zdaniu biernym można znaleźć odpowiadające mu zdanie czynne. Jeśli zdanie bierne nie ma obiektu, na przykład: \"Drzwi były zamknięte\", dodawany jest bliżej nieokreślony podmiot, na przykład: \"Ktoś zamknął drzwi\".\n",
      "\n"
     ]
    }
   ],
   "source": [
    "print(f\"{gen_out(prompt + h2)}\\n\")\n",
    "print(f\"{gen_out(prompt + p3)}\\n\")\n",
    "print(f\"{gen_out(prompt + h3)}\\n\")\n",
    "print(f\"{gen_out(prompt + p4)}\\n\")\n",
    "print(f\"{gen_out(prompt + p5)}\\n\")"
   ]
  },
  {
   "cell_type": "markdown",
   "metadata": {},
   "source": [
    "Używamy czasownika \"to be\" i słowa kończącego się na \"-ed\" lub \"-en\". Na przykład:\n",
    "\n",
    "* Active: My dog eats a bone. (Mój pies je kość.)\n",
    "* Passive: A bone is eaten by my dog. (Kość jest zjedzona przez mojego psa.)\n",
    "\n",
    "**Ciekawostka:**\n",
    "\n",
    "W języku angielskim możemy także mówić o tym, komu coś się przydarzyło. Na przykład:\n",
    "\n",
    "* Active: Thieves stole my car. (Złodzieje ukradli mój samochód.)\n",
    "* Passive: My car was stolen by thieves. (Mój samochód został skradziony przez złodziei.)\n",
    "\n",
    "**O czym pamiętać:**\n",
    "\n",
    "* Nie wszystkie czasowniki mogą być używane w stronie biernej.\n",
    "* Strona bierna nie jest używana w każdym czasie.\n",
    "\n",
    "Jak tworzyć zdania w stronie biernej\n",
    "\n",
    "Kiedy w zdaniu ktoś lub coś nie wykonuje czynności, ale jest jej ofiarą, mówimy o stronie biernej.\n",
    "\n",
    "Tworzymy ją, dodając czasownik \"być\" (np. \"jest\", \"była\") do słowa wyrażającego daną czynność (np. \"wykonany\", \"naprawiony\"). Nie ma osobnej formy czasownika, jak w niektórych językach.\n",
    "\n",
    "Gdy tworzymy zdanie w stronie biernej, podmiot (ktoś lub coś, kto wykonuje czynność) zamienia się w dopełnienie (ktoś lub coś, wobec kogo czynność jest wykonywana).\n",
    "\n",
    "W każdym zdaniu biernym można znaleźć odpowiadające mu zdanie czynne. Jeśli zdanie bierne nie ma obiektu, na przykład: \"Drzwi były zamknięte\", dodawany jest bliżej nieokreślony podmiot, na przykład: \"Ktoś zamknął drzwi\"."
   ]
  },
  {
   "cell_type": "code",
   "execution_count": 35,
   "metadata": {},
   "outputs": [],
   "source": [
    "prompt = \"Paraphrase this text in the original language: \""
   ]
  },
  {
   "cell_type": "code",
   "execution_count": 36,
   "metadata": {},
   "outputs": [
    {
     "name": "stdout",
     "output_type": "stream",
     "text": [
      "Passive voice in English\n",
      "\n",
      "Passive voice in English is a grammatical category used to represent the complement as a subject in the English language. The passive voice is formed using the verb to be and the past participle. Unlike most Indo-European languages, it is also possible to transform a further complement to a subject, although this only applies to certain verbs. The passive voice occurs in most tenses, although not with all verbs; there is a large group of intransitive verbs that do not connote a complement.\n",
      "\n",
      "Principles of forming the passive voice\n",
      "\n",
      "Bierna strona występuje w zdaniu, w którym podmiot nie wykonuje operacji, ale dana operacja jest wykonywana na podmiocie. Strona bierna tworzy się przy pomocą czasownika to be i imiesłowu biernego czasu przeszłego; nie istnieje oddzielna forma czasownika, jak np. w łacinie. Przy transformacji podmiot zdania staje się dopełnieniem[1]. Z reguły podmiotem w stronie biernej znajduje się dopełnienie bliższe zdania w stronie czynnej:\n",
      "\n",
      " Każde zdanie w stronie biernej ma swój odpowiednik w stronie czynnej. Jeśli zdanie w stronie biernej nie ma dopełnienia, np: Drzwi były zamknięte, wprowadza się podmiot nieokreślony, np: Ktoś zamknął drzwi[4].\n",
      "\n"
     ]
    }
   ],
   "source": [
    "print(f\"{gen_out(prompt + h2)}\\n\")\n",
    "print(f\"{gen_out(prompt + p3)}\\n\")\n",
    "print(f\"{gen_out(prompt + h3)}\\n\")\n",
    "print(f\"{gen_out(prompt + p4)}\\n\")\n",
    "print(f\"{gen_out(prompt + p5)}\\n\")"
   ]
  },
  {
   "cell_type": "markdown",
   "metadata": {},
   "source": [
    "Passive voice in English\n",
    "\n",
    "Passive voice in English is a grammatical category used to represent the complement as a subject in the English language. The passive voice is formed using the verb to be and the past participle. Unlike most Indo-European languages, it is also possible to transform a further complement to a subject, although this only applies to certain verbs. The passive voice occurs in most tenses, although not with all verbs; there is a large group of intransitive verbs that do not connote a complement.\n",
    "\n",
    "Principles of forming the passive voice\n",
    "\n",
    "Bierna strona występuje w zdaniu, w którym podmiot nie wykonuje operacji, ale dana operacja jest wykonywana na podmiocie. Strona bierna tworzy się przy pomocą czasownika to be i imiesłowu biernego czasu przeszłego; nie istnieje oddzielna forma czasownika, jak np. w łacinie. Przy transformacji podmiot zdania staje się dopełnieniem[1]. Z reguły podmiotem w stronie biernej znajduje się dopełnienie bliższe zdania w stronie czynnej:\n",
    "\n",
    " Każde zdanie w stronie biernej ma swój odpowiednik w stronie czynnej. Jeśli zdanie w stronie biernej nie ma dopełnienia, np: Drzwi były zamknięte, wprowadza się podmiot nieokreślony, np: Ktoś zamknął drzwi[4].\n"
   ]
  },
  {
   "cell_type": "markdown",
   "metadata": {},
   "source": [
    "##### prompt 3: maybe working"
   ]
  },
  {
   "cell_type": "code",
   "execution_count": 37,
   "metadata": {},
   "outputs": [],
   "source": [
    "prompt = \"Rephrase this so a child could understand in the original language: \""
   ]
  },
  {
   "cell_type": "code",
   "execution_count": 39,
   "metadata": {},
   "outputs": [
    {
     "name": "stdout",
     "output_type": "stream",
     "text": [
      "Strona bierna po angielsku\n",
      "\n",
      "W języku angielskim możesz zamienić miejscami podmiot i dopełnienie, aby pokazać, że to dopełnienie wykonuje czynność. Nazywamy to stroną bierną.\n",
      "\n",
      "Żeby utworzyć stronę bierną, używamy czasownika \"być\" i słowa kończącego się na -ed. Na przykład, zamiast powiedzieć \"Kot zjadł mysz\", możemy powiedzieć \"Mysz została zjedzona przez kota\".\n",
      "\n",
      "W większości języków nie można tego zrobić, ale w języku angielskim czasami możemy również zamienić miejscami podmiot i dopełnienie dalsze. Jednak tylko niektóre czasowniki pozwalają na taką podmianę.\n",
      "\n",
      "Strona bierna może być użyta w prawie wszystkich czasach, ale nie ze wszystkimi czasownikami. Istnieje wiele czasowników, których nie możemy użyć w stronie biernej, ponieważ nie mają one dopełnienia.\n",
      "\n",
      "Jak sprawić, żeby zdanie było bierne\n",
      "\n",
      "Pasek zrobił Marysi warkocz. (strona czynna)\n",
      "Warkocz został zrobiony Marysi przez Paska. (strona bierna)\n",
      "\n",
      "W zdaniu w stronie biernej nie mówimy kto robi coś komuś, tylko mówimy co komuś zostało zrobione. Żeby zrobić zdanie w stronie biernej, używamy czasownika \"to be\" i słowa, które mówi nam co zostało zrobione. W naszym przykładzie tym słowem jest \"made\" (zrobiony). Potem mówimy kto to zrobił, ale używamy przyimka \"by\" (przez).\n",
      "\n",
      "Każde zdanie, które opowiada o czymś, co dzieje się samo, ma też inne zdanie, które opowiada o tym samym, ale ktoś to robi. Jeśli w zdaniu, które opowiada o czymś, co dzieje się samo, nie ma tego, kto to robi, na przykład: \"Drzwi były zamknięte\", dodajemy kogoś nieokreślonego, na przykład: \"Ktoś zamknął drzwi\".\n",
      "\n"
     ]
    }
   ],
   "source": [
    "print(f\"{gen_out(prompt + h2)}\\n\")\n",
    "print(f\"{gen_out(prompt + p3)}\\n\")\n",
    "print(f\"{gen_out(prompt + h3)}\\n\")\n",
    "print(f\"{gen_out(prompt + p4)}\\n\")\n",
    "print(f\"{gen_out(prompt + p5)}\\n\")"
   ]
  },
  {
   "cell_type": "markdown",
   "metadata": {},
   "source": [
    "Strona bierna w języku angielskim to sposób mówienia o tym, że coś jest zrobione, ale nie mówienia, kto to zrobił.\n",
    "\n",
    "W języku angielskim mamy dwa rodzaje zdań: czynne i bierne.\n",
    "\n",
    "W zdaniu czynnym podmiot wykonuje czynność. Na przykład: \"Kot goni mysz\".\n",
    "\n",
    "W zdaniu biernym przedmiot czynności staje się podmiotem. Na przykład: \"Mysz jest goniona przez kota\".\n",
    "\n",
    "Aby utworzyć zdanie bierne, używamy czasownika \"to be\" (być) i imiesłowu przeszłego biernego. Imiesłów przeszły bierny tworzymy dodając końcówkę \"-ed\" do czasownika. Na przykład: \"goniony\" od czasownika \"gonić\".\n",
    "\n",
    "W niektórych zdaniach biernych możemy również zmienić dopełnienie dalsze na podmiot. Na przykład: \"Kot dał mysz psu\". Możemy to zmienić na: \"Mysz została dana przez kota psu\".\n",
    "\n",
    "Nie wszystkie czasowniki mogą być użyte w stronie biernej. Czasowniki nieprzechodnie nie mają dopełnienia, więc nie można ich zmienić na stronę bierną. Na przykład: \"Padać\".\n",
    "\n",
    "Jak sprawić, żeby rzeczownik działał sam bez podmiotu\n",
    "\n",
    "Kiedy zdanie mówi o tym, że coś dzieje się z kimś lub czymś, ale to nie ta osoba czy rzecz wykonuje czynność, to mamy stronę bierną.\n",
    "\n",
    "Tworzymy stronę bierną, dodając dwa słowa: \"to be\" (czyli \"być\") i słowo, które pokazuje, że coś zostało zrobione, na przykład \"done\" (czyli \"zrobione\"). Nie mamy specjalnego słowa, które robimy to w innych językach, takich jak łacina.\n",
    "\n",
    "Kiedy tworzymy stronę bierną, zamieniamy tego, o kim lub o czym mówimy w zdaniu, w obiekt, czyli kogoś lub coś, na kogo wpływa czynność. Zwykle osoba lub rzecz, o której mówimy w stronie biernej, była obiektem w zdaniu w stronie czynnej.\n",
    "\n",
    "Każde zdanie, które mówi \"coś zostało zrobione\", ma swoje \"ktoś to zrobił\". Jeśli nie znamy \"kogoś\", np.: Drzwi zostały zamknięte, mówimy, że \"ktoś\" zamknął drzwi.\n",
    "\n",
    "- Good examples, but overly simplified for most purposes\n",
    "\n",
    "\n",
    "Strona bierna po angielsku\n",
    "\n",
    "W języku angielskim możesz zamienić miejscami podmiot i dopełnienie, aby pokazać, że to dopełnienie wykonuje czynność. Nazywamy to stroną bierną.\n",
    "\n",
    "Żeby utworzyć stronę bierną, używamy czasownika \"być\" i słowa kończącego się na -ed. Na przykład, zamiast powiedzieć \"Kot zjadł mysz\", możemy powiedzieć \"Mysz została zjedzona przez kota\".\n",
    "\n",
    "W większości języków nie można tego zrobić, ale w języku angielskim czasami możemy również zamienić miejscami podmiot i dopełnienie dalsze. Jednak tylko niektóre czasowniki pozwalają na taką podmianę.\n",
    "\n",
    "Strona bierna może być użyta w prawie wszystkich czasach, ale nie ze wszystkimi czasownikami. Istnieje wiele czasowników, których nie możemy użyć w stronie biernej, ponieważ nie mają one dopełnienia.\n",
    "\n",
    "Jak sprawić, żeby zdanie było bierne\n",
    "\n",
    "Pasek zrobił Marysi warkocz. (strona czynna)\n",
    "Warkocz został zrobiony Marysi przez Paska. (strona bierna)\n",
    "\n",
    "W zdaniu w stronie biernej nie mówimy kto robi coś komuś, tylko mówimy co komuś zostało zrobione. Żeby zrobić zdanie w stronie biernej, używamy czasownika \"to be\" i słowa, które mówi nam co zostało zrobione. W naszym przykładzie tym słowem jest \"made\" (zrobiony). Potem mówimy kto to zrobił, ale używamy przyimka \"by\" (przez).\n",
    "\n",
    "Każde zdanie, które opowiada o czymś, co dzieje się samo, ma też inne zdanie, które opowiada o tym samym, ale ktoś to robi. Jeśli w zdaniu, które opowiada o czymś, co dzieje się samo, nie ma tego, kto to robi, na przykład: \"Drzwi były zamknięte\", dodajemy kogoś nieokreślonego, na przykład: \"Ktoś zamknął drzwi\".\n",
    "\n",
    "- Accurate, more formal"
   ]
  },
  {
   "cell_type": "code",
   "execution_count": 41,
   "metadata": {},
   "outputs": [
    {
     "name": "stdout",
     "output_type": "stream",
     "text": [
      "Passive voice w języku angielskim\n",
      "\n",
      "Passive voice in English - a grammatical category used to represent an object as a subject in English. The passive voice is created using the verb to be and the past participle. Unlike in most Indo-European languages, it is also possible to change the indirect object into a subject, although this applies only to some verbs. The passive voice appears in most tenses, albeit not with all verbs; there is a large group of intransitive verbs that do not have an object.\n",
      "\n",
      "Jak zmienić stronę czynną na bierną\n",
      "\n",
      "In a passive sentence, the subject is acted upon, rather than doing the action. The passive form is made using the verb to be and the past participle; there is no separate form of the verb as there is in Latin, for example. In the change, the subject of the sentence becomes the object. Normally, the subject of the passive will be the direct object of the active:\n",
      "\n",
      "Każde zdanie w stronie biernej ma odpowiadające mu zdanie w stronie czynnej. Jeśli zdanie w stronie biernej nie ma osoby, która dokonała czynności, na przykład: Drzwi były zamknięte, dodaje się osobę nieokreśloną, czyli: Ktoś zamknął drzwi.\n",
      "\n"
     ]
    }
   ],
   "source": [
    "prompt = \"Rephrase this so a student could understand in the original language: \"\n",
    "print(f\"{gen_out(prompt + h2)}\\n\")\n",
    "print(f\"{gen_out(prompt + p3)}\\n\")\n",
    "print(f\"{gen_out(prompt + h3)}\\n\")\n",
    "print(f\"{gen_out(prompt + p4)}\\n\")\n",
    "print(f\"{gen_out(prompt + p5)}\\n\")"
   ]
  },
  {
   "cell_type": "markdown",
   "metadata": {},
   "source": [
    "Passive voice w języku angielskim\n",
    "\n",
    "**Passive Voice in English**\n",
    "\n",
    "**What is passive voice?**\n",
    "\n",
    "* It's a way of making the thing that happened (the object) sound like the main thing (the subject).\n",
    "\n",
    "**How to make passive voice:**\n",
    "\n",
    "* Use the verb \"to be\" and the past participle of the main verb.\n",
    "* For example, \"The ball was kicked by the player.\"\n",
    "\n",
    "**What's different about passive voice in English?**\n",
    "\n",
    "* You can also make the indirect object (not the object) the subject in some cases.\n",
    "* Not all verbs can be used in passive voice, especially those that don't have an object.\n",
    "\n",
    "Jak tworzyć stronę bierną\n",
    "\n",
    "The passive voice is used in a sentence, where the subject of the sentence does not perform the action, but that action is performed on the subject. The passive voice is formed using the verb to be and the past participle. We do not have a separate verb form for the passive voice, like in Latin. When changing from the active into the passive voice, the object of the sentence becomes the subject.\n",
    "\n",
    "Każde zdanie w biernej formie ma swoje drugie zdanie w czynnej formie. Jeśli w zdaniu biernej formy nie ma przedmiotu, np. „The door was shut”, to dodaje się nieokreślony podmiot, np. „Somebody shut the door”[4].\n",
    "\n",
    "- Obvious fail\n",
    "\n",
    "Passive voice w języku angielskim\n",
    "\n",
    "Passive voice in English - a grammatical category used to represent an object as a subject in English. The passive voice is created using the verb to be and the past participle. Unlike in most Indo-European languages, it is also possible to change the indirect object into a subject, although this applies only to some verbs. The passive voice appears in most tenses, albeit not with all verbs; there is a large group of intransitive verbs that do not have an object.\n",
    "\n",
    "Jak zmienić stronę czynną na bierną\n",
    "\n",
    "In a passive sentence, the subject is acted upon, rather than doing the action. The passive form is made using the verb to be and the past participle; there is no separate form of the verb as there is in Latin, for example. In the change, the subject of the sentence becomes the object. Normally, the subject of the passive will be the direct object of the active:\n",
    "\n",
    "Każde zdanie w stronie biernej ma odpowiadające mu zdanie w stronie czynnej. Jeśli zdanie w stronie biernej nie ma osoby, która dokonała czynności, na przykład: Drzwi były zamknięte, dodaje się osobę nieokreśloną, czyli: Ktoś zamknął drzwi.\n"
   ]
  },
  {
   "cell_type": "code",
   "execution_count": 42,
   "metadata": {},
   "outputs": [
    {
     "name": "stdout",
     "output_type": "stream",
     "text": [
      "Passive voice w języku angielskim\n",
      "\n",
      "**Strona bierna po angielsku** to sposób, w jaki pokazujesz, że coś jest robione komuś lub czemuś.\n",
      "\n",
      "Tworzysz ją za pomocą czasownika **\"to be\"** (być) i **imiesłowu czasu przeszłego biernego** (past participle). Na przykład:\n",
      "\n",
      "* **Czynna:** \"John reads the book.\" (John czyta książkę.)\n",
      "* **Bierna:** \"The book is read by John.\" (Książka jest czytana przez Johna.)\n",
      "\n",
      "W języku angielskim możesz też czasem zmienić dopełnienie dalsze w podmiot strony biernej. Dotyczy to jednak tylko niektórych czasowników. Na przykład:\n",
      "\n",
      "* **Czynna:** \"John gives Mary the book.\" (John daje książkę Mary.)\n",
      "* **Bierna:** \"Mary is given the book by John.\" (Mary jest dawana książka przez Johna.)\n",
      "\n",
      "Strona bierna jest używana w wielu czasach, ale nie ze wszystkimi czasownikami. Są specjalne czasowniki zwane **czasownikami nieprzechodnimi**, które nie mają dopełnienia.\n",
      "\n",
      "Jak zmienić zdanie z formy czynnej na bierną\n",
      "\n",
      " strona bierna to takie zdanie, gdzie ktoś na kimś robi coś, a nie ten ktoś robi cos komuś. Żeby zrobić zdanie bierne bierzesz czasownik to be (być) i dopisujesz do niego czasownik co opisuje działanie (w formie -ed). W języku angielskim nie ma osobnej formy czasownika dla strony biernej jak np. w łacinie. I na końcu zmieniasz podmiot i dopełnienie miejscami:\n",
      "\n",
      "Every sentence in the passive voice has an equivalent sentence in the active voice. If a sentence in the passive voice does not have a complement, e.g.: The door was shut, an indefinite subject is introduced, e.g.: Somebody shut the door.\n",
      "\n"
     ]
    }
   ],
   "source": [
    "prompt = \"Rephrase this so a high schooler could understand in the original language: \"\n",
    "print(f\"{gen_out(prompt + h2)}\\n\")\n",
    "print(f\"{gen_out(prompt + p3)}\\n\")\n",
    "print(f\"{gen_out(prompt + h3)}\\n\")\n",
    "print(f\"{gen_out(prompt + p4)}\\n\")\n",
    "print(f\"{gen_out(prompt + p5)}\\n\")"
   ]
  },
  {
   "cell_type": "markdown",
   "metadata": {},
   "source": [
    "Passive voice w języku angielskim\n",
    "\n",
    "**Strona bierna po angielsku** to sposób, w jaki pokazujesz, że coś jest robione komuś lub czemuś.\n",
    "\n",
    "Tworzysz ją za pomocą czasownika **\"to be\"** (być) i **imiesłowu czasu przeszłego biernego** (past participle). Na przykład:\n",
    "\n",
    "* **Czynna:** \"John reads the book.\" (John czyta książkę.)\n",
    "* **Bierna:** \"The book is read by John.\" (Książka jest czytana przez Johna.)\n",
    "\n",
    "W języku angielskim możesz też czasem zmienić dopełnienie dalsze w podmiot strony biernej. Dotyczy to jednak tylko niektórych czasowników. Na przykład:\n",
    "\n",
    "* **Czynna:** \"John gives Mary the book.\" (John daje książkę Mary.)\n",
    "* **Bierna:** \"Mary is given the book by John.\" (Mary jest dawana książka przez Johna.)\n",
    "\n",
    "Strona bierna jest używana w wielu czasach, ale nie ze wszystkimi czasownikami. Są specjalne czasowniki zwane **czasownikami nieprzechodnimi**, które nie mają dopełnienia.\n",
    "\n",
    "Jak zmienić zdanie z formy czynnej na bierną\n",
    "\n",
    " strona bierna to takie zdanie, gdzie ktoś na kimś robi coś, a nie ten ktoś robi cos komuś. Żeby zrobić zdanie bierne bierzesz czasownik to be (być) i dopisujesz do niego czasownik co opisuje działanie (w formie -ed). W języku angielskim nie ma osobnej formy czasownika dla strony biernej jak np. w łacinie. I na końcu zmieniasz podmiot i dopełnienie miejscami:\n",
    "\n",
    "Every sentence in the passive voice has an equivalent sentence in the active voice. If a sentence in the passive voice does not have a complement, e.g.: The door was shut, an indefinite subject is introduced, e.g.: Somebody shut the door.\n"
   ]
  },
  {
   "cell_type": "markdown",
   "metadata": {},
   "source": [
    "##### prompt 4: more fails"
   ]
  },
  {
   "cell_type": "code",
   "execution_count": 43,
   "metadata": {},
   "outputs": [
    {
     "name": "stdout",
     "output_type": "stream",
     "text": [
      "The passive voice in English is a grammatical construction that reverses the subject-verb relationship in active sentences. In the passive voice, the object of the action becomes the subject of the sentence, while the subject of the active sentence becomes the object or is omitted altogether. The passive voice is formed by adding the appropriate form of the auxiliary verb \"be\" to the past participle of the main verb.\n",
      "\n",
      "The passive voice is used in a variety of situations, including:\n",
      "\n",
      "* When the subject of the action is unknown or unspecified\n",
      "* When the focus of the sentence is on the action rather than the actor\n",
      "* When the subject of the action is unimportant or irrelevant\n",
      "* When the passive voice is more polite or formal\n",
      "\n",
      "The passive voice can be used in all tenses, including the present, past, and future. It can also be used in the conditional and subjunctive moods.\n",
      "\n",
      "Strona bierna w języku angielskim to kategoria gramatyczna, która pozwala na przedstawienie dopełnienia jako podmiotu. Jest tworzona za pomocą czasownika to be i imiesłowu przeszłego biernego. W przeciwieństwie do innych języków indoeuropejskich, w języku angielskim dopuszcza się również transformację dopełnienia dalszego na podmiot, choć jest to możliwe tylko z określonymi czasownikami. Strona bierna występuje w większości czasów, jednak nie wszystkie czasowniki mogą być przekształcane w stronę bierną, zwłaszcza czasowniki nieprzechodnie, które nie mają dopełnienia.\n",
      "\n",
      "Strona bierna to forma gramatyczna stosowana, gdy podmiot zdania jest odbiorcą czynności. W przypadku języka polskiego zasady tworzenia strony biernej są następujące:\n",
      "\n",
      "* Do czasownika dodaje się końcówkę \"-no, -na, -no\" w zależności od osoby i liczby.\n",
      "* Czasownik przechodni w stronie czynnej staje się nieprzechodni w stronie biernej.\n",
      "* Dopełnienie bliższe zdania w stronie czynnej staje się podmiotem strony biernej.\n",
      "* Dopełnienie dalsze zdania w stronie czynnej staje się dopełnieniem przyimkowym w stronie biernej.\n",
      "* Imiesłów przymiotnikowy czynny obecny lub przeszły zastępuje w stronie biernej czasownik niedokonany lub dokonany.\n",
      "* W stronie biernej może wystąpić przyimek \"przez\" wskazujący na wykonawcę czynności.\n",
      "\n",
      "Strona bierna w języku angielskim powstaje, gdy podmiot zdania nie wykonuje czynności, a czynność jest wykonywana na podmiocie. Formuje się ją za pomocą czasownika to be i imiesłowu biernego czasu przeszłego. Przy przekształcaniu zdania czynnego w bierne, podmiot staje się dopełnieniem. Zazwyczaj podmiotem w stronie biernej jest dopełnienie bliższe w zdaniu czynnym.\n",
      "\n",
      "Every passive sentence has an equivalent in the active voice. If the passive sentence does not contain an object, such as \"The door was shut,\" an indefinite subject is introduced in the active voice, such as \"Somebody shut the door.\"\n",
      "\n"
     ]
    }
   ],
   "source": [
    "prompt = \"Summarize the important points of this text in paragraph form: \"\n",
    "print(f\"{gen_out(prompt + h2)}\\n\")\n",
    "print(f\"{gen_out(prompt + p3)}\\n\")\n",
    "print(f\"{gen_out(prompt + h3)}\\n\")\n",
    "print(f\"{gen_out(prompt + p4)}\\n\")\n",
    "print(f\"{gen_out(prompt + p5)}\\n\")"
   ]
  },
  {
   "cell_type": "markdown",
   "metadata": {},
   "source": [
    "##### prompt 5: "
   ]
  },
  {
   "cell_type": "code",
   "execution_count": 45,
   "metadata": {},
   "outputs": [
    {
     "name": "stdout",
     "output_type": "stream",
     "text": [
      "Strona bierna w angielskim używana jest do opisania sytuacji, w której podmiot zdania jest odbiorcą działania, a nie wykonawcą. Strona bierna tworzona jest przez czasowniki posiłkowe (be) i czasownik w formie imiesłowu czasu przeszłego (past participle).\n",
      "\n",
      "Przykład:\n",
      "\n",
      "Strona czynna: The dog ate the bone. (Pies zjadł kość.)\n",
      "Strona bierna: The bone was eaten by the dog. (Kość została zjedzona przez psa.)\n",
      "\n",
      "W języku angielskim strona bierna służy do przedstawienia działania wykonywanego na obiekcie (dopełnieniu), który staje się podmiotem zdania. To osiąga się poprzez użycie czasownika \"to be\" i imiesłowu przeszłego biernego. W przeciwieństwie do wielu innych języków indoeuropejskich, możliwa jest tu również zmiana dopełnienia pośredniego na podmiot, ale tylko w przypadku niektórych czasowników. Strona bierna jest stosowana w większości czasów, z wyjątkiem niektórych czasowników, w tym nieprzechodnich, które nie mają dopełnienia.\n",
      "\n",
      "**Tworzenie zdań w stronie biernej**\n",
      "\n",
      "Strona bierna występuje, gdy podmiot zdania jest odbiorcą działania, a nie jego wykonawcą. Aby utworzyć zdanie w stronie biernej, należy wykonać następujące kroki:\n",
      "\n",
      "**1. Zidentyfikuj czasownik i przedmiot w zdaniu w stronie czynnej.**\n",
      "*Przykład:** *Aktywiści zorganizowali protest.*\n",
      "\n",
      "**2. Przekształć czasownik w stronę bierną.**\n",
      "* Gdy czasownik jest w czasie przeszłym prostym lub ciągłym, użyj czasownika \"być\" w odpowiednim czasie i trybie oraz czasownika głównego w formie imiesłowowej biernej.\n",
      "* Gdy czasownik jest w czasie teraźniejszym prostym lub ciągłym, użyj czasownika \"być\" w czasie teraźniejszym prostym lub ciągłym oraz czasownika głównego w formie imiesłowowej biernej.\n",
      "*Przykład:** *Protest został zorganizowany przez aktywistów.*\n",
      "\n",
      "**3. Przenieś przedmiot zdania czynnego na koniec zdania w stronie biernej.**\n",
      "*Przykład:** *Aktywiści zorganizowali protest. -> Protest został zorganizowany przez aktywistów.*\n",
      "\n",
      "**4. Dodaj \"by\" lub \"był\" przed wykonawcą czynności, jeśli jest znany.**\n",
      "*Przykład:** *Protest został zorganizowany przez aktywistów. -> Protest został zorganizowany przez aktywistów ze stowarzyszenia Zieloni.*\n",
      "\n",
      "Strona bierna ma miejsce, gdy podmiot nie działa, a czynność jest wykonywana na nim. Tworzy się ją używając czasownika „to be” i imiesłowu biernego czasu przeszłego. Nie ma oddzielnej formy czasownika, jak w języku łacińskim. Podczas zmiany zdania na stronę bierną podmiot staje się dopełnieniem. Zwykle podmiotem w stronie biernej jest dopełnienie bliższe w stronie czynnej.\n",
      "\n",
      "Każde zdanie w stronie biernej można przeformułować w stronę czynną. Jeśli w zdaniu biernym brakuje dopełnienia (np.: \"Drzwi były zamknięte\"), dodaje się nieokreślony podmiot (np.: \"Ktoś zamknął drzwi\").\n",
      "\n"
     ]
    }
   ],
   "source": [
    "prompt = \"Sparafrazuj ten tekst: \"\n",
    "print(f\"{gen_out(prompt + h2)}\\n\")\n",
    "print(f\"{gen_out(prompt + p3)}\\n\")\n",
    "print(f\"{gen_out(prompt + h3)}\\n\")\n",
    "print(f\"{gen_out(prompt + p4)}\\n\")\n",
    "print(f\"{gen_out(prompt + p5)}\\n\")"
   ]
  },
  {
   "cell_type": "markdown",
   "metadata": {},
   "source": [
    "Strona bierna jest formą gramatyczną, w której podmiot zdania otrzymuje działanie wyrażone przez czasownik. W stronie biernej czasownik jest łączony z czasownikiem posiłkowym „be” lub „get” i imiesłowem biernym danego czasownika.\n",
    "\n",
    "W języku angielskim strona bierna umożliwia przedstawienie dopełnienia jako podmiotu. Jest tworzona za pomocą czasownika \"to be\" i imiesłowu przeszłego biernego. W przeciwieństwie do wielu innych języków indoeuropejskich, w języku angielskim można również przekształcać dopełnienie dalsze na podmiot, ale tylko w przypadku niektórych czasowników. Strona bierna występuje w większości czasów, choć nie ze wszystkimi czasownikami. Istnieją liczne czasowniki nieprzechodnie, które nie mają dodatkowych dopełnień.\n",
    "\n",
    "**Zasady tworzenia strony biernej:**\n",
    "\n",
    "1. **Odczynienie stronę podmiotu:** Zmień podmiot zdania na bierny, umieszczając słowo \"by\".\n",
    "2. **Odmiana czasownika:** Odmień czasownik w czasie i trybie zgodnym z osobą i liczbą nowego podmiotu biernego.\n",
    "3. **Dodanie partykuły biernej:** Odmień przyimek \"przez\" dla osoby i liczby nowego podmiotu biernego.\n",
    "4. **Umieszczenie strony czynnej:** Umieść stronę czynną po partykule biernej, zwykle jako rzeczownik lub zaimek.\n",
    "\n",
    "**Przykład:**\n",
    "\n",
    "**Zdania czynne:**\n",
    "* Dzieci budują dom.\n",
    "* Nauczyciel uczy uczniów.\n",
    "\n",
    "**Zdania bierne:**\n",
    "* Dom jest budowany przez dzieci.\n",
    "* Uczniowie są uczeni przez nauczyciela.\n",
    "\n",
    "W zdaniach w stronie biernej podmiot otrzymuje działanie, a nie wykonuje go. Tworzy się je, łącząc czasownik to be z imiesłowem biernym czasu przeszłego. Podmiot ze zdania czynnego staje się dopełnieniem w zdaniu biernym.\n",
    "\n",
    "Każde zdanie bierne ma odpowiednik czynny. Jeśli zdanie bierne nie ma podmiotu, przypisuje się mu podmiot nieokreślony, np. „Someone shut the door” zamiast „The door was shut”.\n",
    "\n",
    "- Good manual for dummies /primary school\n",
    "\n",
    "\n",
    "Strona bierna w angielskim używana jest do opisania sytuacji, w której podmiot zdania jest odbiorcą działania, a nie wykonawcą. Strona bierna tworzona jest przez czasowniki posiłkowe (be) i czasownik w formie imiesłowu czasu przeszłego (past participle).\n",
    "\n",
    "Przykład:\n",
    "\n",
    "Strona czynna: The dog ate the bone. (Pies zjadł kość.)\n",
    "Strona bierna: The bone was eaten by the dog. (Kość została zjedzona przez psa.)\n",
    "\n",
    "W języku angielskim strona bierna służy do przedstawienia działania wykonywanego na obiekcie (dopełnieniu), który staje się podmiotem zdania. To osiąga się poprzez użycie czasownika \"to be\" i imiesłowu przeszłego biernego. W przeciwieństwie do wielu innych języków indoeuropejskich, możliwa jest tu również zmiana dopełnienia pośredniego na podmiot, ale tylko w przypadku niektórych czasowników. Strona bierna jest stosowana w większości czasów, z wyjątkiem niektórych czasowników, w tym nieprzechodnich, które nie mają dopełnienia.\n",
    "\n",
    "**Tworzenie zdań w stronie biernej**\n",
    "\n",
    "Strona bierna występuje, gdy podmiot zdania jest odbiorcą działania, a nie jego wykonawcą. Aby utworzyć zdanie w stronie biernej, należy wykonać następujące kroki:\n",
    "\n",
    "**1. Zidentyfikuj czasownik i przedmiot w zdaniu w stronie czynnej.**\n",
    "*Przykład:** *Aktywiści zorganizowali protest.*\n",
    "\n",
    "**2. Przekształć czasownik w stronę bierną.**\n",
    "* Gdy czasownik jest w czasie przeszłym prostym lub ciągłym, użyj czasownika \"być\" w odpowiednim czasie i trybie oraz czasownika głównego w formie imiesłowowej biernej.\n",
    "* Gdy czasownik jest w czasie teraźniejszym prostym lub ciągłym, użyj czasownika \"być\" w czasie teraźniejszym prostym lub ciągłym oraz czasownika głównego w formie imiesłowowej biernej.\n",
    "*Przykład:** *Protest został zorganizowany przez aktywistów.*\n",
    "\n",
    "**3. Przenieś przedmiot zdania czynnego na koniec zdania w stronie biernej.**\n",
    "*Przykład:** *Aktywiści zorganizowali protest. -> Protest został zorganizowany przez aktywistów.*\n",
    "\n",
    "**4. Dodaj \"by\" lub \"był\" przed wykonawcą czynności, jeśli jest znany.**\n",
    "*Przykład:** *Protest został zorganizowany przez aktywistów. -> Protest został zorganizowany przez aktywistów ze stowarzyszenia Zieloni.*\n",
    "\n",
    "Strona bierna ma miejsce, gdy podmiot nie działa, a czynność jest wykonywana na nim. Tworzy się ją używając czasownika „to be” i imiesłowu biernego czasu przeszłego. Nie ma oddzielnej formy czasownika, jak w języku łacińskim. Podczas zmiany zdania na stronę bierną podmiot staje się dopełnieniem. Zwykle podmiotem w stronie biernej jest dopełnienie bliższe w stronie czynnej.\n",
    "\n",
    "Każde zdanie w stronie biernej można przeformułować w stronę czynną. Jeśli w zdaniu biernym brakuje dopełnienia (np.: \"Drzwi były zamknięte\"), dodaje się nieokreślony podmiot (np.: \"Ktoś zamknął drzwi\").\n",
    "\n",
    "- also a good manual, a bit more elaborate"
   ]
  },
  {
   "cell_type": "code",
   "execution_count": 48,
   "metadata": {},
   "outputs": [
    {
     "name": "stdout",
     "output_type": "stream",
     "text": [
      "Strona bierna jest formą gramatyczną wskazującą, że podmiot działania nie wykonuje czynności, lecz jest jej odbiorcą. Słowo czasownika w stronie biernej składa się z czasownika posiłkowego „to be” (być) oraz imiesłowu czasu przeszłego lub dokonanego. Ta konstrukcja jest często stosowana, gdy nie wiadomo, kto wykonał czynność, lub gdy nacisk kładzie się na odbiorcę działania, a nie na osobę wykonującą. Na przykład „The house was built by my father” (Dom został zbudowany przez mojego ojca), gdzie „The house” (dom) jest podmiotem w stronie biernej, a „my father” (mój ojciec) jest nieokreślonym wykonawcą czynności.\n",
      "\n",
      "Strona bierna w języku angielskim jest konstrukcją gramatyczną, która koncentruje się na dopełnieniu, przedstawiając je jako podmiot. Jest tworzona za pomocą czasownika \"to be\" i imiesłowu przeszłego biernego. W przeciwieństwie do innych języków indoeuropejskich, strona bierna umożliwia również przekształcenie dopełnienia dalszego w podmiot, chociaż ta opcja jest ograniczona do określonych czasowników. Strona bierna jest powszechnie stosowana w różnych czasach, jednak nie ze wszystkimi czasownikami. Istnieje wiele czasowników nieprzechodnich, które nie dopuszczają strony biernej, ponieważ nie sugerują występowania dopełnienia.\n",
      "\n",
      "Strona bierna w języku angielskim jest tworzona przy użyciu czasownika posiłkowego \"be\" oraz imiesłowu biernego czasownika głównego. Imiesłów bierny tworzy się dodając \"-ed\" do czasowników regularnych, np. \"watched\" lub \"-en\" do czasowników nieregularnych, np. \"written\". Na przykład zdanie w stronie czynnej \"The teacher explains the lesson\" w stronie biernej brzmi \"The lesson is explained by the teacher\".\n",
      "\n",
      "W zdaniu w stronie biernej podmiot wykonuje czynność, podczas gdy w zdaniu w stronie czynnej czynność wykonuje podmiot. Podmiot w stronie biernej zwykle następuje po czasowniku posiłkowym, podczas gdy w zdaniu w stronie czynnej poprzedza czasownik. Na przykład w zdaniu \"The letter was written by my grandmother\" (\"List został napisany przez moją babcię\") podmiotem jest \"The letter\" (\"List\"), który jest wykonywany przez czasownik \"was written\" (\"został napisany\").\n",
      "\n",
      "Strona bierna stosowana jest, gdy podmiot nie wykonuje czynności, lecz ona jest na nim wykonywana. Tworzy się ją za pomocą czasownika \"to be\" i imiesłowu biernego czasu przeszłego (np. \"is done\"). W odróżnieniu od łaciny, język angielski nie ma osobnych form czasownika dla strony biernej. Podczas przekształcania zdania w stronę bierną, podmiot staje się dopełnieniem (np. \"The student wrote the book\" → \"The book was written by the student\").\n",
      "\n",
      "Każde zdanie w stronie biernej można przeformułować na zdanie czynne. W przypadku, gdy zdanie w stronie biernej nie zawiera dopełnienia, dodaje się nieokreślony podmiot. Na przykład zdanie \"Drzwi były zamknięte\" w stronie biernej można przeformułować na \"Ktoś zamknął drzwi\" w stronie czynnej, wprowadzając nieokreślony podmiot \"ktoś\".\n",
      "\n"
     ]
    }
   ],
   "source": [
    "prompt = \"Sparafrazuj ten tekst w formie akapitu: \"\n",
    "print(f\"{gen_out(prompt + h2)}\\n\")\n",
    "print(f\"{gen_out(prompt + p3)}\\n\")\n",
    "print(f\"{gen_out(prompt + h3)}\\n\")\n",
    "print(f\"{gen_out(prompt + p4)}\\n\")\n",
    "print(f\"{gen_out(prompt + p5)}\\n\")"
   ]
  },
  {
   "cell_type": "code",
   "execution_count": 47,
   "metadata": {},
   "outputs": [
    {
     "name": "stdout",
     "output_type": "stream",
     "text": [
      "Strona bierna to konstrukcja gramatyczna, w której podmiot nie jest czynnym sprawcą akcji, a działanie jest wykonywane na nim. Powstaje ona poprzez połączenie czasownika \"to be\" z imiesłowem biernym. W języku angielskim nie ma odrębnych form czasowników dla strony biernej, jak w przypadku łaciny. Podczas przekształcania zdania w stronę bierną, podmiot zdania czynnego staje się dopełnieniem w stronie biernej. Zazwyczaj podmiotem strony biernej jest dopełnienie bliższe zdania czynnego.\n",
      "\n"
     ]
    }
   ],
   "source": [
    "print(f\"{gen_out(prompt + p4)}\\n\")\n"
   ]
  },
  {
   "cell_type": "markdown",
   "metadata": {},
   "source": [
    "Strona bierna w języku angielskim jest używana, gdy podmiot zdania jest odbiorcą akcji, a nie jej wykonawcą. Jest ona tworzona za pomocą czasownika posiłkowego \"be\" (być) w odpowiednim czasie oraz imiesłowu czasu przeszłego od czasownika głównego. Na przykład: \"The book was written by John\" (Książka została napisana przez Johna). W stronie biernej podmiot (\"book\") jest odbiorcą akcji pisania, a wykonawca akcji (\"John\") jest przedstawiony za pomocą \"by\". Strona bierna jest przydatna w sytuacjach, gdy skupiamy się na odbiorcy akcji lub kiedy wykonawca akcji jest nieznany lub nieistotny.\n",
    "\n",
    "Strona bierna w języku angielskim jest narzędziem gramatycznym, które umożliwia przedstawienie dopełnienia zdania jako podmiotu. Tworzy się ją, używając czasownika \"to be\" i imiesłowu przeszłego biernego. Na przykład: \"The house is painted by John\" (Dom jest malowany przez Johna). W przeciwieństwie do innych języków indoeuropejskich, angielski pozwala również na przekształcenie dopełnienia dalszego w podmiot, jednak dotyczy to tylko niektórych czasowników. Strona bierna jest stosowana w większości czasów, ale nie ze wszystkimi czasownikami. Istnieje wiele czasowników nieprzechodnich, które nie mają dopełnienia i dlatego nie mogą być używane w stronie biernej.\n",
    "\n",
    "Zasady tworzenia strony biernej w języku angielskim są następujące:\n",
    "\n",
    "1. Obiekt zdania czynnego staje się podmiotem zdania biernego.\n",
    "2. Czasownik \"to be\" jest wstawiany w odpowiednim czasie i osobie przed imiesłowem biernym, utworzonym od czasownika aktywnego.\n",
    "3. Czasownik czynny zamieniany jest na imiesłów bierny.\n",
    "4. Podmiot zdania czynnego zostaje wprowadzony za pomocą przyimka \"by\".\n",
    "\n",
    "W stronie biernej podmiot nie wykonuje akcji, lecz jest jej przedmiotem. Strona bierna tworzona jest poprzez użycie czasownika \"to be\" i imiesłowu biernego przeszłego. Transformacja zdania w stronę bierną polega na umieszczeniu dopełnienia bliższego zdania czynnego w roli podmiotu strony biernej.\n",
    "\n",
    "- Obviously not paragraphs\n",
    "\n",
    "Strona bierna i czynna są wzajemnie zamiennymi formami gramatycznymi. Gdy zdanie w stronie biernej nie zawiera dopełnienia (np. „Drzwi były zamknięte”), w jego odpowiedniku w stronie czynnej wprowadza się podmiot nieokreślony (np. „Ktoś zamknął drzwi”). Podmiot ten sygnalizuje nieokreśloną tożsamość osoby lub rzeczy wykonującej czynność.\n",
    "\n",
    "Strona bierna jest formą gramatyczną wskazującą, że podmiot działania nie wykonuje czynności, lecz jest jej odbiorcą. Słowo czasownika w stronie biernej składa się z czasownika posiłkowego „to be” (być) oraz imiesłowu czasu przeszłego lub dokonanego. Ta konstrukcja jest często stosowana, gdy nie wiadomo, kto wykonał czynność, lub gdy nacisk kładzie się na odbiorcę działania, a nie na osobę wykonującą. Na przykład „The house was built by my father” (Dom został zbudowany przez mojego ojca), gdzie „The house” (dom) jest podmiotem w stronie biernej, a „my father” (mój ojciec) jest nieokreślonym wykonawcą czynności.\n",
    "\n",
    "Strona bierna w języku angielskim jest konstrukcją gramatyczną, która koncentruje się na dopełnieniu, przedstawiając je jako podmiot. Jest tworzona za pomocą czasownika \"to be\" i imiesłowu przeszłego biernego. W przeciwieństwie do innych języków indoeuropejskich, strona bierna umożliwia również przekształcenie dopełnienia dalszego w podmiot, chociaż ta opcja jest ograniczona do określonych czasowników. Strona bierna jest powszechnie stosowana w różnych czasach, jednak nie ze wszystkimi czasownikami. Istnieje wiele czasowników nieprzechodnich, które nie dopuszczają strony biernej, ponieważ nie sugerują występowania dopełnienia.\n",
    "\n",
    "Strona bierna w języku angielskim jest tworzona przy użyciu czasownika posiłkowego \"be\" oraz imiesłowu biernego czasownika głównego. Imiesłów bierny tworzy się dodając \"-ed\" do czasowników regularnych, np. \"watched\" lub \"-en\" do czasowników nieregularnych, np. \"written\". Na przykład zdanie w stronie czynnej \"The teacher explains the lesson\" w stronie biernej brzmi \"The lesson is explained by the teacher\".\n",
    "\n",
    "W zdaniu w stronie biernej podmiot wykonuje czynność, podczas gdy w zdaniu w stronie czynnej czynność wykonuje podmiot. Podmiot w stronie biernej zwykle następuje po czasowniku posiłkowym, podczas gdy w zdaniu w stronie czynnej poprzedza czasownik. Na przykład w zdaniu \"The letter was written by my grandmother\" (\"List został napisany przez moją babcię\") podmiotem jest \"The letter\" (\"List\"), który jest wykonywany przez czasownik \"was written\" (\"został napisany\").\n",
    "\n",
    "Strona bierna stosowana jest, gdy podmiot nie wykonuje czynności, lecz ona jest na nim wykonywana. Tworzy się ją za pomocą czasownika \"to be\" i imiesłowu biernego czasu przeszłego (np. \"is done\"). W odróżnieniu od łaciny, język angielski nie ma osobnych form czasownika dla strony biernej. Podczas przekształcania zdania w stronę bierną, podmiot staje się dopełnieniem (np. \"The student wrote the book\" → \"The book was written by the student\").\n",
    "\n",
    "Każde zdanie w stronie biernej można przeformułować na zdanie czynne. W przypadku, gdy zdanie w stronie biernej nie zawiera dopełnienia, dodaje się nieokreślony podmiot. Na przykład zdanie \"Drzwi były zamknięte\" w stronie biernej można przeformułować na \"Ktoś zamknął drzwi\" w stronie czynnej, wprowadzając nieokreślony podmiot \"ktoś\".\n",
    "\n",
    "- Very elaborate"
   ]
  },
  {
   "cell_type": "code",
   "execution_count": 50,
   "metadata": {},
   "outputs": [
    {
     "name": "stdout",
     "output_type": "stream",
     "text": [
      "Strona bierna w języku angielskim służy do wyrażania sytuacji, w których podmiot zdania jest bierny lub otrzymuje działanie, a nie je wykonuje. Tworzy się ją przez dodanie czasownika posiłkowego \"to be\" w odpowiednim czasie do czasownika głównego wyrażonego w formie imiesłowu biernego. Na przykład, zamiast napisać \"I wrote the letter\" (Ja napisałem list), używamy strony biernej \"The letter was written by me\" (List został napisany przeze mnie). Strona bierna jest często stosowana w sytuacjach formalnych, tekstach naukowych i dla podkreślenia otrzymania działania lub przekazania informacji bez określania konkretnego wykonawcy.\n",
      "\n",
      "W języku angielskim strona bierna to sposób użycia czasownika, dzięki któremu osoba lub rzecz zazwyczaj przedstawiana jako obiekt czynności staje się podmiotem zdania. Strona bierna jest tworzona przez połączenie czasownika \"to be\" (być) z imiesłowem przeszłym biernym. Na przykład zdanie \"Kot zjadł mysz\" w stronie czynnej można przekształcić w \"Mysz została zjedzona przez kota\" w stronie biernej. W języku angielskim dopuszcza się również zamianę obiektu pośredniego na podmiot, ale tylko w przypadku niektórych czasowników. Strona bierna może być używana w większości czasów, ale nie ze wszystkimi czasownikami, zwłaszcza z czasownikami nieprzechodnimi, które nie mają dopełnienia.\n",
      "\n",
      "Strona bierna stosuje się, gdy chcemy podkreślić odbiorcę akcji, a nie osobę ją wykonującą. Aby utworzyć stronę bierną, wykonaj następujące kroki:\n",
      "\n",
      "1. Zmień czasownik z czynnej formy na bierną (np. \"czyta\" na \"jest czytany\").\n",
      "2. Wstaw formę \"być\" odpowiednią dla czasu i osoby (np. \"is\" dla czasu teraźniejszego).\n",
      "3. Dodaj dopełnienie bezpośrednie (osobę lub rzecz otrzymującą działanie) jako podmiot.\n",
      "\n",
      "Strona bierna to sposób pisania zdań, w których ktoś lub coś działa na przedmiot (podmiot). Tworzy się ją, używając czasownika \"być\" oraz słowa kończącego się na \"-ed\". Strona bierna jest przeciwieństwem strony czynnej, gdzie podmiot wykonuje czynność. Podczas tworzenia zdania w stronie biernej, to pierwotne dopełnienie staje się podmiotem.\n",
      "\n",
      "Każde zdanie, w którym czynność jest wykonywana na podmiocie (strona bierna), można zmienić na zdanie, w którym podmiot wykonuje czynność (strona czynna). Jeśli w zdaniu w stronie biernej nie ma osoby lub rzeczy, która wykonuje czynność (czyli dopełnienia), dodawany jest ogólny podmiot, taki jak \"ktoś\" lub \"coś\", aby wskazać, że czynność została wykonana.\n",
      "\n"
     ]
    }
   ],
   "source": [
    "prompt = \"Sparafrazuj ten tekst prostym językiem w formie akapitu: \"\n",
    "print(f\"{gen_out(prompt + h2)}\\n\")\n",
    "print(f\"{gen_out(prompt + p3)}\\n\")\n",
    "print(f\"{gen_out(prompt + h3)}\\n\")\n",
    "print(f\"{gen_out(prompt + p4)}\\n\")\n",
    "print(f\"{gen_out(prompt + p5)}\\n\")"
   ]
  },
  {
   "cell_type": "markdown",
   "metadata": {},
   "source": [
    "Strona bierna to sposób mówienia o zdaniu, w którym obiekt działania wyrażany jest jako podmiot, a podmiot działania jest nieznany lub mało istotny. W stronie czynnej podmiot wykonuje czynność, np. \"Chłopiec rzuca piłką\". W stronie biernej obiekt działania staje się podmiotem, a czynność jest wykonywana na nim, np. \"Piłka została rzucona przez chłopca\". Strona bierna jest często używana, gdy chcemy podkreślić działanie lub obiekt, na którym się ono wykonuje, a nie osobę wykonującą czynność.\n",
    "\n",
    "Strona bierna w języku angielskim to sposób pokazania w zdaniu czynności wykonywanej na osobie lub rzeczy, która staje się podmiotem. Jest tworzona poprzez dodanie czasownika \"to be\" (być) do imiesłowu przeszłego biernego (np. \"is given\", \"are known\"). W języku angielskim, w przeciwieństwie do innych języków, można zamienić nie tylko bezpośrednie, ale również pośrednie dopełnienie na podmiot, ale tylko w przypadku niektórych czasowników. Strona bierna występuje w wielu czasach, ale niektóre czasowniki nie mogą być użyte w stronie biernej, ponieważ nie mają dopełnień.\n",
    "\n",
    "Strona bierna to sposób wyrażania zdań, w których obiekt działania jest podmiotem. Aby utworzyć stronę bierną, należy zmienić stronę czynną na bierną, a mianowicie:\n",
    "\n",
    "* Podmiot zdania w stronie czynnej staje się dopełnieniem w stronie biernej.\n",
    "* Dopełnienie w stronie czynnej staje się podmiotem w stronie biernej.\n",
    "* Do czasownika w stronie czynnej dodaje się formę czasownika \"być\".\n",
    "\n",
    "Podmiot w zdaniu biernym nie wykonuje czynności, lecz jest jej odbiorcą. W zdaniu biernym używa się czasownika \"być\" oraz przymiotnika nazywanego imiesłowem biernym. Nie ma osobnej formy czasownika dla strony biernej, jak w niektórych innych językach. Podczas zmiany zdania z czynnej na bierną podmiot staje się dopełnieniem. Zazwyczaj podmiotem w stronie biernej jest to, co w stronie czynnej jest dopełnieniem bliższym.\n",
    "\n",
    "Wszystkie zdania w stronie biernej można przerobić na zdania w stronie czynnej. Jeśli w zdaniu w stronie biernej nie ma osoby wykonującej czynność (dopełnienia), to w zdaniu w stronie czynnej trzeba dodać kogoś, kto tę czynność wykonał. Na przykład: \"Drzwi były zamknięte\" w stronie czynnej brzmiałoby: \"Ktoś zamknął drzwi\".\n",
    "\n",
    "- beautiful paragraphs yes, good paraphrasing at least\n",
    "\n",
    "Strona bierna w języku angielskim służy do wyrażania sytuacji, w których podmiot zdania jest bierny lub otrzymuje działanie, a nie je wykonuje. Tworzy się ją przez dodanie czasownika posiłkowego \"to be\" w odpowiednim czasie do czasownika głównego wyrażonego w formie imiesłowu biernego. Na przykład, zamiast napisać \"I wrote the letter\" (Ja napisałem list), używamy strony biernej \"The letter was written by me\" (List został napisany przeze mnie). Strona bierna jest często stosowana w sytuacjach formalnych, tekstach naukowych i dla podkreślenia otrzymania działania lub przekazania informacji bez określania konkretnego wykonawcy.\n",
    "\n",
    "W języku angielskim strona bierna to sposób użycia czasownika, dzięki któremu osoba lub rzecz zazwyczaj przedstawiana jako obiekt czynności staje się podmiotem zdania. Strona bierna jest tworzona przez połączenie czasownika \"to be\" (być) z imiesłowem przeszłym biernym. Na przykład zdanie \"Kot zjadł mysz\" w stronie czynnej można przekształcić w \"Mysz została zjedzona przez kota\" w stronie biernej. W języku angielskim dopuszcza się również zamianę obiektu pośredniego na podmiot, ale tylko w przypadku niektórych czasowników. Strona bierna może być używana w większości czasów, ale nie ze wszystkimi czasownikami, zwłaszcza z czasownikami nieprzechodnimi, które nie mają dopełnienia.\n",
    "\n",
    "Strona bierna stosuje się, gdy chcemy podkreślić odbiorcę akcji, a nie osobę ją wykonującą. Aby utworzyć stronę bierną, wykonaj następujące kroki:\n",
    "\n",
    "1. Zmień czasownik z czynnej formy na bierną (np. \"czyta\" na \"jest czytany\").\n",
    "2. Wstaw formę \"być\" odpowiednią dla czasu i osoby (np. \"is\" dla czasu teraźniejszego).\n",
    "3. Dodaj dopełnienie bezpośrednie (osobę lub rzecz otrzymującą działanie) jako podmiot.\n",
    "\n",
    "Strona bierna to sposób pisania zdań, w których ktoś lub coś działa na przedmiot (podmiot). Tworzy się ją, używając czasownika \"być\" oraz słowa kończącego się na \"-ed\". Strona bierna jest przeciwieństwem strony czynnej, gdzie podmiot wykonuje czynność. Podczas tworzenia zdania w stronie biernej, to pierwotne dopełnienie staje się podmiotem.\n",
    "\n",
    "Każde zdanie, w którym czynność jest wykonywana na podmiocie (strona bierna), można zmienić na zdanie, w którym podmiot wykonuje czynność (strona czynna). Jeśli w zdaniu w stronie biernej nie ma osoby lub rzeczy, która wykonuje czynność (czyli dopełnienia), dodawany jest ogólny podmiot, taki jak \"ktoś\" lub \"coś\", aby wskazać, że czynność została wykonana.\n",
    "\n",
    "- even better paragraphs, accurate, good"
   ]
  },
  {
   "cell_type": "code",
   "execution_count": 57,
   "metadata": {},
   "outputs": [
    {
     "name": "stdout",
     "output_type": "stream",
     "text": [
      "Strona bierna to sposób pisania zdań, w którym odbiorca czynności jest podmiotem, a wykonawca czynności jest wymieniony za pomocą przyimka \"przez\". Aby utworzyć stronę bierną, trzeba użyć czasownika \"być\" w czasie odpowiadającym czasowi w stronie czynnej oraz dodać imiesłów bierny czasownika głównego. Na przykład zdanie \"Czytam książkę\" w stronie czynnej można zapisać w stronie biernej jako \"Książka jest czytana przeze mnie\".\n",
      "\n"
     ]
    }
   ],
   "source": [
    "print(f\"{gen_out(prompt + h3)}\\n\")\n"
   ]
  },
  {
   "cell_type": "code",
   "execution_count": 58,
   "metadata": {},
   "outputs": [
    {
     "name": "stdout",
     "output_type": "stream",
     "text": [
      "Passive voice in English - a grammatical category used to present the complement as the subject in English. Passive voice is created using the verb to be and the past passive participle. Unlike most Indo-European languages, it is also possible to transform the further complement into a subject, although this only applies to some verbs. The passive voice occurs in most tenses, although not with all verbs; there is a significant group of intransitive verbs that do not connote a complement.\n",
      "\n",
      "Passive voice used in sentence where subject not performing action, but action done to subject. Passive voice formed using to be and past participle; no separate verb form like in Latin. When transforming into passive, sentence subject becomes object. Typically, passive voice subject is direct object in active voice:\n",
      "\n",
      "Każde zdanie bierne ma swoje czynne odpowiednik. Gdy zdanie w biernej formie nie ma dopełnienia, np.: The door was shut, wprowadza się podmiot nieokreślony, np.: Somebody shut the door.\n",
      "\n"
     ]
    }
   ],
   "source": [
    "prompt = \"Paraphrase this text simply in the original language: \"\n",
    "print(f\"{gen_out(prompt + p3)}\\n\")\n",
    "print(f\"{gen_out(prompt + p4)}\\n\")\n",
    "print(f\"{gen_out(prompt + p5)}\\n\")"
   ]
  },
  {
   "cell_type": "markdown",
   "metadata": {},
   "source": [
    "# Currently unsupported: Telugu, Tagalog"
   ]
  }
 ],
 "metadata": {
  "kernelspec": {
   "display_name": "env",
   "language": "python",
   "name": "python3"
  },
  "language_info": {
   "codemirror_mode": {
    "name": "ipython",
    "version": 3
   },
   "file_extension": ".py",
   "mimetype": "text/x-python",
   "name": "python",
   "nbconvert_exporter": "python",
   "pygments_lexer": "ipython3",
   "version": "3.11.4"
  }
 },
 "nbformat": 4,
 "nbformat_minor": 2
}
