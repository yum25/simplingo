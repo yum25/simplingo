{
 "cells": [
  {
   "cell_type": "markdown",
   "metadata": {},
   "source": [
    "# HF"
   ]
  },
  {
   "cell_type": "code",
   "execution_count": 3,
   "metadata": {},
   "outputs": [],
   "source": [
    "from transformers import GPT2Tokenizer, GPT2LMHeadModel"
   ]
  },
  {
   "cell_type": "code",
   "execution_count": 4,
   "metadata": {},
   "outputs": [
    {
     "data": {
      "text/plain": [
       "GPT2LMHeadModel(\n",
       "  (transformer): GPT2Model(\n",
       "    (wte): Embedding(50257, 1280)\n",
       "    (wpe): Embedding(1024, 1280)\n",
       "    (drop): Dropout(p=0.1, inplace=False)\n",
       "    (h): ModuleList(\n",
       "      (0-35): 36 x GPT2Block(\n",
       "        (ln_1): LayerNorm((1280,), eps=1e-05, elementwise_affine=True)\n",
       "        (attn): GPT2Attention(\n",
       "          (c_attn): Conv1D()\n",
       "          (c_proj): Conv1D()\n",
       "          (attn_dropout): Dropout(p=0.1, inplace=False)\n",
       "          (resid_dropout): Dropout(p=0.1, inplace=False)\n",
       "        )\n",
       "        (ln_2): LayerNorm((1280,), eps=1e-05, elementwise_affine=True)\n",
       "        (mlp): GPT2MLP(\n",
       "          (c_fc): Conv1D()\n",
       "          (c_proj): Conv1D()\n",
       "          (act): NewGELUActivation()\n",
       "          (dropout): Dropout(p=0.1, inplace=False)\n",
       "        )\n",
       "      )\n",
       "    )\n",
       "    (ln_f): LayerNorm((1280,), eps=1e-05, elementwise_affine=True)\n",
       "  )\n",
       "  (lm_head): Linear(in_features=1280, out_features=50257, bias=False)\n",
       ")"
      ]
     },
     "execution_count": 4,
     "metadata": {},
     "output_type": "execute_result"
    }
   ],
   "source": [
    "# Note: may take up to a few minutes, loads weights into memory\n",
    "# One of the potential downsides is that initial startup is slow\n",
    "tokenizer = GPT2Tokenizer.from_pretrained(\"gpt2-large\")\n",
    "model = GPT2LMHeadModel.from_pretrained(\"gpt2-large\")\n",
    "model.eval()"
   ]
  },
  {
   "cell_type": "code",
   "execution_count": 68,
   "metadata": {},
   "outputs": [
    {
     "name": "stdout",
     "output_type": "stream",
     "text": [
      "334\n",
      "Mary had a little lamb, Its fleece was white as snow, yeah. Everywhere the child went, The little lamb was sure to go, yeah. He followed her to school one day, And broke the teacher's rule. What a time did they have, That day at school. Tisket, tasket, A green and yellow basket. Sent a letter to my baby, On my way I passed it. TL;DR\n"
     ]
    }
   ],
   "source": [
    "# Use this cell for input\n",
    "input_text = \"Mary had a little lamb, Its fleece was white as snow, yeah. Everywhere the child went, The little lamb was sure to go, yeah. He followed her to school one day, And broke the teacher's rule. What a time did they have, That day at school. Tisket, tasket, A green and yellow basket. Sent a letter to my baby, On my way I passed it. TL;DR\"\n",
    "len_input = len(input_text)\n",
    "print(len_input)\n",
    "print(input_text)"
   ]
  },
  {
   "cell_type": "code",
   "execution_count": 69,
   "metadata": {},
   "outputs": [
    {
     "name": "stderr",
     "output_type": "stream",
     "text": [
      "/Users/megha/tf/env/lib/python3.10/site-packages/transformers/generation/configuration_utils.py:367: UserWarning: `do_sample` is set to `False`. However, `top_p` is set to `0.95` -- this flag is only used in sample-based generation modes. You should set `do_sample=True` or unset `top_p`.\n",
      "  warnings.warn(\n",
      "The attention mask and the pad token id were not set. As a consequence, you may observe unexpected behavior. Please pass your input's `attention_mask` to obtain reliable results.\n",
      "Setting `pad_token_id` to `eos_token_id`:50256 for open-end generation.\n"
     ]
    },
    {
     "name": "stdout",
     "output_type": "stream",
     "text": [
      "I'm not sure if this is an actual quote or not, but it's one of my favorite quotes from the book.\n"
     ]
    }
   ],
   "source": [
    "encoded = tokenizer.encode(input_text, return_tensors='pt')\n",
    "length_encoded = len(encoded[0])\n",
    "# features_output = model(tokenizer(input_text, return_tensors='pt))\n",
    "\n",
    "# Note: mess around with generate parameters; I haven't really done that with this particular model before\n",
    "output = model.generate(encoded, max_new_tokens = length_encoded, num_beams=5, no_repeat_ngram_size=2, top_k=50, top_p=0.95)\n",
    "text_output = tokenizer.decode(output[0], skip_special_tokens=True)\n",
    "print(text_output[len_input+2:])"
   ]
  },
  {
   "cell_type": "markdown",
   "metadata": {},
   "source": [
    "# Google"
   ]
  },
  {
   "cell_type": "markdown",
   "metadata": {},
   "source": [
    "## Model init"
   ]
  },
  {
   "cell_type": "code",
   "execution_count": 2,
   "metadata": {},
   "outputs": [],
   "source": [
    "import google.generativeai as genai"
   ]
  },
  {
   "cell_type": "code",
   "execution_count": 3,
   "metadata": {},
   "outputs": [],
   "source": [
    "gen_ai_key = ''"
   ]
  },
  {
   "cell_type": "code",
   "execution_count": 4,
   "metadata": {},
   "outputs": [],
   "source": [
    "genai.configure(api_key=gen_ai_key)"
   ]
  },
  {
   "cell_type": "code",
   "execution_count": 5,
   "metadata": {},
   "outputs": [],
   "source": [
    "safety_settings = [\n",
    "    {\n",
    "        \"category\": \"HARM_CATEGORY_HARASSMENT\",\n",
    "        \"threshold\": \"BLOCK_NONE\"\n",
    "    },\n",
    "    {\n",
    "        \"category\": \"HARM_CATEGORY_HATE_SPEECH\",\n",
    "        \"threshold\": \"BLOCK_NONE\"\n",
    "    },\n",
    "    {\n",
    "        \"category\": \"HARM_CATEGORY_SEXUALLY_EXPLICIT\",\n",
    "        \"threshold\": \"BLOCK_NONE\"\n",
    "    },\n",
    "    {\n",
    "        \"category\": \"HARM_CATEGORY_DANGEROUS_CONTENT\",\n",
    "        \"threshold\": \"BLOCK_NONE\"\n",
    "    }\n",
    "]"
   ]
  },
  {
   "cell_type": "code",
   "execution_count": 6,
   "metadata": {},
   "outputs": [],
   "source": [
    "model = genai.GenerativeModel(model_name='gemini-pro',\n",
    "                              safety_settings=safety_settings)"
   ]
  },
  {
   "cell_type": "code",
   "execution_count": null,
   "metadata": {},
   "outputs": [],
   "source": [
    "def gen_out(input):\n",
    "    return model.generate_content(input).text"
   ]
  },
  {
   "cell_type": "markdown",
   "metadata": {},
   "source": [
    "## Prelim testing"
   ]
  },
  {
   "cell_type": "code",
   "execution_count": 7,
   "metadata": {},
   "outputs": [],
   "source": [
    "cn_message = '骗术不断翻新，防不胜防。\\n以下事件发生在美国，也可能会在台湾。 \\n这是黄美敬先生（圣德兰校董会主席）的一位银行朋友关于送货员上门诈骗的文章，可花点时间阅读：\\n这个骗局其实设计得很巧妙，你不会怀疑有什么不对：\\n以下是事件的叙述。\\n《一周前的星期三，我接到一个人的电话，他说他来自一家名为〈Express Couriers〉的公司，他问我是否要回家，因为我有一个需要签名的包裹。\\n打电话的人说快递会在大约一个小时内送到我家。果然，大约一个小时后，一个穿制服的送货员出现了，带着一个包裹和一瓶酒。 \\n我很惊讶，因为没有特殊的场合，我当然没想到会有这样的事情发生。我很好奇，询问发件人是谁。\\n快递员说：\\n“不知道，我只是送包裹。\\n貌似他说寄件人要给你一个惊喜，会单独寄一张卡片……，”正好我生日也在路上，所以我们认为可能是远方朋友寄来的，礼物上还有一张托运单。\\n然后他继续解释说，由于礼物中含有酒精，因此需要支付 7.50 美元的 “送货/验证费”，以证明他确实将包裹交给了一名成年人（达到法定饮酒年龄），而不仅仅是把它留在了 可能被任何人（尤其是未成年人）偷走或带走的门阶。'"
   ]
  },
  {
   "cell_type": "code",
   "execution_count": 6,
   "metadata": {},
   "outputs": [
    {
     "ename": "NameError",
     "evalue": "name 'cn_message' is not defined",
     "output_type": "error",
     "traceback": [
      "\u001b[0;31m---------------------------------------------------------------------------\u001b[0m",
      "\u001b[0;31mNameError\u001b[0m                                 Traceback (most recent call last)",
      "Cell \u001b[0;32mIn[6], line 1\u001b[0m\n\u001b[0;32m----> 1\u001b[0m response \u001b[38;5;241m=\u001b[39m model\u001b[38;5;241m.\u001b[39mgenerate_content(\u001b[38;5;124m'\u001b[39m\u001b[38;5;124mTranslate the following text into simple en: \u001b[39m\u001b[38;5;124m'\u001b[39m \u001b[38;5;241m+\u001b[39m \u001b[43mcn_message\u001b[49m)\n",
      "\u001b[0;31mNameError\u001b[0m: name 'cn_message' is not defined"
     ]
    }
   ],
   "source": [
    "response = model.generate_content('Translate the following text into simple en: ' + cn_message)"
   ]
  },
  {
   "cell_type": "code",
   "execution_count": 34,
   "metadata": {},
   "outputs": [
    {
     "data": {
      "text/plain": [
       "'Scams keep reinventing themselves and are hard to prevent. \\nThe following incident happened in the US and could also happen in Taiwan. \\nThis is an article about a delivery scam from Mr. Huang Meijing (chairman of the St. Teresa School Board of Directors) and a friend of his in banking. Please take some time to read it:\\nActually, the scam was very cleverly designed and you would not suspect anything wrong:\\nHere is the story of the incident.\\n“Last Wednesday, I received a phone call from a person who claimed to be from a company called “Express Couriers” and asked if I was going to be home because I had a package that needed to be signed for.\\nThe caller said the delivery would arrive at my home in about an hour. Sure enough, about an hour later, a uniformed delivery man showed up with a package and a bottle of wine. \\nI was surprised because I was not expecting anything like this, as there was no special occasion. I was curious and asked who the sender was.\\nThe delivery man said: \\n“I don’t know, I just deliver the packages. \\nHe said it seems like the sender wanted to give you a surprise and would send a separate card……”\\nMy birthday happened to be just around the corner, so we figured it must have been from a friend out of town and a shipping slip was attached to the gift.\\nHe then went on to explain that because the gift contained alcohol, there was a “delivery/verification fee” of US$7.50 that needed to be paid to prove that he had actually handed the package to an adult (of legal drinking age) and not just left it on the doorstep where it could have been stolen or taken by anyone (especially a minor).'"
      ]
     },
     "execution_count": 34,
     "metadata": {},
     "output_type": "execute_result"
    }
   ],
   "source": [
    "response.text"
   ]
  },
  {
   "cell_type": "code",
   "execution_count": 35,
   "metadata": {},
   "outputs": [],
   "source": [
    "response = model.generate_content('Translate the following text into en: ' + cn_message)"
   ]
  },
  {
   "cell_type": "code",
   "execution_count": 36,
   "metadata": {},
   "outputs": [
    {
     "data": {
      "text/plain": [
       "'The trick keeps on changing and is hard to prevent. The following event happened in the USA and it might also happen in Taiwan. Here is an article about a delivery scam by banker friend of Mr. Huang Meijing (Chairperson of the St. Teresa School Board of Directors), please spend some time reading: This scam is actually very well designed; you won’t suspect anything is wrong: Below is the description of the event. “Last Wednesday, I received a phone call from a person who claimed to be from a company called Express Couriers asking me if I would be home because I had a package that required a signature. The caller said the delivery would arrive at my home in about an hour. Sure enough, about an hour later, a uniformed delivery man showed up with a package and a bottle of wine. I was quite surprised since there was no special occasion and certainly, would not have expected anything like this to happen. I was curious and asked who the sender was. The deliveryman said: “I don’t know, I just deliver the packages. It looks like the sender wanted to surprise you and sent a card separately…” As it happened to be close to my birthday, we figured it was from one of our friends out-of-town and a packing slip was attached to the gift. He then went on to explain that since the package contained alcohol, there was a “delivery/verification fee” of $7.50 that I needed to pay to prove that he had, in fact, delivered the package to an adult (of legal drinking age) and not just left it on the doorstep where it could have been stolen or taken by anyone (especially a minor).'"
      ]
     },
     "execution_count": 36,
     "metadata": {},
     "output_type": "execute_result"
    }
   ],
   "source": [
    "response.text"
   ]
  },
  {
   "cell_type": "code",
   "execution_count": 8,
   "metadata": {},
   "outputs": [],
   "source": [
    "lit_text = (\n",
    "    '“红色联合”对“四·二八兵团”总部大楼的攻击已持续了两天，他们的旗帜在大楼周围躁动地飘扬着，仿佛渴望干柴的火种。\\n'\n",
    "\t'“红色联合”的指挥官心急如焚，他并不惧怕大楼的守卫者，那二百多名“四·二八”战士，与诞生于l966年初、'\n",
    "    '经历过大检阅和大串联的“红色联合”相比要稚嫩许多。他怕的是大楼中那十几个大铁炉子，里面塞满了烈性炸药，'\n",
    "    '用电雷管串联起来，他看不到它们，但能感觉到它们磁石般的存在，开关一合，玉石俱焚，而“四·二八”的那些小红卫兵们是有这个精神力量的。'\n",
    "    '比起已经在风雨中成熟了许多的第一代红卫兵，新生的造反派们像火炭上的狼群，除了疯狂还是疯狂。\\n'\n",
    "\t'大楼顶上出现了一个娇小的身影，那个美丽的女孩子挥动着一面“四·二八”的大旗，她的出现立刻招来了一阵杂乱的枪声，'\n",
    "    '射击的武器五花八门，有陈旧的美式卡宾枪、捷克式机枪和三八大盖，'\n",
    "    '也有崭新的制式步枪和冲锋枪——后者是在“八月社论”发表之后从军队中偷抢来的——连同那些梭标和大刀等冷兵器，'\n",
    "    '构成了一部浓缩的近现代史……“四·二八”的人在前面多次玩过这个游戏，在楼顶上站出来的人，除了挥舞旗帜外，'\n",
    "    '有时还用喇叭筒喊口号或向下撒传单，每次他们都能在弹雨中全身而退，为自己挣到了崇高的荣誉。'\n",
    "    '这次出来的女孩儿显然也相信自己还有那样的幸运。她挥舞着战旗，挥动着自己燃烧的青春，敌人将在这火焰中化为灰烬，'\n",
    "    '理想世界明天就会在她那沸腾的热血中诞生……她陶醉在这鲜红灿烂的梦幻中，直到被一颗步枪子弹洞穿了胸膛，十五岁少女的胸膛是那么柔嫩，'\n",
    "    '那颗子弹穿过后基本上没有减速，在她身后的空中发出一声啾鸣。年轻的红卫兵同她的旗帜一起从楼顶落下，她那轻盈的身体落得甚至比旗帜还慢，'\n",
    "    '仿佛小鸟眷恋着天空。'\n",
    "    )"
   ]
  },
  {
   "cell_type": "code",
   "execution_count": 6,
   "metadata": {},
   "outputs": [],
   "source": [
    "trans = model.generate_content(\"Translate this text to en: \" + lit_text)"
   ]
  },
  {
   "cell_type": "code",
   "execution_count": 14,
   "metadata": {},
   "outputs": [],
   "source": [
    "transimp = model.generate_content(\"Translate this text into a simple paraphrase in en: \" + lit_text)"
   ]
  },
  {
   "cell_type": "code",
   "execution_count": 7,
   "metadata": {},
   "outputs": [
    {
     "name": "stdout",
     "output_type": "stream",
     "text": [
      "The \"Red Alliance\"'s attack on the headquarters of the \"April 28th Corps\" has lasted for two days. Their flags fluttered around the building as if they were tinder-dry kindling longing for a spark. The commander of the \"Red Alliance\" was anxious. He was not afraid of the building's guards, the 200 or so \"April 28th\" soldiers who, compared to the \"Red Alliance\" which was born in early 1966 and had experienced the grand review and the great exchange of revolutionary experiences, were much more immature. What he feared were the dozen or so cast iron stoves in the building, which were stuffed full of powerful explosives and connected by electric detonators. He couldn't see them, but he could feel their magnetic presence. If the switch was closed, everyone would perish together, and those little Red Guards of the \"April 28th\" had the moral strength to do it. Compared to the first generation of Red Guards who had already matured in the storm, these newly emerged rebels were like wolves on the coals, frenzied. A petite figure appeared on the top of the building. The beautiful girl waved a large flag of the \"April 28th\". Her appearance immediately drew a mixed barrage of gunshots. The weapons ranged from old American carbines, Czech machine guns, and Type 38 bolt-action rifles to brand-new standard rifles and submachine guns; the latter had been stolen from the army after the publication of the \"August Editorial\", along with cold weapons like harpoons and broadswords, which was a condensed history of modern and contemporary times … The \"April 28th\" people had repeatedly played this game before. Aside from waving the flag, people who stood out on the building's roof would sometimes use a loudspeaker to shout slogans or scatter leaflets below. Every time, they were able to escape unscathed through the hail of bullets and earned great honor for themselves. The girl who came out this time evidently also believed that she still had such good luck. She waved the battle flag and her own burning youth. The enemy would be reduced to ashes in this flame, and the ideal world would be born tomorrow in her surging blood … She was intoxicated in this bright, crimson dream, until she was pierced in the chest by a rifle bullet. The chest of a fifteen-year-old girl was so soft, and the bullet passed through almost without slowing down, whistling in the air behind her. The young Red Guard fell from the roof along with her flag. Her lithe body fell even more slowly than the flag, as if a small bird was longing for the sky.\n"
     ]
    }
   ],
   "source": [
    "try:\n",
    "    print(trans.text)\n",
    "except:\n",
    "    print(trans.prompt_feedback)\n",
    "    print(trans.candidates)\n"
   ]
  },
  {
   "cell_type": "code",
   "execution_count": 48,
   "metadata": {},
   "outputs": [
    {
     "data": {
      "text/plain": [
       "block_reason: SAFETY\n",
       "safety_ratings {\n",
       "  category: HARM_CATEGORY_SEXUALLY_EXPLICIT\n",
       "  probability: NEGLIGIBLE\n",
       "}\n",
       "safety_ratings {\n",
       "  category: HARM_CATEGORY_HATE_SPEECH\n",
       "  probability: LOW\n",
       "}\n",
       "safety_ratings {\n",
       "  category: HARM_CATEGORY_HARASSMENT\n",
       "  probability: MEDIUM\n",
       "}\n",
       "safety_ratings {\n",
       "  category: HARM_CATEGORY_DANGEROUS_CONTENT\n",
       "  probability: NEGLIGIBLE\n",
       "}"
      ]
     },
     "execution_count": 48,
     "metadata": {},
     "output_type": "execute_result"
    }
   ],
   "source": [
    "trans.prompt_feedback"
   ]
  },
  {
   "cell_type": "code",
   "execution_count": 42,
   "metadata": {},
   "outputs": [
    {
     "data": {
      "text/plain": [
       "\"The Red Alliance has been attacking the headquarters of the April 28th Group for two days now. Their flags wave anxiously around the building, like sparks itching to ignite a fire.\\n\\nThe Red Alliance commander is impatient. He's not afraid of the building's defenders—two hundred April 28th soldiers, who pale in experience compared to the Red Alliance, which was formed in early 1966 and has already weathered grand parades and mass rallies. His fear lies in the building's dozen large iron furnaces, packed with powerful explosives and wired together. He can't see them, but he feels their magnetic presence. If the switch is flipped, everyone will perish, and the young Red Guards of the April 28th Group have the courage to do it. Unlike the first generation of Red Guards, who have matured amidst the storms, these new rebels are like wolves on hot coals, burning with untamed fervor.\\n\\nA petite figure appears on the roof of the building. A beautiful young girl waves a large April 28th flag. Her appearance is met with a barrage of gunfire from a chaotic array of weapons: antique American carbines, Czech machine guns, Type 38 rifles, modern assault rifles and submachine guns—the latter stolen from the military after the publication of the August communique—as well as spears and swords. It's a condensed history of modern warfare... The April 28th Group has played this game many times before. A person standing on the roof, waving a flag, sometimes shouting slogans or dropping leaflets. Each time they have escaped the hail of bullets unscathed, earning great honor. The girl who steps out this time clearly believes she will be just as fortunate. She waves the banner, her own youthful passion alight, believing that the enemy will be consumed by its flames and that an ideal world will be born from her boiling blood... She is lost in this vivid, crimson fantasy until a rifle bullet pierces her chest. The chest of the fifteen-year-old girl is so soft that the bullet barely slows down as it passes through her, emitting a whistling sound as it exits. The young Red Guard falls from the roof with her flag, her light body descending even more slowly than the cloth, as if a small bird clinging to the sky.\""
      ]
     },
     "execution_count": 42,
     "metadata": {},
     "output_type": "execute_result"
    }
   ],
   "source": [
    "transimp.text"
   ]
  },
  {
   "cell_type": "code",
   "execution_count": 49,
   "metadata": {},
   "outputs": [
    {
     "data": {
      "text/plain": [
       "safety_ratings {\n",
       "  category: HARM_CATEGORY_SEXUALLY_EXPLICIT\n",
       "  probability: NEGLIGIBLE\n",
       "}\n",
       "safety_ratings {\n",
       "  category: HARM_CATEGORY_HATE_SPEECH\n",
       "  probability: LOW\n",
       "}\n",
       "safety_ratings {\n",
       "  category: HARM_CATEGORY_HARASSMENT\n",
       "  probability: LOW\n",
       "}\n",
       "safety_ratings {\n",
       "  category: HARM_CATEGORY_DANGEROUS_CONTENT\n",
       "  probability: NEGLIGIBLE\n",
       "}"
      ]
     },
     "execution_count": 49,
     "metadata": {},
     "output_type": "execute_result"
    }
   ],
   "source": [
    "transimp.prompt_feedback"
   ]
  },
  {
   "cell_type": "code",
   "execution_count": 51,
   "metadata": {},
   "outputs": [],
   "source": [
    "trunc_text = (\n",
    "    '“红色联合”对“四·二八兵团”总部大楼的攻击已持续了两天，他们的旗帜在大楼周围躁动地飘扬着，仿佛渴望干柴的火种。\\n'\n",
    "\t'“红色联合”的指挥官心急如焚，他并不惧怕大楼的守卫者，那二百多名“四·二八”战士，与诞生于l966年初、'\n",
    "    '经历过大检阅和大串联的“红色联合”相比要稚嫩许多。他怕的是大楼中那十几个大铁炉子，里面塞满了烈性炸药，'\n",
    "    '用电雷管串联起来，他看不到它们，但能感觉到它们磁石般的存在，开关一合，玉石俱焚，而“四·二八”的那些小红卫兵们是有这个精神力量的。'\n",
    "    '比起已经在风雨中成熟了许多的第一代红卫兵，新生的造反派们像火炭上的狼群，除了疯狂还是疯狂。\\n')"
   ]
  },
  {
   "cell_type": "code",
   "execution_count": 52,
   "metadata": {},
   "outputs": [],
   "source": [
    "transtrunc = model.generate_content('Translate this text into en: ' + trunc_text)"
   ]
  },
  {
   "cell_type": "code",
   "execution_count": 54,
   "metadata": {},
   "outputs": [
    {
     "name": "stdout",
     "output_type": "stream",
     "text": [
      "“Red United” had been attacking the headquarters of the “April 28th Corps” for two days; its flags fluttered restlessly around the building like a fire awaiting dry tinder. The commander of “Red United” was anxious. He was not afraid of the defenders of the building, the two hundred soldiers of the “April 28th”, who were much younger than the “Red United” which had been born in early 1966 and had experienced parades and mass rallies. He was afraid of the dozen big iron stoves in the building, which were filled with high explosives and were connected by electric fuses. He could not see them, but he could sense their magnetic presence. If the switch was turned on, all would be burned to ashes, and the “April 28th” Red Guards had the strength of spirit to do it. Compared with the first generation of Red Guards, which had already matured in the storms, the new rebels were like wolves on a bed of coals, nothing but madness and fury.\n"
     ]
    }
   ],
   "source": [
    "print(transtrunc.text)"
   ]
  },
  {
   "cell_type": "code",
   "execution_count": 9,
   "metadata": {},
   "outputs": [],
   "source": [
    "model.generate_content(\"Paraphrase this text simply: Risks and discomforts: There are no known risks associated with your participation in this research beyond those of everyday life. To minimize the risk of a breach of confidentiality, we collect only personal identifying information that is needed to provide participation incentives, as needed. Study staff will protect your personal information closely so no one will be able to connect your responses to any other information that identifies you. Federal or state laws may require us to show information to university or government officials, or sponsors, who are responsible for monitoring the safety and ethical practices of this study. Directly identifying information (e.g. names, addresses) will be safeguarded and maintained under controlled conditions. You will not be identified in any publication or openly shared data generated from this study.\").text"
   ]
  },
  {
   "cell_type": "code",
   "execution_count": 9,
   "metadata": {},
   "outputs": [],
   "source": [
    "text = \"Richardson's action impressed Duncan, who in January 1798 took him to serve on his flagship, the 74-gun ship of the line HMS Venerable. Richardson then transferred with Duncan to the 74-gun ship of the line HMS Kent on 6 March, becoming his flag lieutenant there.[9][29] In 1799 Kent was sent to support the Anglo-Russian invasion of Holland and Richardson was sent ashore with a contingent of seamen, with which he controlled a gun battery attached to the army of Lieutenant-General Sir Ralph Abercromby. He fought with his men at the landings of the army and the Battle of Callantsoog on 27 August.[9][30][31] The Dutch admiral Samuel Story surrendered his fleet in the Vlieter Incident on 30 August, in which Richardson saw some action. He was given command of a captured Dutch 68-gun ship of the line, and sailed her to England, afterwards rejoining Kent.[9][30][32]\""
   ]
  },
  {
   "cell_type": "code",
   "execution_count": 6,
   "metadata": {},
   "outputs": [
    {
     "ename": "NameError",
     "evalue": "name 'text' is not defined",
     "output_type": "error",
     "traceback": [
      "\u001b[0;31m---------------------------------------------------------------------------\u001b[0m",
      "\u001b[0;31mNameError\u001b[0m                                 Traceback (most recent call last)",
      "Cell \u001b[0;32mIn[6], line 1\u001b[0m\n\u001b[0;32m----> 1\u001b[0m model\u001b[38;5;241m.\u001b[39mgenerate_content(\u001b[38;5;124m\"\u001b[39m\u001b[38;5;124mTranslate this text into it: \u001b[39m\u001b[38;5;124m\"\u001b[39m \u001b[38;5;241m+\u001b[39m \u001b[43mtext\u001b[49m)\u001b[38;5;241m.\u001b[39mtext\n",
      "\u001b[0;31mNameError\u001b[0m: name 'text' is not defined"
     ]
    }
   ],
   "source": [
    "model.generate_content(\"Translate this text into it: \" + text).text"
   ]
  },
  {
   "cell_type": "markdown",
   "metadata": {},
   "source": [
    "# Spanish"
   ]
  },
  {
   "cell_type": "markdown",
   "metadata": {},
   "source": [
    "El problema de la parada o problema de la detención para máquinas de Turing consiste en lo siguiente: dada una Máquina de Turing y una palabra, determinar si terminará en un número finito de pasos cuando es ejecutada usando como dato de entrada. Alan Turing, en su famoso artículo On Computable Numbers, with an Application to the Entscheidungsproblem (1936), demostró que el problema de la parada de la Máquina de Turing es indecidible (no computable o no recursivo), en el sentido de que ninguna máquina de Turing lo puede resolver."
   ]
  },
  {
   "cell_type": "code",
   "execution_count": 10,
   "metadata": {},
   "outputs": [],
   "source": [
    "# Spanish testing: simplify\n",
    "\n",
    "text = (\"El problema de la parada o problema de la detención para máquinas de Turing consiste en lo siguiente: \"\n",
    "        \"dada una Máquina de Turing y una palabra, determinar si terminará en un número finito de pasos cuando \"\n",
    "        \"es ejecutada usando como dato de entrada. Alan Turing, en su famoso artículo On Computable Numbers, \"\n",
    "        \"with an Application to the Entscheidungsproblem (1936), demostró que el problema de la parada de la Máquina \"\n",
    "        \"de Turing es indecidible (no computable o no recursivo), en el sentido de que ninguna máquina de Turing lo puede resolver.\")"
   ]
  },
  {
   "cell_type": "markdown",
   "metadata": {},
   "source": [
    "### Simplification"
   ]
  },
  {
   "cell_type": "markdown",
   "metadata": {},
   "source": [
    "##### Prompt 1: original"
   ]
  },
  {
   "cell_type": "code",
   "execution_count": 8,
   "metadata": {},
   "outputs": [],
   "source": [
    "prompt = \"Paraphase this text simply: \""
   ]
  },
  {
   "cell_type": "code",
   "execution_count": 10,
   "metadata": {},
   "outputs": [
    {
     "name": "stdout",
     "output_type": "stream",
     "text": [
      "Determinar si una máquina de Turing se detendrá o no después de ejecutar una entrada es un problema que no puede ser resuelto por ninguna máquina de Turing. Fue demostrado por Alan Turing en 1936.\n"
     ]
    }
   ],
   "source": [
    "print(gen_out(prompt + text))"
   ]
  },
  {
   "cell_type": "markdown",
   "metadata": {},
   "source": [
    "Determinar si una máquina de Turing se detendrá o no después de ejecutar una entrada es un problema que no puede ser resuelto por ninguna máquina de Turing. Fue demostrado por Alan Turing en 1936.\n",
    "- Okay (perhaps incomplete in conveying information?) - cut off sentence\n",
    "\n",
    "Para una máquina que sigue un conjunto de reglas (Máquina de Turing), y una secuencia específica de instrucciones (palabra), no es posible determinar con seguridad si esa máquina se detendrá alguna vez o seguirá ejecutándose para siempre cuando la secuencia se ejecute en la máquina.\"\n",
    "- Conveys original well\n",
    "\n",
    "¿Puede una máquina predecir si se detendrá después de ejecutar un programa específico? Turing demostró que esta pregunta es imposible de responder para todas las máquinas y programas, lo que significa que no existe ninguna máquina que pueda decir siempre si otra máquina se detendrá o no.\n",
    "- More general, misses details?\n",
    "\n",
    "¿Puede una máquina (Máquina de Turing) predecir si se detendrá después de recibir una entrada específica? Turing demostró que es imposible crear una máquina que pueda resolver este \\\"problema de detención\\\" para todas las entradas.\n",
    "- Same as previous, less detailed\n",
    "\n",
    "2 > 3 > 4 > 1"
   ]
  },
  {
   "cell_type": "code",
   "execution_count": 14,
   "metadata": {},
   "outputs": [
    {
     "data": {
      "text/plain": [
       "[index: 0\n",
       "content {\n",
       "  parts {\n",
       "    text: \"¿Puede una máquina (Máquina de Turing) predecir si se detendrá después de recibir una entrada específica? Turing demostró que es imposible crear una máquina que pueda resolver este \\\"problema de detención\\\" para todas las entradas.\"\n",
       "  }\n",
       "  role: \"model\"\n",
       "}\n",
       "finish_reason: STOP\n",
       "safety_ratings {\n",
       "  category: HARM_CATEGORY_SEXUALLY_EXPLICIT\n",
       "  probability: NEGLIGIBLE\n",
       "}\n",
       "safety_ratings {\n",
       "  category: HARM_CATEGORY_HATE_SPEECH\n",
       "  probability: NEGLIGIBLE\n",
       "}\n",
       "safety_ratings {\n",
       "  category: HARM_CATEGORY_HARASSMENT\n",
       "  probability: NEGLIGIBLE\n",
       "}\n",
       "safety_ratings {\n",
       "  category: HARM_CATEGORY_DANGEROUS_CONTENT\n",
       "  probability: NEGLIGIBLE\n",
       "}\n",
       "]"
      ]
     },
     "execution_count": 14,
     "metadata": {},
     "output_type": "execute_result"
    }
   ],
   "source": [
    "response = model.generate_content(prompt + text)\n",
    "response.candidates"
   ]
  },
  {
   "cell_type": "markdown",
   "metadata": {},
   "source": [
    "##### Prompt 2: prompt of oof"
   ]
  },
  {
   "cell_type": "code",
   "execution_count": null,
   "metadata": {},
   "outputs": [],
   "source": [
    "# Probably a bad prompt\n",
    "prompt = \"Summarize this text: \""
   ]
  },
  {
   "cell_type": "code",
   "execution_count": 19,
   "metadata": {},
   "outputs": [
    {
     "name": "stdout",
     "output_type": "stream",
     "text": [
      "Es imposible construir una máquina que pueda decir, para cualquier otra máquina y cualquier entrada, si la máquina terminará o se ejecutará para siempre.\n"
     ]
    }
   ],
   "source": [
    "print(gen_out(prompt + text))"
   ]
  },
  {
   "cell_type": "markdown",
   "metadata": {},
   "source": [
    "El problema de la detención pregunta: dada una máquina de computación y un comando específico, ¿puede la máquina finalizar alguna vez si inicia con ese comando? Se ha demostrado que no hay ninguna máquina que pueda responder esta pregunta para todas las demás máquinas de computación posibles.\n",
    "- Better, but dropped Turing, haha\n",
    "\n",
    "Es imposible crear una máquina que determine si otra máquina se detendrá después de un número finito de pasos al ejecutar una palabra específica.\n",
    "- Oof.\n",
    "\n",
    "El problema de la parada pregunta: dada una máquina y unas instrucciones específicas, ¿se detendrá alguna vez la máquina después de ejecutar esas instrucciones? Esto es imposible de determinar para todas las máquinas y todas las instrucciones.\n",
    "- Slightly better than oof.\n",
    "\n",
    "Es imposible construir una máquina que pueda decir, para cualquier otra máquina y cualquier entrada, si la máquina terminará o se ejecutará para siempre.\n",
    "- Oof x2."
   ]
  },
  {
   "cell_type": "markdown",
   "metadata": {},
   "source": [
    "##### Prompt 3: less oof maybe, see last variation for promising prompt"
   ]
  },
  {
   "cell_type": "code",
   "execution_count": 14,
   "metadata": {},
   "outputs": [],
   "source": [
    "# Generates long outputs\n",
    "prompt = \"Summarize the important points of this text in brief paragraph form: \""
   ]
  },
  {
   "cell_type": "code",
   "execution_count": 16,
   "metadata": {},
   "outputs": [
    {
     "name": "stdout",
     "output_type": "stream",
     "text": [
      "El problema de la parada para las máquinas de Turing es indecidible, lo que significa que no existe una máquina de Turing que pueda determinar si una máquina dada se detendrá en un número finito de pasos para una palabra de entrada determinada. Esto fue demostrado por Alan Turing en su artículo \"On Computable Numbers, with an Application to the Entscheidungsproblem\" (1936), lo que implica que la decisión de si un cálculo se detendrá o se ejecutará indefinidamente es esencialmente no computable.\n"
     ]
    }
   ],
   "source": [
    "print(gen_out(prompt + text))"
   ]
  },
  {
   "cell_type": "markdown",
   "metadata": {},
   "source": [
    "**\"in prose\"**\n",
    "\n",
    "El problema de la parada, planteado para máquinas de Turing, cuestiona si se puede determinar si una máquina de Turing dada, con una entrada específica, se detendrá en un número finito de pasos. Turing demostró que este problema es indecidible, lo que significa que ninguna máquina de Turing puede resolverlo de forma generalizada ya que no existe un algoritmo que pueda predecir el comportamiento de todas las máquinas de Turing posibles para todas las posibles entradas.\n",
    "- meh\n",
    "\n",
    "**\"main points in paragraph form\"**\n",
    "\n",
    "El problema de la parada plantea que, para una máquina de Turing y una palabra de entrada, es imposible determinar si la máquina se detendrá en un número finito de pasos. Alan Turing demostró en 1936 que este problema es indecidible, es decir, no existe una máquina de Turing que pueda resolverlo. Esto implica que no hay ningún algoritmo efectivo que pueda predecir si una máquina de Turing terminará o no su ejecución para una entrada dada.\n",
    "- best one so far\n",
    "\n",
    "El problema de la parada para máquinas de Turing establece que, dada una máquina de Turing y una entrada, es imposible determinar si la máquina se detendrá en un número finito de pasos. Alan Turing demostró en 1936 que este problema es indecidible, es decir, que no existe una máquina de Turing que pueda resolverlo para todos los casos posibles. Esta indecidibilidad implica que no hay ningún algoritmo que pueda determinar universalmente si una máquina de Turing se detendrá o se ejecutará indefinidamente para una determinada entrada.\n",
    "- repeating itself\n",
    "\n",
    "El problema de la parada en las máquinas de Turing determina si una máquina de Turing terminará su ejecución en un número finito de pasos con una palabra de entrada determinada. El teorema de Turing establece que el problema de la parada es indecidible, lo que significa que no existe una máquina de Turing que pueda resolverlo para todas las entradas posibles. Esta indecidibilidad implica que no hay un algoritmo que pueda determinar universalmente si una máquina de Turing se detendrá o no con una entrada específica.\n",
    "- repetitive language lacking nuance\n",
    "\n",
    "El problema de la parada para máquinas de Turing establece la dificultad de determinar si una máquina de Turing, dada una entrada específica, se detendrá o continuará funcionando indefinidamente. En 1936, Alan Turing demostró que este problema es indecidible, lo que significa que ninguna máquina de Turing puede resolverlo de manera generalizada. Esta imposibilidad se debe a la naturaleza intrínsecamente no determinista de las máquinas de Turing, lo que impide la existencia de un algoritmo que pueda predecir con certeza su comportamiento de detención para todas las entradas posibles.\n",
    "- meh\n",
    "\n",
    "**\"important points in paragraph form\"**\n",
    "\n",
    "El problema de la parada para máquinas de Turing busca determinar si una máquina de Turing específica, con una entrada determinada, terminará sus cálculos en un número finito de pasos. En 1936, Alan Turing demostró que este problema es indecidible, lo que significa que no existe ninguna máquina de Turing que pueda resolverlo para todos los casos posibles. Esta indecidibilidad implica que no hay un algoritmo que pueda determinar de manera confiable si una máquina de Turing en particular se detendrá o se ejecutará indefinidamente para una entrada dada.\n",
    "- like this one, but long\n",
    "\n",
    "El Problema de Parada para Máquinas de Turing plantea el problema de determinar si una máquina de Turing, dada una palabra de entrada, terminará su ejecución en un número finito de pasos. Alan Turing demostró que este problema es indecidible, es decir, no existe una máquina de Turing que pueda resolverlo. En otras palabras, no hay ningún algoritmo que pueda determinar si una máquina de Turing determinada se detendrá o continuará ejecutándose indefinidamente para una entrada dada. Esto tiene implicaciones significativas para la teoría de la computación, ya que demuestra los límites de lo que las máquinas de Turing pueden calcular.\n",
    "- \"a problem plants a problem\" :)\n",
    "\n",
    "**\"in brief paragraph form\"**\n",
    "\n",
    "El problema de la detención establece que es imposible determinar si una máquina de Turing con una entrada dada se detendrá o se ejecutará indefinidamente. Alan Turing demostró que es un problema indecidible, lo que significa que no existe una máquina de Turing que pueda resolverlo en todos los casos. Esto tiene implicaciones significativas para la teoría de la computación y la inteligencia artificial, ya que demuestra que existen ciertos problemas inherentemente irresolubles para las computadoras.\n",
    "- like this one, correct tone/ feeling\n",
    "\n",
    "El problema de la parada para las máquinas de Turing es indecidible, lo que significa que no existe una máquina de Turing que pueda determinar si una máquina dada se detendrá en un número finito de pasos para una palabra de entrada determinada. Esto fue demostrado por Alan Turing en su artículo \"On Computable Numbers, with an Application to the Entscheidungsproblem\" (1936), lo que implica que la decisión de si un cálculo se detendrá o se ejecutará indefinidamente es esencialmente no computable.\n",
    "- like this one, too"
   ]
  },
  {
   "cell_type": "markdown",
   "metadata": {},
   "source": [
    "##### Prompt 4: Spanish"
   ]
  },
  {
   "cell_type": "code",
   "execution_count": 22,
   "metadata": {},
   "outputs": [],
   "source": [
    "prompt = \"Simplifica este párrafo usando un párrafo: \""
   ]
  },
  {
   "cell_type": "code",
   "execution_count": 24,
   "metadata": {},
   "outputs": [
    {
     "name": "stdout",
     "output_type": "stream",
     "text": [
      "El problema de la parada para máquinas de Turing busca determinar si una máquina de Turing particular se detendrá o no después de un número finito de pasos cuando se le da una entrada específica. Alan Turing demostró que este problema es indecidible, lo que significa que no esiste ningún algoritmo que pueda predecir el resultado para todos los casos posibles.\n"
     ]
    }
   ],
   "source": [
    "print(gen_out(prompt + text))"
   ]
  },
  {
   "cell_type": "markdown",
   "metadata": {},
   "source": [
    "**Simplifica este párrafo**\n",
    "Determinar si una Máquina de Turing se detendrá después de un número finito de pasos (problema de la detención) es imposible (indecidible) porque ninguna Máquina de Turing puede resolverlo.\n",
    "\n",
    "**... usando un párrafo**\n",
    "El problema de la parada establece que no existe una Máquina de Turing que pueda determinar si cualquier otra Máquina de Turing, con una palabra de entrada dada, se parará o continuará ejecutándose indefinidamente. Este problema es indecidible, lo que significa que no puede ser resuelto por ninguna máquina algorítmica.\n",
    "- good summary, lacks credit\n",
    "\n",
    "El problema de la parada para máquinas de Turing busca determinar si una máquina de Turing particular se detendrá o no después de un número finito de pasos cuando se le da una entrada específica. Alan Turing demostró que este problema es indecidible, lo que significa que no esiste ningún algoritmo que pueda predecir el resultado para todos los casos posibles.\n",
    "- decent"
   ]
  },
  {
   "cell_type": "markdown",
   "metadata": {},
   "source": [
    "#### Simplify conclusion:\n",
    "- Use Spanish prompt for default simplify\n",
    "- Use paraphrase prompt for simpler simplify\n",
    "#### Other:\n",
    "- Simplifying simplify\n",
    "- Translate + simplify\n",
    "- Possibly translate, not much of an issue"
   ]
  }
 ],
 "metadata": {
  "kernelspec": {
   "display_name": "env",
   "language": "python",
   "name": "python3"
  },
  "language_info": {
   "codemirror_mode": {
    "name": "ipython",
    "version": 3
   },
   "file_extension": ".py",
   "mimetype": "text/x-python",
   "name": "python",
   "nbconvert_exporter": "python",
   "pygments_lexer": "ipython3",
   "version": "3.11.4"
  }
 },
 "nbformat": 4,
 "nbformat_minor": 2
}
